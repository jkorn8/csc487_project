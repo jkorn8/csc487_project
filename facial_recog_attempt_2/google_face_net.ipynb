{
 "cells": [
  {
   "cell_type": "code",
   "execution_count": 15,
   "metadata": {
    "collapsed": true
   },
   "outputs": [
    {
     "name": "stdout",
     "output_type": "stream",
     "text": [
      "\u001B[33mDEPRECATION: Loading egg at /Library/Frameworks/Python.framework/Versions/3.11/lib/python3.11/site-packages/selenium-3.141.0-py3.11.egg is deprecated. pip 24.3 will enforce this behaviour change. A possible replacement is to use pip for package installation.. Discussion can be found at https://github.com/pypa/pip/issues/12330\u001B[0m\u001B[33m\r\n",
      "\u001B[0mCollecting git+https://github.com/rcmalli/keras-vggface\r\n",
      "  Cloning https://github.com/rcmalli/keras-vggface to /private/var/folders/bw/1bfrvhqx5nn13g93k5hth9mr0000gn/T/pip-req-build-cpu2er51\r\n",
      "  Running command git clone --filter=blob:none --quiet https://github.com/rcmalli/keras-vggface /private/var/folders/bw/1bfrvhqx5nn13g93k5hth9mr0000gn/T/pip-req-build-cpu2er51\r\n",
      "  Resolved https://github.com/rcmalli/keras-vggface to commit bee35376e76e35d00aeec503f2f242611a97b38a\r\n",
      "  Preparing metadata (setup.py) ... \u001B[?25ldone\r\n",
      "\u001B[?25hRequirement already satisfied: numpy>=1.9.1 in /Library/Frameworks/Python.framework/Versions/3.11/lib/python3.11/site-packages (from keras-vggface==0.6) (1.25.1)\r\n",
      "Requirement already satisfied: scipy>=0.14 in /Library/Frameworks/Python.framework/Versions/3.11/lib/python3.11/site-packages (from keras-vggface==0.6) (1.12.0)\r\n",
      "Requirement already satisfied: h5py in /Library/Frameworks/Python.framework/Versions/3.11/lib/python3.11/site-packages (from keras-vggface==0.6) (3.10.0)\r\n",
      "Requirement already satisfied: pillow in /Library/Frameworks/Python.framework/Versions/3.11/lib/python3.11/site-packages (from keras-vggface==0.6) (10.1.0)\r\n",
      "Requirement already satisfied: keras in /Library/Frameworks/Python.framework/Versions/3.11/lib/python3.11/site-packages (from keras-vggface==0.6) (2.15.0)\r\n",
      "Requirement already satisfied: six>=1.9.0 in /Library/Frameworks/Python.framework/Versions/3.11/lib/python3.11/site-packages (from keras-vggface==0.6) (1.16.0)\r\n",
      "Requirement already satisfied: pyyaml in /Library/Frameworks/Python.framework/Versions/3.11/lib/python3.11/site-packages (from keras-vggface==0.6) (6.0.1)\r\n"
     ]
    }
   ],
   "source": [
    "!pip install git+https://github.com/rcmalli/keras-vggface"
   ]
  },
  {
   "cell_type": "code",
   "execution_count": 16,
   "outputs": [
    {
     "name": "stdout",
     "output_type": "stream",
     "text": [
      "\u001B[33mDEPRECATION: Loading egg at /Library/Frameworks/Python.framework/Versions/3.11/lib/python3.11/site-packages/selenium-3.141.0-py3.11.egg is deprecated. pip 24.3 will enforce this behaviour change. A possible replacement is to use pip for package installation.. Discussion can be found at https://github.com/pypa/pip/issues/12330\u001B[0m\u001B[33m\r\n",
      "\u001B[0mRequirement already satisfied: keras_applications in /Library/Frameworks/Python.framework/Versions/3.11/lib/python3.11/site-packages (1.0.8)\r\n",
      "Requirement already satisfied: numpy>=1.9.1 in /Library/Frameworks/Python.framework/Versions/3.11/lib/python3.11/site-packages (from keras_applications) (1.25.1)\r\n",
      "Requirement already satisfied: h5py in /Library/Frameworks/Python.framework/Versions/3.11/lib/python3.11/site-packages (from keras_applications) (3.10.0)\r\n"
     ]
    }
   ],
   "source": [
    "!pip install keras_applications"
   ],
   "metadata": {
    "collapsed": false
   }
  },
  {
   "cell_type": "code",
   "execution_count": 18,
   "outputs": [
    {
     "name": "stdout",
     "output_type": "stream",
     "text": [
      "\u001B[33mDEPRECATION: Loading egg at /Library/Frameworks/Python.framework/Versions/3.11/lib/python3.11/site-packages/selenium-3.141.0-py3.11.egg is deprecated. pip 24.3 will enforce this behaviour change. A possible replacement is to use pip for package installation.. Discussion can be found at https://github.com/pypa/pip/issues/12330\u001B[0m\u001B[33m\r\n",
      "\u001B[0mCollecting mtcnn\r\n",
      "  Downloading mtcnn-0.1.1-py3-none-any.whl.metadata (5.8 kB)\r\n",
      "Requirement already satisfied: keras>=2.0.0 in /Library/Frameworks/Python.framework/Versions/3.11/lib/python3.11/site-packages (from mtcnn) (2.15.0)\r\n",
      "Requirement already satisfied: opencv-python>=4.1.0 in /Library/Frameworks/Python.framework/Versions/3.11/lib/python3.11/site-packages (from mtcnn) (4.9.0.80)\r\n",
      "Requirement already satisfied: numpy>=1.21.2 in /Library/Frameworks/Python.framework/Versions/3.11/lib/python3.11/site-packages (from opencv-python>=4.1.0->mtcnn) (1.25.1)\r\n",
      "Downloading mtcnn-0.1.1-py3-none-any.whl (2.3 MB)\r\n",
      "\u001B[2K   \u001B[90m━━━━━━━━━━━━━━━━━━━━━━━━━━━━━━━━━━━━━━━━\u001B[0m \u001B[32m2.3/2.3 MB\u001B[0m \u001B[31m10.9 MB/s\u001B[0m eta \u001B[36m0:00:00\u001B[0m00:01\u001B[0m00:01\u001B[0m\r\n",
      "\u001B[?25hInstalling collected packages: mtcnn\r\n",
      "Successfully installed mtcnn-0.1.1\r\n"
     ]
    }
   ],
   "source": [
    "!pip install mtcnn"
   ],
   "metadata": {
    "collapsed": false
   }
  },
  {
   "cell_type": "code",
   "execution_count": 24,
   "outputs": [
    {
     "data": {
      "text/plain": "['/Applications/PyCharm.app/Contents/plugins/python/helpers-pro/jupyter_debug',\n '/Applications/PyCharm.app/Contents/plugins/python/helpers/pydev',\n '/Users/joshkorngiebel/Desktop/Cal Poly/CSC 487/csc487_project/facial_recog_attempt_2',\n '/Users/joshkorngiebel/Desktop/Cal Poly/CSC 487/csc487_project',\n '/Library/Frameworks/Python.framework/Versions/3.11/lib/python311.zip',\n '/Library/Frameworks/Python.framework/Versions/3.11/lib/python3.11',\n '/Library/Frameworks/Python.framework/Versions/3.11/lib/python3.11/lib-dynload',\n '',\n '/Library/Frameworks/Python.framework/Versions/3.11/lib/python3.11/site-packages',\n '/Library/Frameworks/Python.framework/Versions/3.11/lib/python3.11/site-packages/selenium-3.141.0-py3.11.egg']"
     },
     "execution_count": 24,
     "metadata": {},
     "output_type": "execute_result"
    }
   ],
   "source": [
    "import sys\n",
    "sys.path"
   ],
   "metadata": {
    "collapsed": false
   }
  },
  {
   "cell_type": "code",
   "execution_count": 4,
   "outputs": [
    {
     "ename": "ImportError",
     "evalue": "cannot import name 'layer_utils' from 'keras.utils' (/Library/Frameworks/Python.framework/Versions/3.11/lib/python3.11/site-packages/keras/utils/__init__.py)",
     "output_type": "error",
     "traceback": [
      "\u001B[0;31m---------------------------------------------------------------------------\u001B[0m",
      "\u001B[0;31mImportError\u001B[0m                               Traceback (most recent call last)",
      "Cell \u001B[0;32mIn[4], line 3\u001B[0m\n\u001B[1;32m      1\u001B[0m \u001B[38;5;28;01mimport\u001B[39;00m \u001B[38;5;21;01mtensorflow\u001B[39;00m \u001B[38;5;28;01mas\u001B[39;00m \u001B[38;5;21;01mtf\u001B[39;00m\n\u001B[1;32m      2\u001B[0m \u001B[38;5;28;01mimport\u001B[39;00m \u001B[38;5;21;01mkeras\u001B[39;00m\n\u001B[0;32m----> 3\u001B[0m \u001B[38;5;28;01mimport\u001B[39;00m \u001B[38;5;21;01mkeras_vggface\u001B[39;00m\n\u001B[1;32m      4\u001B[0m \u001B[38;5;28;01mfrom\u001B[39;00m \u001B[38;5;21;01mkeras_vggface\u001B[39;00m\u001B[38;5;21;01m.\u001B[39;00m\u001B[38;5;21;01mvggface\u001B[39;00m \u001B[38;5;28;01mimport\u001B[39;00m VGGFace\n\u001B[1;32m      5\u001B[0m \u001B[38;5;28;01mimport\u001B[39;00m \u001B[38;5;21;01mmtcnn\u001B[39;00m\n",
      "File \u001B[0;32m/Library/Frameworks/Python.framework/Versions/3.11/lib/python3.11/site-packages/keras_vggface/__init__.py:1\u001B[0m\n\u001B[0;32m----> 1\u001B[0m \u001B[38;5;28;01mfrom\u001B[39;00m \u001B[38;5;21;01mkeras_vggface\u001B[39;00m\u001B[38;5;21;01m.\u001B[39;00m\u001B[38;5;21;01mvggface\u001B[39;00m \u001B[38;5;28;01mimport\u001B[39;00m VGGFace\n\u001B[1;32m      2\u001B[0m \u001B[38;5;28;01mfrom\u001B[39;00m \u001B[38;5;21;01mkeras_vggface\u001B[39;00m\u001B[38;5;21;01m.\u001B[39;00m\u001B[38;5;21;01mversion\u001B[39;00m \u001B[38;5;28;01mimport\u001B[39;00m __version__\n",
      "File \u001B[0;32m/Library/Frameworks/Python.framework/Versions/3.11/lib/python3.11/site-packages/keras_vggface/vggface.py:9\u001B[0m\n\u001B[1;32m      1\u001B[0m \u001B[38;5;124;03m'''VGGFace models for Keras.\u001B[39;00m\n\u001B[1;32m      2\u001B[0m \n\u001B[1;32m      3\u001B[0m \u001B[38;5;124;03m# Reference:\u001B[39;00m\n\u001B[0;32m   (...)\u001B[0m\n\u001B[1;32m      6\u001B[0m \n\u001B[1;32m      7\u001B[0m \u001B[38;5;124;03m'''\u001B[39;00m\n\u001B[1;32m      8\u001B[0m \u001B[38;5;28;01mfrom\u001B[39;00m \u001B[38;5;21;01m__future__\u001B[39;00m \u001B[38;5;28;01mimport\u001B[39;00m print_function\n\u001B[0;32m----> 9\u001B[0m \u001B[38;5;28;01mfrom\u001B[39;00m \u001B[38;5;21;01mkeras_vggface\u001B[39;00m\u001B[38;5;21;01m.\u001B[39;00m\u001B[38;5;21;01mmodels\u001B[39;00m \u001B[38;5;28;01mimport\u001B[39;00m RESNET50, VGG16, SENET50\n\u001B[1;32m     12\u001B[0m \u001B[38;5;28;01mdef\u001B[39;00m \u001B[38;5;21mVGGFace\u001B[39m(include_top\u001B[38;5;241m=\u001B[39m\u001B[38;5;28;01mTrue\u001B[39;00m, model\u001B[38;5;241m=\u001B[39m\u001B[38;5;124m'\u001B[39m\u001B[38;5;124mvgg16\u001B[39m\u001B[38;5;124m'\u001B[39m, weights\u001B[38;5;241m=\u001B[39m\u001B[38;5;124m'\u001B[39m\u001B[38;5;124mvggface\u001B[39m\u001B[38;5;124m'\u001B[39m,\n\u001B[1;32m     13\u001B[0m             input_tensor\u001B[38;5;241m=\u001B[39m\u001B[38;5;28;01mNone\u001B[39;00m, input_shape\u001B[38;5;241m=\u001B[39m\u001B[38;5;28;01mNone\u001B[39;00m,\n\u001B[1;32m     14\u001B[0m             pooling\u001B[38;5;241m=\u001B[39m\u001B[38;5;28;01mNone\u001B[39;00m,\n\u001B[1;32m     15\u001B[0m             classes\u001B[38;5;241m=\u001B[39m\u001B[38;5;28;01mNone\u001B[39;00m):\n\u001B[1;32m     16\u001B[0m \u001B[38;5;250m    \u001B[39m\u001B[38;5;124;03m\"\"\"Instantiates the VGGFace architectures.\u001B[39;00m\n\u001B[1;32m     17\u001B[0m \u001B[38;5;124;03m    Optionally loads weights pre-trained\u001B[39;00m\n\u001B[1;32m     18\u001B[0m \u001B[38;5;124;03m    on VGGFace datasets. Note that when using TensorFlow,\u001B[39;00m\n\u001B[0;32m   (...)\u001B[0m\n\u001B[1;32m     60\u001B[0m \u001B[38;5;124;03m            or invalid input shape.\u001B[39;00m\n\u001B[1;32m     61\u001B[0m \u001B[38;5;124;03m    \"\"\"\u001B[39;00m\n",
      "File \u001B[0;32m/Library/Frameworks/Python.framework/Versions/3.11/lib/python3.11/site-packages/keras_vggface/models.py:16\u001B[0m\n\u001B[1;32m     12\u001B[0m \u001B[38;5;28;01mfrom\u001B[39;00m \u001B[38;5;21;01mkeras\u001B[39;00m\u001B[38;5;21;01m.\u001B[39;00m\u001B[38;5;21;01mlayers\u001B[39;00m \u001B[38;5;28;01mimport\u001B[39;00m Flatten, Dense, Input, GlobalAveragePooling2D, \\\n\u001B[1;32m     13\u001B[0m     GlobalMaxPooling2D, Activation, Conv2D, MaxPooling2D, BatchNormalization, \\\n\u001B[1;32m     14\u001B[0m     AveragePooling2D, Reshape, Permute, multiply\n\u001B[1;32m     15\u001B[0m \u001B[38;5;28;01mfrom\u001B[39;00m \u001B[38;5;21;01mkeras_applications\u001B[39;00m\u001B[38;5;21;01m.\u001B[39;00m\u001B[38;5;21;01mimagenet_utils\u001B[39;00m \u001B[38;5;28;01mimport\u001B[39;00m _obtain_input_shape\n\u001B[0;32m---> 16\u001B[0m \u001B[38;5;28;01mfrom\u001B[39;00m \u001B[38;5;21;01mkeras\u001B[39;00m\u001B[38;5;21;01m.\u001B[39;00m\u001B[38;5;21;01mutils\u001B[39;00m \u001B[38;5;28;01mimport\u001B[39;00m layer_utils\n\u001B[1;32m     17\u001B[0m \u001B[38;5;28;01mfrom\u001B[39;00m \u001B[38;5;21;01mkeras\u001B[39;00m\u001B[38;5;21;01m.\u001B[39;00m\u001B[38;5;21;01mutils\u001B[39;00m\u001B[38;5;21;01m.\u001B[39;00m\u001B[38;5;21;01mdata_utils\u001B[39;00m \u001B[38;5;28;01mimport\u001B[39;00m get_file\n\u001B[1;32m     18\u001B[0m \u001B[38;5;28;01mfrom\u001B[39;00m \u001B[38;5;21;01mkeras\u001B[39;00m \u001B[38;5;28;01mimport\u001B[39;00m backend \u001B[38;5;28;01mas\u001B[39;00m K\n",
      "\u001B[0;31mImportError\u001B[0m: cannot import name 'layer_utils' from 'keras.utils' (/Library/Frameworks/Python.framework/Versions/3.11/lib/python3.11/site-packages/keras/utils/__init__.py)"
     ]
    }
   ],
   "source": [
    "import tensorflow as tf\n",
    "import keras\n",
    "import keras_vggface\n",
    "from keras_vggface.vggface import VGGFace\n",
    "import mtcnn\n",
    "import numpy as np\n",
    "import matplotlib as mpl\n",
    "from keras.utils import get_file\n",
    "import keras_vggface.utils\n",
    "import PIL\n",
    "import os\n",
    "import os.path"
   ],
   "metadata": {
    "collapsed": false
   }
  },
  {
   "cell_type": "code",
   "execution_count": 5,
   "outputs": [
    {
     "ename": "NameError",
     "evalue": "name 'VGGFace' is not defined",
     "output_type": "error",
     "traceback": [
      "\u001B[0;31m---------------------------------------------------------------------------\u001B[0m",
      "\u001B[0;31mNameError\u001B[0m                                 Traceback (most recent call last)",
      "Cell \u001B[0;32mIn[5], line 1\u001B[0m\n\u001B[0;32m----> 1\u001B[0m vggface \u001B[38;5;241m=\u001B[39m \u001B[43mVGGFace\u001B[49m(model\u001B[38;5;241m=\u001B[39m\u001B[38;5;124m'\u001B[39m\u001B[38;5;124mvgg16\u001B[39m\u001B[38;5;124m'\u001B[39m)\n\u001B[1;32m      2\u001B[0m vggface_resnet \u001B[38;5;241m=\u001B[39m VGGFace(model\u001B[38;5;241m=\u001B[39m\u001B[38;5;124m'\u001B[39m\u001B[38;5;124mresnet50\u001B[39m\u001B[38;5;124m'\u001B[39m)\n\u001B[1;32m      3\u001B[0m vggface_senet \u001B[38;5;241m=\u001B[39m VGGFace(model\u001B[38;5;241m=\u001B[39m\u001B[38;5;124m'\u001B[39m\u001B[38;5;124msenet50\u001B[39m\u001B[38;5;124m'\u001B[39m)\n",
      "\u001B[0;31mNameError\u001B[0m: name 'VGGFace' is not defined"
     ]
    }
   ],
   "source": [
    "vggface = VGGFace(model='vgg16')\n",
    "vggface_resnet = VGGFace(model='resnet50')\n",
    "vggface_senet = VGGFace(model='senet50')"
   ],
   "metadata": {
    "collapsed": false
   }
  },
  {
   "cell_type": "code",
   "execution_count": null,
   "outputs": [],
   "source": [
    "scalia_photo = mpl.image.imread('public_images/scalia.jpg')\n",
    "\n",
    "face_detector = mtcnn.MTCNN()\n",
    "face_roi = face_detector.detect_faces(scalia_photo)"
   ],
   "metadata": {
    "collapsed": false
   }
  },
  {
   "cell_type": "code",
   "execution_count": null,
   "outputs": [],
   "source": [
    "x1, y1, width, height = face_roi[0]['box']\n",
    "x2, y2 = x1 + width, y1 + height\n",
    "face = scalia_photo[y1:y2, x1:x2]\n",
    "print(face.shape)"
   ],
   "metadata": {
    "collapsed": false
   }
  },
  {
   "cell_type": "code",
   "execution_count": null,
   "outputs": [],
   "source": [
    "mpl.pyplot.imshow(scalia_photo)\n",
    "mpl.pyplot.show()"
   ],
   "metadata": {
    "collapsed": false
   }
  },
  {
   "cell_type": "code",
   "execution_count": null,
   "outputs": [],
   "source": [
    "predictions = vggface_resnet.predict(samples)"
   ],
   "metadata": {
    "collapsed": false
   }
  },
  {
   "cell_type": "code",
   "execution_count": null,
   "outputs": [],
   "source": [
    "predictions, predictions.shape"
   ],
   "metadata": {
    "collapsed": false
   }
  },
  {
   "cell_type": "code",
   "execution_count": null,
   "outputs": [],
   "source": [
    "names = keras_vggface.utils.decode_predictions(predictions)\n",
    "names"
   ],
   "metadata": {
    "collapsed": false
   }
  }
 ],
 "metadata": {
  "kernelspec": {
   "display_name": "Python 3",
   "language": "python",
   "name": "python3"
  },
  "language_info": {
   "codemirror_mode": {
    "name": "ipython",
    "version": 2
   },
   "file_extension": ".py",
   "mimetype": "text/x-python",
   "name": "python",
   "nbconvert_exporter": "python",
   "pygments_lexer": "ipython2",
   "version": "2.7.6"
  }
 },
 "nbformat": 4,
 "nbformat_minor": 0
}
