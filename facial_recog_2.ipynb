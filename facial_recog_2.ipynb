{
 "cells": [
  {
   "cell_type": "code",
   "execution_count": 1,
   "outputs": [],
   "source": [
    "import os\n",
    "import tensorflow as tf\n",
    "from tensorflow.keras import layers, models\n",
    "import cv2\n",
    "from face_tracking import data_collection\n",
    "import numpy as np\n",
    "import random\n",
    "import albumentations as alb\n",
    "import matplotlib.pyplot as plt\n",
    "import time\n",
    "from helpers import display_progressbar"
   ],
   "metadata": {
    "collapsed": false,
    "ExecuteTime": {
     "end_time": "2024-02-29T06:28:35.043336Z",
     "start_time": "2024-02-29T06:28:28.184435Z"
    }
   }
  },
  {
   "cell_type": "markdown",
   "source": [
    "#### Configure GPU for training"
   ],
   "metadata": {
    "collapsed": false
   }
  },
  {
   "cell_type": "code",
   "outputs": [],
   "source": [
    "# To use GPU, use google colab :(\n",
    "\n",
    "#gpus = tf.config.list_physical_devices('GPU')\n",
    "#print(gpus)\n",
    "#for gpu in gpus:\n",
    "#    tf.config.experimental.set_memory_growth(gpu, True)"
   ],
   "metadata": {
    "collapsed": false,
    "ExecuteTime": {
     "end_time": "2024-02-29T06:28:35.047328Z",
     "start_time": "2024-02-29T06:28:35.044520Z"
    }
   },
   "execution_count": 2
  },
  {
   "cell_type": "markdown",
   "source": [
    "#### Set paths Global Variables and get Face Detector"
   ],
   "metadata": {
    "collapsed": false
   }
  },
  {
   "cell_type": "code",
   "execution_count": 3,
   "outputs": [],
   "source": [
    "CELEB_ORIG_PATH = os.path.join('data', 'img_align_celeba')\n",
    "UNKNOWN_FACES_PATH = os.path.join('data', 'unknown_faces')\n",
    "KNOWN_FACES_PATH = os.path.join('data', 'known_faces')\n",
    "KNOWN_FACE_PATH = os.path.join(KNOWN_FACES_PATH, 'stephen') # Change path for different identities\n",
    "\n",
    "NUM_UNKNOWN_IMAGES = 10000\n",
    "\n",
    "PERCENT_TRAINING = 80\n",
    "PERCENT_TESTING = 10\n",
    "PERCENT_VALIDATION = 10\n",
    "NUM_AUGMENTATIONS_PER_IMAGE = 50\n",
    "MODEL_INPUT_IMAGE_DIMENSIONS = (100, 100)\n",
    "NUM_EPOCHS = 50\n",
    "\n",
    "Face_Detector = cv2.dnn.readNetFromCaffe(\"do_not_delete/deploy.prototxt.txt\",\n",
    "                                             \"do_not_delete/res10_300x300_ssd_iter_140000.caffemodel\")"
   ],
   "metadata": {
    "collapsed": false,
    "ExecuteTime": {
     "end_time": "2024-02-29T06:28:35.059314Z",
     "start_time": "2024-02-29T06:28:35.047155Z"
    }
   }
  },
  {
   "cell_type": "markdown",
   "source": [
    "#### Process, Crop, and move celebrety faces to unknown faces path"
   ],
   "metadata": {
    "collapsed": false
   }
  },
  {
   "cell_type": "code",
   "outputs": [],
   "source": [
    "def process_unknown_faces():\n",
    "    t_orig = time.time()\n",
    "    total_photos = len(os.listdir(CELEB_ORIG_PATH))\n",
    "    total_processed = 0\n",
    "    t = time.time()\n",
    "    exceptions = []\n",
    "    print(\"Processing {} photos...\".format(total_photos))\n",
    "    for face in os.listdir(CELEB_ORIG_PATH):\n",
    "        if str.endswith(face, '.jpg'):\n",
    "            image = cv2.imread(str(os.path.join(CELEB_ORIG_PATH, face)))\n",
    "        \n",
    "            (h, w) = image.shape[:2]\n",
    "\n",
    "            blob = cv2.dnn.blobFromImage(cv2.resize(image, (300, 300)), 1.0, (300, 300), (104.0, 177.0, 123.0))\n",
    "\n",
    "            Face_Detector.setInput(blob)\n",
    "            detections = Face_Detector.forward()\n",
    "\n",
    "            confidence = -1\n",
    "            i = 0\n",
    "            for j in range(0, detections.shape[2]):\n",
    "                if detections[0, 0, j, 2] > confidence:\n",
    "                    confidence = detections[0, 0, j, 2]\n",
    "                    i = j\n",
    "\n",
    "            if confidence > .9:\n",
    "                box = detections[0, 0, i, 3:7] * np.array([w, h, w, h])\n",
    "                (startX, startY, endX, endY) = box.astype(\"int\")\n",
    "                try:\n",
    "                    image = cv2.resize(image[max(startY, 0):endY, max(startX, 0):endX], \n",
    "                                    MODEL_INPUT_IMAGE_DIMENSIONS, \n",
    "                                    interpolation=cv2.INTER_LINEAR)\n",
    "                    if not cv2.imwrite(str(os.path.join(UNKNOWN_FACES_PATH, face)), image):\n",
    "                        print(\"FAILED !!!!!\")\n",
    "                except Exception as e:\n",
    "                    exceptions.append(e)\n",
    "            total_processed += 1\n",
    "            t = display_progressbar(t1=t, t_orig=t_orig, total_photos=total_photos, total_processed=total_processed)\n",
    "        \n",
    "    print(\"\\r\\nDone!\")\n",
    "    if len(exceptions) > 0:\n",
    "        print(\"Some exceptions occurred:\")\n",
    "        for e in exceptions:\n",
    "            print(e)"
   ],
   "metadata": {
    "collapsed": false,
    "ExecuteTime": {
     "end_time": "2024-02-29T06:28:35.066114Z",
     "start_time": "2024-02-29T06:28:35.062342Z"
    }
   },
   "execution_count": 4
  },
  {
   "cell_type": "code",
   "outputs": [
    {
     "name": "stdout",
     "output_type": "stream",
     "text": [
      "Found files in directory already. To rerun, please empty data/unknown_faces\n"
     ]
    }
   ],
   "source": [
    "if len(os.listdir(UNKNOWN_FACES_PATH)) > 0:\n",
    "    print(\"Found files in directory already. To rerun, please empty \" + UNKNOWN_FACES_PATH)\n",
    "else:\n",
    "    process_unknown_faces()    "
   ],
   "metadata": {
    "collapsed": false,
    "ExecuteTime": {
     "end_time": "2024-02-29T06:28:35.313121Z",
     "start_time": "2024-02-29T06:28:35.065014Z"
    }
   },
   "execution_count": 5
  },
  {
   "cell_type": "markdown",
   "source": [
    "#### Capture, crop, and process images of target face"
   ],
   "metadata": {
    "collapsed": false
   }
  },
  {
   "cell_type": "code",
   "outputs": [
    {
     "name": "stdout",
     "output_type": "stream",
     "text": [
      "Found files in directory already. To rerun, please empty data/known_faces/stephen\n"
     ]
    }
   ],
   "source": [
    "if len(os.listdir(KNOWN_FACE_PATH)) > 0:\n",
    "    print(\"Found files in directory already. To rerun, please empty \" + KNOWN_FACE_PATH)\n",
    "else:\n",
    "    data_collection(KNOWN_FACE_PATH, 10000)"
   ],
   "metadata": {
    "collapsed": false,
    "ExecuteTime": {
     "end_time": "2024-02-29T06:28:35.314478Z",
     "start_time": "2024-02-29T06:28:35.312941Z"
    }
   },
   "execution_count": 6
  },
  {
   "cell_type": "markdown",
   "source": [
    "#### Define data preprosessor functions"
   ],
   "metadata": {
    "collapsed": false
   }
  },
  {
   "cell_type": "code",
   "outputs": [],
   "source": [
    "def preprocess(file_path):\n",
    "\n",
    "    # Read in image from file path\n",
    "    byte_img = tf.io.read_file(file_path)\n",
    "    # Load in the image\n",
    "    img = tf.io.decode_jpeg(byte_img)\n",
    "    \n",
    "    # Preprocessing steps - resizing the image to be 100x100x3\n",
    "    img = tf.image.resize(img, MODEL_INPUT_IMAGE_DIMENSIONS)\n",
    "    # Scale image to be between 0 and 1\n",
    "    img = img / 255.0\n",
    "    #Convert to numpy array\n",
    "    img = np.array(img)\n",
    "\n",
    "    # Return image\n",
    "    return img"
   ],
   "metadata": {
    "collapsed": false,
    "ExecuteTime": {
     "end_time": "2024-02-29T06:28:35.314790Z",
     "start_time": "2024-02-29T06:28:35.313081Z"
    }
   },
   "execution_count": 7
  },
  {
   "cell_type": "code",
   "outputs": [],
   "source": [
    "def get_distribution_array(size, percent_training, percent_validation, percent_testing):\n",
    "    # Training is 0\n",
    "    # Validation is 1\n",
    "    # Testing is 2\n",
    "    if percent_training <= 0 or percent_validation <= 0 or percent_testing <= 0 or percent_training + percent_validation + percent_testing > 100:\n",
    "        raise ValueError('percent_training, percent_validation, and percent_testing must add to 100')\n",
    "    number_of_0s = int((size * percent_training) // 1)\n",
    "    number_of_1s = int((size * percent_validation) // 1)\n",
    "    number_of_2s = int((size * percent_testing) // 1)\n",
    "    arr = [0] * (number_of_0s) + [1] * (number_of_1s) + [2] * number_of_2s\n",
    "    while len(arr) < size:\n",
    "        arr.append(0)\n",
    "    random.shuffle(arr)\n",
    "    return arr"
   ],
   "metadata": {
    "collapsed": false,
    "ExecuteTime": {
     "end_time": "2024-02-29T06:28:35.315097Z",
     "start_time": "2024-02-29T06:28:35.313135Z"
    }
   },
   "execution_count": 8
  },
  {
   "cell_type": "code",
   "outputs": [],
   "source": [
    "def shuffle_arrays_in_sync(l1, l2):\n",
    "    if len(l1) != len(l2):\n",
    "        raise ValueError(\"Arrays must be same length\")\n",
    "    arr = []\n",
    "    l1_final = [0]*len(l1)\n",
    "    l2_final = [0]*len(l2)\n",
    "    for i in range(len(l1)):\n",
    "        arr.append(i)\n",
    "    for i in range(len(l1)):\n",
    "        j = random.randint(0, len(arr)-1)\n",
    "        k = arr.pop(j)\n",
    "        l1_final[i] = l1[k]\n",
    "        l2_final[i] = l2[k]\n",
    "    return l1_final, l2_final"
   ],
   "metadata": {
    "collapsed": false,
    "ExecuteTime": {
     "end_time": "2024-02-29T06:28:35.315829Z",
     "start_time": "2024-02-29T06:28:35.313166Z"
    }
   },
   "execution_count": 9
  },
  {
   "cell_type": "markdown",
   "source": [
    "#### Partition Unaugmented Data"
   ],
   "metadata": {
    "collapsed": false
   }
  },
  {
   "cell_type": "code",
   "outputs": [
    {
     "name": "stdout",
     "output_type": "stream",
     "text": [
      "Processing 5041 known faces...\n",
      "5041/5041 [==============================] - ETA: 0:00\r\n",
      "Done!\n",
      "Processing 10000 unknown faces...\n",
      "10000/10000 [==============================] - ETA: 0:00\r\n",
      "Done!\n"
     ]
    }
   ],
   "source": [
    "known_faces_dir = os.listdir(KNOWN_FACE_PATH)\n",
    "unknown_faces_dir = os.listdir(UNKNOWN_FACES_PATH)\n",
    "num_known_faces = len(known_faces_dir)\n",
    "nun_unknown_faces = len(unknown_faces_dir)\n",
    "\n",
    "process_known_face = get_distribution_array(num_known_faces, percent_training=PERCENT_TRAINING, percent_testing=PERCENT_TESTING, percent_validation=PERCENT_VALIDATION)\n",
    "process_unknown_face = get_distribution_array(nun_unknown_faces, percent_training=PERCENT_TRAINING, percent_testing=PERCENT_TESTING, percent_validation=PERCENT_VALIDATION)\n",
    "\n",
    "(training_images, training_labels), (test_images, test_labels), (val_images, val_labels) = ([], []), ([], []), ([], [])\n",
    "\n",
    "t_orig = time.time()\n",
    "total_photos = len(known_faces_dir)\n",
    "total_processed = 0\n",
    "t = time.time()\n",
    "print(\"Processing {} known faces...\".format(total_photos))\n",
    "for i in range(len(known_faces_dir)):\n",
    "    if process_known_face[i] == 0:\n",
    "        training_images.append(preprocess(os.path.join(KNOWN_FACE_PATH, known_faces_dir[i])))\n",
    "        training_labels.append(1)\n",
    "    elif process_known_face[i] == 1:\n",
    "        val_images.append(preprocess(os.path.join(KNOWN_FACE_PATH, known_faces_dir[i])))\n",
    "        val_labels.append(1)\n",
    "    else:\n",
    "        test_images.append(preprocess(os.path.join(KNOWN_FACE_PATH, known_faces_dir[i])))\n",
    "        test_labels.append(1)\n",
    "    total_processed += 1\n",
    "    t = display_progressbar(t1=t, t_orig=t_orig, total_photos=total_photos, total_processed=total_processed)\n",
    "display_progressbar(t1=10, t_orig=0, total_photos=total_photos, total_processed=total_photos)\n",
    "print(\"\\r\\nDone!\")\n",
    "\n",
    "t_orig = time.time()\n",
    "total_photos = NUM_UNKNOWN_IMAGES\n",
    "total_processed = 0\n",
    "t = time.time()\n",
    "print(\"Processing {} unknown faces...\".format(total_photos))\n",
    "for i in range(len(unknown_faces_dir)):\n",
    "    if i > NUM_UNKNOWN_IMAGES:\n",
    "        break\n",
    "    if process_unknown_face[i] == 0:\n",
    "        training_images.append(preprocess(os.path.join(UNKNOWN_FACES_PATH, unknown_faces_dir[i])))\n",
    "        training_labels.append(0)\n",
    "    elif process_unknown_face[i] == 1:\n",
    "        val_images.append(preprocess(os.path.join(UNKNOWN_FACES_PATH, unknown_faces_dir[i])))\n",
    "        val_labels.append(0)\n",
    "    else:\n",
    "        test_images.append(preprocess(os.path.join(UNKNOWN_FACES_PATH, unknown_faces_dir[i])))\n",
    "        test_labels.append(0)\n",
    "    total_processed += 1\n",
    "    t = display_progressbar(t1=t, t_orig=t_orig, total_photos=total_photos, total_processed=total_processed)\n",
    "display_progressbar(t1=10, t_orig=0, total_photos=total_photos, total_processed=total_photos)\n",
    "print(\"\\r\\nDone!\")\n",
    "del known_faces_dir, unknown_faces_dir, num_known_faces, nun_unknown_faces, process_known_face, process_unknown_face, t_orig, total_photos, total_processed, t"
   ],
   "metadata": {
    "collapsed": false,
    "ExecuteTime": {
     "end_time": "2024-02-29T06:38:26.214953Z",
     "start_time": "2024-02-29T06:37:58.609480Z"
    }
   },
   "execution_count": 37
  },
  {
   "cell_type": "code",
   "outputs": [
    {
     "data": {
      "text/plain": "<matplotlib.image.AxesImage at 0x7aa36a6390>"
     },
     "execution_count": 39,
     "metadata": {},
     "output_type": "execute_result"
    },
    {
     "data": {
      "text/plain": "<Figure size 640x480 with 1 Axes>",
      "image/png": "[encoded data removed]"
     },
     "metadata": {},
     "output_type": "display_data"
    }
   ],
   "source": [
    "plt.imshow(training_images[0])"
   ],
   "metadata": {
    "collapsed": false,
    "ExecuteTime": {
     "end_time": "2024-02-29T06:39:29.724274Z",
     "start_time": "2024-02-29T06:39:29.666475Z"
    }
   },
   "execution_count": 39
  },
  {
   "cell_type": "markdown",
   "source": [
    "#### Augment data"
   ],
   "metadata": {
    "collapsed": false
   }
  },
  {
   "cell_type": "code",
   "outputs": [
    {
     "name": "stdout",
     "output_type": "stream",
     "text": [
      "Augmenting 11989 images in training data...\n",
      "11989/11989 [==============================] - ETA: 0:00\r\n",
      "Done!\n",
      "Augmenting 1539 images in test data...\n",
      "1539/1539 [==============================] - ETA: 0:00\r\n",
      "Done!\n",
      "Augmenting 1514 images in validation data...\n",
      "1514/1514 [==============================] - ETA: 0:00\r\n",
      "Done!\n"
     ]
    }
   ],
   "source": [
    "augmentor = alb.Compose([alb.HorizontalFlip(p=0.5),\n",
    "                         alb.RandomBrightnessContrast(p=0.1),\n",
    "                         alb.RandomGamma(p=0.1),\n",
    "                         alb.RGBShift(p=0.1),\n",
    "                         alb.VerticalFlip(p=0.5)])\n",
    "\n",
    "l = len(training_images)\n",
    "t_orig = time.time()\n",
    "total_photos = l\n",
    "total_processed = 0\n",
    "t = time.time()\n",
    "print(\"Augmenting {} images in training data...\".format(total_photos))\n",
    "for i in range(l):\n",
    "    for j in range(NUM_AUGMENTATIONS_PER_IMAGE):\n",
    "        training_images.append(np.array(augmentor(image=training_images[i])['image']))\n",
    "        training_labels.append(training_labels[i])\n",
    "    total_processed += 1\n",
    "    t = display_progressbar(t1=t, t_orig=t_orig, total_photos=total_photos, total_processed=total_processed)\n",
    "display_progressbar(t1=10, t_orig=0, total_photos=total_photos, total_processed=total_photos)\n",
    "print(\"\\r\\nDone!\")\n",
    "\n",
    "l = len(test_images)\n",
    "t_orig = time.time()\n",
    "total_photos = l\n",
    "total_processed = 0\n",
    "t = time.time()\n",
    "print(\"Augmenting {} images in test data...\".format(total_photos))\n",
    "for i in range(l):\n",
    "    for j in range(NUM_AUGMENTATIONS_PER_IMAGE):\n",
    "        test_images.append(np.array(augmentor(image=test_images[i])['image']))\n",
    "        test_labels.append(test_labels[i])\n",
    "    total_processed += 1\n",
    "    t = display_progressbar(t1=t, t_orig=t_orig, total_photos=total_photos, total_processed=total_processed)\n",
    "display_progressbar(t1=10, t_orig=0, total_photos=total_photos, total_processed=total_photos)\n",
    "print(\"\\r\\nDone!\")\n",
    "\n",
    "l = len(val_images)\n",
    "t_orig = time.time()\n",
    "total_photos = l\n",
    "total_processed = 0\n",
    "t = time.time()\n",
    "print(\"Augmenting {} images in validation data...\".format(total_photos))\n",
    "for i in range(l):\n",
    "    for j in range(NUM_AUGMENTATIONS_PER_IMAGE):\n",
    "        val_images.append(np.array(augmentor(image=val_images[i])['image']))\n",
    "        val_labels.append(val_labels[i])\n",
    "    total_processed += 1\n",
    "    t = display_progressbar(t1=t, t_orig=t_orig, total_photos=total_photos, total_processed=total_processed)\n",
    "display_progressbar(t1=10, t_orig=0, total_photos=total_photos, total_processed=total_photos)\n",
    "print(\"\\r\\nDone!\")"
   ],
   "metadata": {
    "collapsed": false,
    "ExecuteTime": {
     "end_time": "2024-02-29T06:40:41.081286Z",
     "start_time": "2024-02-29T06:39:31.517577Z"
    }
   },
   "execution_count": 40
  },
  {
   "cell_type": "code",
   "outputs": [
    {
     "data": {
      "text/plain": "<matplotlib.image.AxesImage at 0x2f7066810>"
     },
     "execution_count": 49,
     "metadata": {},
     "output_type": "execute_result"
    },
    {
     "data": {
      "text/plain": "<Figure size 640x480 with 1 Axes>",
      "image/png": "[encoded data removed]"
     },
     "metadata": {},
     "output_type": "display_data"
    }
   ],
   "source": [
    "plt.imshow(np.array(augmentor(image=training_images[0])['image']))"
   ],
   "metadata": {
    "collapsed": false,
    "ExecuteTime": {
     "end_time": "2024-02-29T06:41:43.833346Z",
     "start_time": "2024-02-29T06:41:43.765252Z"
    }
   },
   "execution_count": 49
  },
  {
   "cell_type": "markdown",
   "source": [
    "#### Shuffling and converting to Numpy Arrays"
   ],
   "metadata": {
    "collapsed": false
   }
  },
  {
   "cell_type": "code",
   "outputs": [
    {
     "name": "stdout",
     "output_type": "stream",
     "text": [
      "Shuffling...\n"
     ]
    },
    {
     "ename": "KeyboardInterrupt",
     "evalue": "",
     "output_type": "error",
     "traceback": [
      "\u001B[0;31m---------------------------------------------------------------------------\u001B[0m",
      "\u001B[0;31mKeyboardInterrupt\u001B[0m                         Traceback (most recent call last)",
      "Cell \u001B[0;32mIn[14], line 2\u001B[0m\n\u001B[1;32m      1\u001B[0m \u001B[38;5;28mprint\u001B[39m(\u001B[38;5;124m\"\u001B[39m\u001B[38;5;124mShuffling...\u001B[39m\u001B[38;5;124m\"\u001B[39m)\n\u001B[0;32m----> 2\u001B[0m (training_images, training_labels) \u001B[38;5;241m=\u001B[39m \u001B[43mshuffle_arrays_in_sync\u001B[49m\u001B[43m(\u001B[49m\u001B[43mtraining_images\u001B[49m\u001B[43m,\u001B[49m\u001B[43m \u001B[49m\u001B[43mtraining_labels\u001B[49m\u001B[43m)\u001B[49m\n\u001B[1;32m      3\u001B[0m (test_images, test_labels) \u001B[38;5;241m=\u001B[39m shuffle_arrays_in_sync(test_images, test_labels)\n\u001B[1;32m      4\u001B[0m (val_images, val_labels) \u001B[38;5;241m=\u001B[39m shuffle_arrays_in_sync(val_images, val_labels)\n",
      "Cell \u001B[0;32mIn[9], line 11\u001B[0m, in \u001B[0;36mshuffle_arrays_in_sync\u001B[0;34m(l1, l2)\u001B[0m\n\u001B[1;32m      9\u001B[0m \u001B[38;5;28;01mfor\u001B[39;00m i \u001B[38;5;129;01min\u001B[39;00m \u001B[38;5;28mrange\u001B[39m(\u001B[38;5;28mlen\u001B[39m(l1)):\n\u001B[1;32m     10\u001B[0m     j \u001B[38;5;241m=\u001B[39m random\u001B[38;5;241m.\u001B[39mrandint(\u001B[38;5;241m0\u001B[39m, \u001B[38;5;28mlen\u001B[39m(arr)\u001B[38;5;241m-\u001B[39m\u001B[38;5;241m1\u001B[39m)\n\u001B[0;32m---> 11\u001B[0m     k \u001B[38;5;241m=\u001B[39m arr\u001B[38;5;241m.\u001B[39mpop(j)\n\u001B[1;32m     12\u001B[0m     l1_final[i] \u001B[38;5;241m=\u001B[39m l1[k]\n\u001B[1;32m     13\u001B[0m     l2_final[i] \u001B[38;5;241m=\u001B[39m l2[k]\n",
      "\u001B[0;31mKeyboardInterrupt\u001B[0m: "
     ]
    }
   ],
   "source": [
    "print(\"Shuffling...\")\n",
    "(training_images, training_labels) = shuffle_arrays_in_sync(training_images, training_labels)\n",
    "(test_images, test_labels) = shuffle_arrays_in_sync(test_images, test_labels)\n",
    "(val_images, val_labels) = shuffle_arrays_in_sync(val_images, val_labels)\n",
    "print(\"Converting to numpy arrays...\")\n",
    "training_images = np.array(training_images)\n",
    "training_labels = np.array(training_labels)\n",
    "test_images = np.array(test_images)\n",
    "test_labels = np.array(test_labels)\n",
    "val_images = np.array(val_images)\n",
    "val_labels = np.array(val_labels)\n",
    "print(\"Done!\")"
   ],
   "metadata": {
    "collapsed": false,
    "ExecuteTime": {
     "end_time": "2024-02-29T06:30:05.244192Z",
     "start_time": "2024-02-29T06:30:00.924706Z"
    }
   },
   "execution_count": 14
  },
  {
   "cell_type": "markdown",
   "source": [
    "#### Check Shapes"
   ],
   "metadata": {
    "collapsed": false
   }
  },
  {
   "cell_type": "code",
   "outputs": [],
   "source": [
    "s = training_images[0].shape\n",
    "print(\"Shape: \" + str(s))\n",
    "for i in range((training_images.shape)[0]):\n",
    "    if training_images[i].shape != s:\n",
    "        print(\"SHAPE MISMATCH\")\n",
    "        print(\"Shape s: \" + str(s) + \", Shape at index i: \" + str(training_images[i].shape))\n",
    "for i in range((test_images.shape)[0]):\n",
    "    if training_images[i].shape != s:\n",
    "        print(\"SHAPE MISMATCH\")\n",
    "        print(\"Shape s: \" + str(s) + \", Shape at index i: \" + str(test_images[i].shape))\n",
    "for i in range((val_images.shape)[0]):\n",
    "    if training_images[i].shape != s:\n",
    "        print(\"SHAPE MISMATCH\")\n",
    "        print(\"Shape s: \" + str(s) + \", Shape at index i: \" + str(val_images[i].shape))"
   ],
   "metadata": {
    "collapsed": false,
    "ExecuteTime": {
     "end_time": "2024-02-29T06:30:05.246093Z",
     "start_time": "2024-02-29T06:30:05.245148Z"
    }
   },
   "execution_count": null
  },
  {
   "cell_type": "markdown",
   "source": [
    "#### Create model"
   ],
   "metadata": {
    "collapsed": false
   }
  },
  {
   "cell_type": "code",
   "outputs": [],
   "source": [
    "model = models.Sequential()\n",
    "model.add(layers.Conv2D(64, (10,10), activation='relu', input_shape=(100, 100, 3)))\n",
    "model.add(layers.MaxPooling2D(64, (2,2), padding='same'))\n",
    "model.add(layers.Conv2D(128, (7,7), activation='relu'))\n",
    "model.add(layers.MaxPooling2D(64, (2,2), padding='same'))\n",
    "model.add(layers.Conv2D(128, (4,4), activation='relu'))\n",
    "model.add(layers.MaxPooling2D((2,2), padding='same'))\n",
    "model.add(layers.Conv2D(256, (4,4), activation='sigmoid'))\n",
    "model.add(layers.Flatten())\n",
    "model.add(layers.Dense(1))\n",
    "model.compile(optimizer='adam',\n",
    "              loss='binary_crossentropy',\n",
    "              metrics=['accuracy'])\n",
    "\n",
    "model.summary()"
   ],
   "metadata": {
    "collapsed": false,
    "ExecuteTime": {
     "start_time": "2024-02-29T06:30:05.246028Z"
    }
   },
   "execution_count": null
  },
  {
   "cell_type": "markdown",
   "source": [
    "#### Train Model"
   ],
   "metadata": {
    "collapsed": false
   }
  },
  {
   "cell_type": "code",
   "outputs": [],
   "source": [
    "history = model.fit(training_images, training_labels, epochs=NUM_EPOCHS,\n",
    "                    validation_data=(test_images, test_labels))"
   ],
   "metadata": {
    "collapsed": false,
    "ExecuteTime": {
     "end_time": "2024-02-29T06:30:05.248676Z",
     "start_time": "2024-02-29T06:30:05.246868Z"
    }
   },
   "execution_count": null
  },
  {
   "cell_type": "markdown",
   "source": [
    "#### Evaluate Model"
   ],
   "metadata": {
    "collapsed": false
   }
  },
  {
   "cell_type": "code",
   "outputs": [],
   "source": [
    "test_loss, test_acc = model.evaluate(test_images,  test_labels, verbose=2)\n",
    "print('\\nTest accuracy:', test_acc)\n",
    "\n",
    "loss = history.history[\"loss\"]\n",
    "val_loss = history.history[\"val_loss\"]\n",
    "epochs = range(1, len(loss) + 1)\n",
    "plt.plot(epochs, loss, \"bo\", label=\"Training loss\")\n",
    "plt.plot(epochs, val_loss, \"b\", label=\"Validation loss\")\n",
    "plt.title(\"Training and validation loss with Modified Data\")\n",
    "plt.xlabel(\"Epochs\")\n",
    "plt.ylabel(\"Loss\")\n",
    "plt.legend()\n",
    "plt.show()"
   ],
   "metadata": {
    "collapsed": false,
    "ExecuteTime": {
     "start_time": "2024-02-29T06:30:05.247788Z"
    }
   }
  },
  {
   "cell_type": "markdown",
   "source": [
    "#### Save the Model"
   ],
   "metadata": {
    "collapsed": false
   }
  },
  {
   "cell_type": "code",
   "outputs": [],
   "source": [
    "model.save('model_final.h5')"
   ],
   "metadata": {
    "collapsed": false,
    "ExecuteTime": {
     "start_time": "2024-02-29T06:30:05.248488Z"
    }
   }
  }
 ],
 "metadata": {
  "kernelspec": {
   "display_name": "Python 3",
   "language": "python",
   "name": "python3"
  },
  "language_info": {
   "codemirror_mode": {
    "name": "ipython",
    "version": 2
   },
   "file_extension": ".py",
   "mimetype": "text/x-python",
   "name": "python",
   "nbconvert_exporter": "python",
   "pygments_lexer": "ipython2",
   "version": "2.7.6"
  }
 },
 "nbformat": 4,
 "nbformat_minor": 0
}
