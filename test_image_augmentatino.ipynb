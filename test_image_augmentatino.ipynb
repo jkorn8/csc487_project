{
 "cells": [
  {
   "cell_type": "code",
   "execution_count": 1,
   "outputs": [],
   "source": [
    "import os\n",
    "import tensorflow as tf\n",
    "from tensorflow.keras import layers, models\n",
    "import cv2\n",
    "from face_tracking import data_collection, process_unknown_faces\n",
    "import numpy as np\n",
    "import albumentations as alb\n",
    "import matplotlib.pyplot as plt\n",
    "import time\n",
    "from helpers import display_progressbar, preprocess, get_distribution_array, shuffle_arrays_in_sync, deprocess_image\n",
    "from tensorflow.keras import mixed_precision"
   ],
   "metadata": {
    "collapsed": false,
    "ExecuteTime": {
     "end_time": "2024-03-04T19:52:52.070183Z",
     "start_time": "2024-03-04T19:52:49.323385Z"
    }
   }
  },
  {
   "cell_type": "markdown",
   "source": [
    "#### Configure GPU for training"
   ],
   "metadata": {
    "collapsed": false
   }
  },
  {
   "cell_type": "code",
   "outputs": [],
   "source": [
    "# physical_devices = tf.config.list_physical_devices('GPU')\n",
    "# print(physical_devices)\n",
    "# if physical_devices:\n",
    "#     tf.config.experimental.set_memory_growth(physical_devices[0], True)\n",
    "#     tf.config.experimental.set_virtual_device_configuration(\n",
    "#         physical_devices[0],\n",
    "#         [tf.config.experimental.VirtualDeviceConfiguration(memory_limit=1024)]\n",
    "#     )\n",
    "#     tf.config.experimental.set_visible_devices(physical_devices[0], 'GPU')"
   ],
   "metadata": {
    "collapsed": false,
    "ExecuteTime": {
     "end_time": "2024-03-04T19:53:04.003795Z",
     "start_time": "2024-03-04T19:53:04.002437Z"
    }
   },
   "execution_count": 2
  },
  {
   "cell_type": "markdown",
   "source": [
    "#### Set paths Global Variables and get Face Detector"
   ],
   "metadata": {
    "collapsed": false
   }
  },
  {
   "cell_type": "code",
   "execution_count": 3,
   "outputs": [],
   "source": [
    "CELEB_ORIG_PATH = os.path.join('data', 'img_align_celeba')\n",
    "UNKNOWN_FACES_PATH = os.path.join('data', 'unknown_faces')\n",
    "KNOWN_FACES_PATH = os.path.join('data', 'known_faces')\n",
    "KNOWN_FACE_PATH = os.path.join(KNOWN_FACES_PATH, 'stephen') # Change path for different identities\n",
    "\n",
    "NUM_UNKNOWN_IMAGES = 10000\n",
    "\n",
    "PERCENT_TRAINING = 80\n",
    "PERCENT_TESTING = 10\n",
    "PERCENT_VALIDATION = 10\n",
    "NUM_AUGMENTATIONS_PER_IMAGE = 50\n",
    "MODEL_INPUT_IMAGE_DIMENSIONS = (64, 64)\n",
    "NUM_EPOCHS = 50\n",
    "\n",
    "Face_Detector = cv2.dnn.readNetFromCaffe(\"do_not_delete/deploy.prototxt.txt\",\n",
    "                                             \"do_not_delete/res10_300x300_ssd_iter_140000.caffemodel\")"
   ],
   "metadata": {
    "collapsed": false,
    "ExecuteTime": {
     "end_time": "2024-03-04T19:53:05.042796Z",
     "start_time": "2024-03-04T19:53:05.032610Z"
    }
   }
  },
  {
   "cell_type": "markdown",
   "source": [
    "#### Process, Crop, and move celebrety faces to unknown faces path"
   ],
   "metadata": {
    "collapsed": false
   }
  },
  {
   "cell_type": "code",
   "outputs": [
    {
     "name": "stdout",
     "output_type": "stream",
     "text": [
      "Found files in directory already. To rerun, please empty data/unknown_faces\n"
     ]
    }
   ],
   "source": [
    "if len(os.listdir(UNKNOWN_FACES_PATH)) > 0:\n",
    "    print(\"Found files in directory already. To rerun, please empty \" + UNKNOWN_FACES_PATH)\n",
    "else:\n",
    "    process_unknown_faces(input_path=CELEB_ORIG_PATH, output_path=UNKNOWN_FACES_PATH, face_detector=Face_Detector)    "
   ],
   "metadata": {
    "collapsed": false,
    "ExecuteTime": {
     "end_time": "2024-03-04T19:53:06.968577Z",
     "start_time": "2024-03-04T19:53:06.480772Z"
    }
   },
   "execution_count": 4
  },
  {
   "cell_type": "markdown",
   "source": [
    "#### Capture, crop, and process images of target face"
   ],
   "metadata": {
    "collapsed": false
   }
  },
  {
   "cell_type": "code",
   "outputs": [
    {
     "name": "stdout",
     "output_type": "stream",
     "text": [
      "Found files in directory already. To rerun, please empty data/known_faces/stephen\n"
     ]
    }
   ],
   "source": [
    "if len(os.listdir(KNOWN_FACE_PATH)) > 0:\n",
    "    print(\"Found files in directory already. To rerun, please empty \" + KNOWN_FACE_PATH)\n",
    "else:\n",
    "    data_collection(KNOWN_FACE_PATH, 10000)"
   ],
   "metadata": {
    "collapsed": false,
    "ExecuteTime": {
     "end_time": "2024-03-04T19:53:08.465090Z",
     "start_time": "2024-03-04T19:53:08.442373Z"
    }
   },
   "execution_count": 5
  },
  {
   "cell_type": "markdown",
   "source": [
    "#### Partition Unaugmented Data"
   ],
   "metadata": {
    "collapsed": false
   }
  },
  {
   "cell_type": "code",
   "outputs": [
    {
     "name": "stdout",
     "output_type": "stream",
     "text": [
      "Processing 5041 known faces...\n",
      "5041/5041 [==============================] - ETA: 0:00\r\n",
      "Done!\n",
      "Processing 10000 unknown faces...\n",
      "10000/10000 [==============================] - ETA: 0:00\r\n",
      "Done!\n"
     ]
    }
   ],
   "source": [
    "known_faces_dir = os.listdir(KNOWN_FACE_PATH)\n",
    "unknown_faces_dir = os.listdir(UNKNOWN_FACES_PATH)\n",
    "num_known_faces = len(known_faces_dir)\n",
    "nun_unknown_faces = len(unknown_faces_dir)\n",
    "\n",
    "process_known_face = get_distribution_array(num_known_faces, percent_training=PERCENT_TRAINING, percent_testing=PERCENT_TESTING, percent_validation=PERCENT_VALIDATION)\n",
    "process_unknown_face = get_distribution_array(nun_unknown_faces, percent_training=PERCENT_TRAINING, percent_testing=PERCENT_TESTING, percent_validation=PERCENT_VALIDATION)\n",
    "\n",
    "(training_images, training_labels), (test_images, test_labels), (val_images, val_labels) = ([], []), ([], []), ([], [])\n",
    "\n",
    "t_orig = time.time()\n",
    "total_photos = len(known_faces_dir)\n",
    "total_processed = 0\n",
    "t = time.time()\n",
    "print(\"Processing {} known faces...\".format(total_photos))\n",
    "for i in range(len(known_faces_dir)):\n",
    "    if process_known_face[i] == 0:\n",
    "        training_images.append(deprocess_image(preprocess(input_path=os.path.join(KNOWN_FACE_PATH, known_faces_dir[i]), dimensions=MODEL_INPUT_IMAGE_DIMENSIONS)))\n",
    "        training_labels.append(1)\n",
    "    elif process_known_face[i] == 1:\n",
    "        val_images.append(deprocess_image(preprocess(input_path=os.path.join(KNOWN_FACE_PATH, known_faces_dir[i]), dimensions=MODEL_INPUT_IMAGE_DIMENSIONS)))\n",
    "        val_labels.append(1)\n",
    "    else:\n",
    "        test_images.append(deprocess_image(preprocess(input_path=os.path.join(KNOWN_FACE_PATH, known_faces_dir[i]), dimensions=MODEL_INPUT_IMAGE_DIMENSIONS)))\n",
    "        test_labels.append(1)\n",
    "    total_processed += 1\n",
    "    t = display_progressbar(t1=t, t_orig=t_orig, total_photos=total_photos, total_processed=total_processed)\n",
    "display_progressbar(t1=10, t_orig=0, total_photos=total_photos, total_processed=total_photos)\n",
    "print(\"\\r\\nDone!\")\n",
    "\n",
    "t_orig = time.time()\n",
    "total_photos = NUM_UNKNOWN_IMAGES\n",
    "total_processed = 0\n",
    "t = time.time()\n",
    "print(\"Processing {} unknown faces...\".format(total_photos))\n",
    "for i in range(len(unknown_faces_dir)):\n",
    "    if i > NUM_UNKNOWN_IMAGES:\n",
    "        break\n",
    "    if process_unknown_face[i] == 0:\n",
    "        training_images.append(deprocess_image(preprocess(input_path=os.path.join(UNKNOWN_FACES_PATH, unknown_faces_dir[i]), dimensions=MODEL_INPUT_IMAGE_DIMENSIONS)))\n",
    "        training_labels.append(0)\n",
    "    elif process_unknown_face[i] == 1:\n",
    "        val_images.append(deprocess_image(preprocess(input_path=os.path.join(UNKNOWN_FACES_PATH, unknown_faces_dir[i]), dimensions=MODEL_INPUT_IMAGE_DIMENSIONS)))\n",
    "        val_labels.append(0)\n",
    "    else:\n",
    "        test_images.append(deprocess_image(preprocess(input_path=os.path.join(UNKNOWN_FACES_PATH, unknown_faces_dir[i]), dimensions=MODEL_INPUT_IMAGE_DIMENSIONS)))\n",
    "        test_labels.append(0)\n",
    "    total_processed += 1\n",
    "    t = display_progressbar(t1=t, t_orig=t_orig, total_photos=total_photos, total_processed=total_processed)\n",
    "display_progressbar(t1=10, t_orig=0, total_photos=total_photos, total_processed=total_photos)\n",
    "print(\"\\r\\nDone!\")\n",
    "del known_faces_dir, unknown_faces_dir, num_known_faces, nun_unknown_faces, process_known_face, process_unknown_face, t_orig, total_photos, total_processed, t"
   ],
   "metadata": {
    "collapsed": false,
    "ExecuteTime": {
     "end_time": "2024-03-04T19:53:24.468156Z",
     "start_time": "2024-03-04T19:53:10.124259Z"
    }
   },
   "execution_count": 6
  },
  {
   "cell_type": "markdown",
   "source": [
    "#### Augment data"
   ],
   "metadata": {
    "collapsed": false
   }
  },
  {
   "cell_type": "code",
   "outputs": [
    {
     "name": "stdout",
     "output_type": "stream",
     "text": [
      "Augmenting 12072 images in training data...\n",
      "12072/12072 [==============================] - ETA: 0:00\r\n",
      "Done!\n",
      "Augmenting 1432 images in test data...\n",
      "1432/1432 [==============================] - ETA: 0:00\r\n",
      "Done!\n",
      "Augmenting 1538 images in validation data...\n",
      "1538/1538 [==============================] - ETA: 0:00\r\n",
      "Done!\n"
     ]
    }
   ],
   "source": [
    "augmentor = alb.Compose([alb.HorizontalFlip(p=0.5),\n",
    "                         alb.RandomBrightnessContrast(p=0.3),\n",
    "                         alb.RandomGamma(p=0.3),\n",
    "                         alb.RGBShift(p=.3),\n",
    "                         alb.VerticalFlip(p=0.2),\n",
    "                         alb.Rotate(limit=20, p=.5, interpolation=cv2.INTER_LINEAR)])\n",
    "\n",
    "l = len(training_images)\n",
    "t_orig = time.time()\n",
    "total_photos = l\n",
    "total_processed = 0\n",
    "t = time.time()\n",
    "print(\"Augmenting {} images in training data...\".format(total_photos))\n",
    "for i in range(l):\n",
    "    for j in range(NUM_AUGMENTATIONS_PER_IMAGE):\n",
    "        img = (training_images[i]*255).astype(np.uint8)\n",
    "        training_images.append(np.array(augmentor(image=img)['image'])/255)\n",
    "        training_labels.append(training_labels[i])\n",
    "    total_processed += 1\n",
    "    t = display_progressbar(t1=t, t_orig=t_orig, total_photos=total_photos, total_processed=total_processed)\n",
    "display_progressbar(t1=10, t_orig=0, total_photos=total_photos, total_processed=total_photos)\n",
    "print(\"\\r\\nDone!\")\n",
    "\n",
    "l = len(test_images)\n",
    "t_orig = time.time()\n",
    "total_photos = l\n",
    "total_processed = 0\n",
    "t = time.time()\n",
    "print(\"Augmenting {} images in test data...\".format(total_photos))\n",
    "for i in range(l):\n",
    "    for j in range(NUM_AUGMENTATIONS_PER_IMAGE):\n",
    "        img = (test_images[i]*255).astype(np.uint8)\n",
    "        test_images.append(np.array(augmentor(image=img)['image'])/255)\n",
    "        test_labels.append(test_labels[i])\n",
    "    total_processed += 1\n",
    "    t = display_progressbar(t1=t, t_orig=t_orig, total_photos=total_photos, total_processed=total_processed)\n",
    "display_progressbar(t1=10, t_orig=0, total_photos=total_photos, total_processed=total_photos)\n",
    "print(\"\\r\\nDone!\")\n",
    "\n",
    "l = len(val_images)\n",
    "t_orig = time.time()\n",
    "total_photos = l\n",
    "total_processed = 0\n",
    "t = time.time()\n",
    "print(\"Augmenting {} images in validation data...\".format(total_photos))\n",
    "for i in range(l):\n",
    "    for j in range(NUM_AUGMENTATIONS_PER_IMAGE):\n",
    "        img = (val_images[i]*255).astype(np.uint8)\n",
    "        val_images.append(np.array(augmentor(image=img)['image'])/255)\n",
    "        val_labels.append(val_labels[i])\n",
    "    total_processed += 1\n",
    "    t = display_progressbar(t1=t, t_orig=t_orig, total_photos=total_photos, total_processed=total_processed)\n",
    "display_progressbar(t1=10, t_orig=0, total_photos=total_photos, total_processed=total_photos)\n",
    "print(\"\\r\\nDone!\")"
   ],
   "metadata": {
    "collapsed": false,
    "ExecuteTime": {
     "end_time": "2024-03-04T19:56:35.033358Z",
     "start_time": "2024-03-04T19:55:50.522843Z"
    }
   },
   "execution_count": 12
  },
  {
   "cell_type": "markdown",
   "source": [
    "#### Shuffling and converting to Numpy Arrays"
   ],
   "metadata": {
    "collapsed": false
   }
  },
  {
   "cell_type": "code",
   "outputs": [
    {
     "name": "stdout",
     "output_type": "stream",
     "text": [
      "Shuffling...\n",
      "Converting to numpy arrays...\n",
      "Done!\n",
      "((615672, 64, 64, 3), (615672,))\n",
      "((73032, 64, 64, 3), (73032,))\n",
      "((78438, 64, 64, 3), (78438,))\n"
     ]
    }
   ],
   "source": [
    "print(\"Shuffling...\")\n",
    "(training_images, training_labels) = shuffle_arrays_in_sync(training_images, training_labels)\n",
    "(test_images, test_labels) = shuffle_arrays_in_sync(test_images, test_labels)\n",
    "(val_images, val_labels) = shuffle_arrays_in_sync(val_images, val_labels)\n",
    "print(\"Converting to numpy arrays...\")\n",
    "training_images = np.array(training_images)\n",
    "training_labels = np.array(training_labels)\n",
    "test_images = np.array(test_images)\n",
    "test_labels = np.array(test_labels)\n",
    "val_images = np.array(val_images)\n",
    "val_labels = np.array(val_labels)\n",
    "print(\"Done!\")\n",
    "print((training_images.shape, training_labels.shape))\n",
    "print((test_images.shape, test_labels.shape))\n",
    "print((val_images.shape, val_labels.shape))"
   ],
   "metadata": {
    "collapsed": false,
    "ExecuteTime": {
     "end_time": "2024-03-04T20:01:19.825448Z",
     "start_time": "2024-03-04T19:56:35.032541Z"
    }
   },
   "execution_count": 13
  },
  {
   "cell_type": "markdown",
   "source": [
    "#### Checking Data Preprocessing"
   ],
   "metadata": {
    "collapsed": false
   }
  },
  {
   "cell_type": "code",
   "outputs": [
    {
     "ename": "NameError",
     "evalue": "name 'training_images' is not defined",
     "output_type": "error",
     "traceback": [
      "\u001B[0;31m---------------------------------------------------------------------------\u001B[0m",
      "\u001B[0;31mNameError\u001B[0m                                 Traceback (most recent call last)",
      "Cell \u001B[0;32mIn[1], line 1\u001B[0m\n\u001B[0;32m----> 1\u001B[0m training_images \u001B[38;5;241m=\u001B[39m \u001B[38;5;28miter\u001B[39m(\u001B[43mtraining_images\u001B[49m)\n\u001B[1;32m      2\u001B[0m training_labels \u001B[38;5;241m=\u001B[39m \u001B[38;5;28miter\u001B[39m(training_labels)\n\u001B[1;32m      3\u001B[0m test_images \u001B[38;5;241m=\u001B[39m \u001B[38;5;28miter\u001B[39m(test_images)\n",
      "\u001B[0;31mNameError\u001B[0m: name 'training_images' is not defined"
     ]
    }
   ],
   "source": [
    "training_images = iter(training_images)\n",
    "training_labels = iter(training_labels)\n",
    "test_images = iter(test_images)\n",
    "test_labels = iter(test_labels)\n",
    "val_images = iter(val_images)\n",
    "val_labels = iter(val_labels)"
   ],
   "metadata": {
    "collapsed": false,
    "ExecuteTime": {
     "end_time": "2024-03-04T20:09:13.494778Z",
     "start_time": "2024-03-04T20:09:13.410211Z"
    }
   },
   "execution_count": 1
  },
  {
   "cell_type": "code",
   "outputs": [
    {
     "name": "stdout",
     "output_type": "stream",
     "text": [
      "0\n"
     ]
    },
    {
     "data": {
      "text/plain": "<Figure size 640x480 with 1 Axes>",
      "image/png": "[encoded data removed]"
     },
     "metadata": {},
     "output_type": "display_data"
    }
   ],
   "source": [
    "d = next(training_images) * 255\n",
    "l = next(training_labels)\n",
    "plt.imshow(d.astype(np.uint8))\n",
    "print(l)"
   ],
   "metadata": {
    "collapsed": false,
    "ExecuteTime": {
     "end_time": "2024-03-04T20:02:55.589912Z",
     "start_time": "2024-03-04T20:02:55.528165Z"
    }
   },
   "execution_count": 64
  },
  {
   "cell_type": "code",
   "outputs": [],
   "source": [
    "d = next(test_images) * 255\n",
    "l = next(test_labels)\n",
    "plt.imshow(d.astype(np.uint8))\n",
    "print(l)"
   ],
   "metadata": {
    "collapsed": false
   }
  },
  {
   "cell_type": "code",
   "outputs": [],
   "source": [
    "d = next(val_images) * 255\n",
    "l = next(val_labels)\n",
    "plt.imshow(d.astype(np.uint8))\n",
    "print(l)"
   ],
   "metadata": {
    "collapsed": false
   }
  }
 ],
 "metadata": {
  "kernelspec": {
   "display_name": "Python 3",
   "language": "python",
   "name": "python3"
  },
  "language_info": {
   "codemirror_mode": {
    "name": "ipython",
    "version": 2
   },
   "file_extension": ".py",
   "mimetype": "text/x-python",
   "name": "python",
   "nbconvert_exporter": "python",
   "pygments_lexer": "ipython2",
   "version": "2.7.6"
  }
 },
 "nbformat": 4,
 "nbformat_minor": 0
}
