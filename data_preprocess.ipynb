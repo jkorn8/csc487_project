{
 "cells": [
  {
   "cell_type": "code",
   "execution_count": 2,
   "outputs": [],
   "source": [
    "import os\n",
    "import cv2\n",
    "from face_tracking import data_collection, process_unknown_celeb_faces, process_unknown_digiface_faces\n",
    "import matplotlib.pyplot as plt\n",
    "import shutil\n",
    "from helpers import do_data_preprocessing, get_max_image_index_for_known_images\n",
    "from constants import CELEB_ORIG_PATH, UNKNOWN_FACES_PATH, KNOWN_FACE_PATH, TESTING_PATH_POSITIVE, TESTING_PATH_NEGATIVE, VALIDATION_PATH_POSITIVE, VALIDATION_PATH_NEGATIVE, MODEL_INPUT_IMAGE_DIMENSIONS, DIGIFACE_ORIG_PATH\n",
    "from tensorflow.keras.preprocessing.image import ImageDataGenerator"
   ],
   "metadata": {
    "collapsed": false,
    "ExecuteTime": {
     "end_time": "2024-03-08T17:21:22.921877Z",
     "start_time": "2024-03-08T17:21:22.892572Z"
    }
   }
  },
  {
   "cell_type": "markdown",
   "source": [
    "## NOTE: AFTER DOING DATA PREPROCESSING, YOU NEED TO QUIT OUT OF THE JUPITER NOTEBOOK, OR ELSE IT WILL KEEP USING MEMORY IN THE BACKGROUND ##"
   ],
   "metadata": {
    "collapsed": false
   }
  },
  {
   "cell_type": "markdown",
   "source": [
    "#### Set paths Global Variables and get Face Detector"
   ],
   "metadata": {
    "collapsed": false
   }
  },
  {
   "cell_type": "code",
   "execution_count": 3,
   "outputs": [],
   "source": [
    "MAX_NUM_IMAGES = 10000 \n",
    "\n",
    "if MAX_NUM_IMAGES > 10000:\n",
    "    raise ValueError('MAX_NUM_IMAGES must be less than or equal to 10000 since there is only 200000 celebrity images')\n",
    "\n",
    "PERCENT_TRAINING = 80\n",
    "PERCENT_VALIDATION = 20\n",
    "NUM_AUGMENTATIONS_PER_IMAGE = 10\n",
    "\n",
    "Face_Detector = cv2.dnn.readNetFromCaffe(\"do_not_delete/deploy.prototxt.txt\",\n",
    "                                             \"do_not_delete/res10_300x300_ssd_iter_140000.caffemodel\")"
   ],
   "metadata": {
    "collapsed": false,
    "ExecuteTime": {
     "end_time": "2024-03-08T17:21:24.285040Z",
     "start_time": "2024-03-08T17:21:24.265688Z"
    }
   }
  },
  {
   "cell_type": "markdown",
   "source": [
    "#### ONLY RUN IF YOU WANT TO REPROCESS ALL FACES"
   ],
   "metadata": {
    "collapsed": false
   }
  },
  {
   "cell_type": "code",
   "outputs": [
    {
     "name": "stdout",
     "output_type": "stream",
     "text": [
      "Deleting old files...\n",
      "Done deleting files\n",
      "Loading digiface faces...\n",
      "Processing 144072 photos...\n",
      "5362/144072 [=>----------------------------] - ETA: 41:03"
     ]
    }
   ],
   "source": [
    "print(\"Deleting old files...\")\n",
    "for file in os.listdir(UNKNOWN_FACES_PATH):\n",
    "    file_path = os.path.join(UNKNOWN_FACES_PATH, file)\n",
    "    try:\n",
    "        if os.path.isfile(file_path) or os.path.islink(file_path):\n",
    "            os.unlink(file_path)\n",
    "        elif os.path.isdir(file_path):\n",
    "            shutil.rmtree(file_path)\n",
    "    except Exception as e:\n",
    "        print('Failed to delete %s. Reason: %s' % (file_path, e))\n",
    "print(\"Done deleting files\")\n",
    "print(\"Loading digiface faces...\")\n",
    "process_unknown_digiface_faces(input_path=DIGIFACE_ORIG_PATH, output_path=UNKNOWN_FACES_PATH, face_detector=Face_Detector, num_augmentations_per_image=NUM_AUGMENTATIONS_PER_IMAGE)\n",
    "print(\"Done loading digiface faces\")\n",
    "print(\"Loading celebrity faces...\")\n",
    "process_unknown_celeb_faces(input_path=CELEB_ORIG_PATH, output_path=UNKNOWN_FACES_PATH, face_detector=Face_Detector, num_augmentations_per_image=NUM_AUGMENTATIONS_PER_IMAGE)\n",
    "print(\"Done loading celebrity faces\")"
   ],
   "metadata": {
    "collapsed": false,
    "is_executing": true,
    "ExecuteTime": {
     "start_time": "2024-03-08T17:22:50.193181Z"
    }
   },
   "execution_count": null
  },
  {
   "cell_type": "markdown",
   "source": [
    "#### ONLY RUN IF YOU WANT TO RETAKE NEW PHOTOS"
   ],
   "metadata": {
    "collapsed": false
   }
  },
  {
   "cell_type": "code",
   "outputs": [
    {
     "data": {
      "text/plain": "\"\\nfor file in os.listdir(KNOWN_FACE_PATH):\\n    file_path = os.path.join(KNOWN_FACE_PATH, file)\\n    try:\\n        if os.path.isfile(file_path) or os.path.islink(file_path):\\n            os.unlink(file_path)\\n        elif os.path.isdir(file_path):\\n            shutil.rmtree(file_path)\\n    except Exception as e:\\n        print('Failed to delete %s. Reason: %s' % (file_path, e))\\n\""
     },
     "execution_count": 10,
     "metadata": {},
     "output_type": "execute_result"
    }
   ],
   "source": [
    "for file in os.listdir(KNOWN_FACE_PATH):\n",
    "    file_path = os.path.join(KNOWN_FACE_PATH, file)\n",
    "    try:\n",
    "        if os.path.isfile(file_path) or os.path.islink(file_path):\n",
    "            os.unlink(file_path)\n",
    "        elif os.path.isdir(file_path):\n",
    "            shutil.rmtree(file_path)\n",
    "    except Exception as e:\n",
    "        print('Failed to delete %s. Reason: %s' % (file_path, e))"
   ],
   "metadata": {
    "collapsed": false,
    "ExecuteTime": {
     "end_time": "2024-03-07T08:33:25.161884Z",
     "start_time": "2024-03-07T08:33:25.159326Z"
    }
   },
   "execution_count": 10
  },
  {
   "cell_type": "markdown",
   "source": [
    "#### Capture, crop, and process images of target face"
   ],
   "metadata": {
    "collapsed": false
   }
  },
  {
   "cell_type": "code",
   "outputs": [
    {
     "name": "stdout",
     "output_type": "stream",
     "text": [
      "Found files in directory already. To rerun, please empty data/faces/stephen by running the code above ^^^\n"
     ]
    }
   ],
   "source": [
    "if len(os.listdir(KNOWN_FACE_PATH)) >= MAX_NUM_IMAGES:\n",
    "    print(\"Found files in directory already. To rerun, please empty \" + KNOWN_FACE_PATH + \" by running the code above ^^^\")\n",
    "else:\n",
    "    data_collection(KNOWN_FACE_PATH, MAX_NUM_IMAGES-len(os.listdir(KNOWN_FACE_PATH)), starting_index=get_max_image_index_for_known_images(KNOWN_FACE_PATH) + 1)"
   ],
   "metadata": {
    "collapsed": false,
    "ExecuteTime": {
     "end_time": "2024-03-08T05:59:04.544329Z",
     "start_time": "2024-03-08T05:59:04.534803Z"
    }
   },
   "execution_count": 6
  },
  {
   "cell_type": "markdown",
   "source": [
    "#### Delete old files"
   ],
   "metadata": {
    "collapsed": false
   }
  },
  {
   "cell_type": "code",
   "outputs": [],
   "source": [
    "for directory in os.listdir(os.path.join('data', 'data')):\n",
    "    if os.path.isdir(os.path.join('data', 'data', directory)):\n",
    "        for subdir in os.listdir(os.path.join('data', 'data', directory)):\n",
    "            if os.path.isdir(os.path.join('data', 'data', directory, subdir)):\n",
    "                for file in os.listdir(os.path.join('data', 'data', directory, subdir)):\n",
    "                    file_path = os.path.join('data', 'data', directory, subdir, file)\n",
    "                    try:\n",
    "                        if os.path.isfile(file_path) or os.path.islink(file_path):\n",
    "                            os.unlink(file_path)\n",
    "                        elif os.path.isdir(file_path):\n",
    "                            shutil.rmtree(file_path)\n",
    "                    except Exception as e:\n",
    "                        print('Failed to delete %s. Reason: %s' % (file_path, e))"
   ],
   "metadata": {
    "collapsed": false,
    "ExecuteTime": {
     "end_time": "2024-03-08T06:26:40.989359Z",
     "start_time": "2024-03-08T06:24:45.839838Z"
    }
   },
   "execution_count": 3
  },
  {
   "cell_type": "markdown",
   "source": [
    "#### Augment data and move to correct directories"
   ],
   "metadata": {
    "collapsed": false
   }
  },
  {
   "cell_type": "code",
   "outputs": [
    {
     "name": "stdout",
     "output_type": "stream",
     "text": [
      "Processing 10000 known faces...\n",
      "10000/10000 [==============================] - ETA: 0:00\r\n",
      "Done!\n",
      "Processing 100000 unknown faces...\n",
      "100000/100000 [==============================] - ETA: 0:00\r\n",
      "Done!\n"
     ]
    }
   ],
   "source": [
    "if len(os.listdir(TESTING_PATH_POSITIVE)) > 0 or len(os.listdir(TESTING_PATH_NEGATIVE)) > 0 or len(os.listdir(VALIDATION_PATH_POSITIVE)) > 0 or len(os.listdir(VALIDATION_PATH_NEGATIVE)) > 0:\n",
    "    print(\"Found files in directory already. To rerun, please empty \" + TESTING_PATH_POSITIVE + \", \" + TESTING_PATH_NEGATIVE + \", \" + VALIDATION_PATH_POSITIVE + \", and \" + VALIDATION_PATH_NEGATIVE + \" by running the code above ^^^\")\n",
    "else:\n",
    "    do_data_preprocessing(num_images=min(len(os.listdir(KNOWN_FACE_PATH)), MAX_NUM_IMAGES), input_dimensions=MODEL_INPUT_IMAGE_DIMENSIONS, known_face_path=KNOWN_FACE_PATH, unknown_face_path=UNKNOWN_FACES_PATH, percent_training=PERCENT_TRAINING, percent_validation=PERCENT_VALIDATION, testing_path_positive=TESTING_PATH_POSITIVE, testing_path_negative=TESTING_PATH_NEGATIVE, validation_path_positive=VALIDATION_PATH_POSITIVE, validation_path_negative=VALIDATION_PATH_NEGATIVE)"
   ],
   "metadata": {
    "collapsed": false,
    "ExecuteTime": {
     "end_time": "2024-03-08T06:28:49.985748Z",
     "start_time": "2024-03-08T06:26:40.991299Z"
    }
   },
   "execution_count": 4
  },
  {
   "cell_type": "markdown",
   "source": [
    "## Check Data"
   ],
   "metadata": {
    "collapsed": false
   }
  },
  {
   "cell_type": "markdown",
   "source": [
    "#### Run this once"
   ],
   "metadata": {
    "collapsed": false
   }
  },
  {
   "cell_type": "code",
   "outputs": [
    {
     "name": "stdout",
     "output_type": "stream",
     "text": [
      "Found 604484 images belonging to 2 classes.\n",
      "Found 150868 images belonging to 2 classes.\n",
      "Number of positive testing images: 248000\n",
      "Number of negative testing images: 356484\n",
      "Number of positive validation images: 62000\n",
      "Number of negative validation images: 88868\n"
     ]
    }
   ],
   "source": [
    "datagen = ImageDataGenerator()\n",
    "train_generator = datagen.flow_from_directory(\n",
    "    os.path.join('data', 'data', 'testing'),\n",
    "    target_size=MODEL_INPUT_IMAGE_DIMENSIONS,\n",
    "    class_mode='binary'  # Automatically inferred based on the subdirectories\n",
    ")\n",
    "val_generator = datagen.flow_from_directory(\n",
    "    os.path.join('data', 'data', 'validation'),\n",
    "    target_size=MODEL_INPUT_IMAGE_DIMENSIONS,\n",
    "    class_mode='binary',  # Use 'binary' for binary classification or 'categorical' for multiclass\n",
    ")\n",
    "print(\"Number of positive testing images: \" + str(len(os.listdir(TESTING_PATH_POSITIVE))))\n",
    "print(\"Number of negative testing images: \" + str(len(os.listdir(TESTING_PATH_NEGATIVE))))\n",
    "print(\"Number of positive validation images: \" + str(len(os.listdir(VALIDATION_PATH_POSITIVE))))\n",
    "print(\"Number of negative validation images: \" + str(len(os.listdir(VALIDATION_PATH_NEGATIVE))))\n",
    "t = iter(train_generator)\n",
    "v = iter(val_generator)"
   ],
   "metadata": {
    "collapsed": false,
    "ExecuteTime": {
     "end_time": "2024-03-08T06:11:40.518154Z",
     "start_time": "2024-03-08T06:11:16.744600Z"
    }
   },
   "execution_count": 9
  },
  {
   "cell_type": "markdown",
   "source": [
    "#### To check data, you can rerun the following two code segments. It will show you each image with dimensions "
   ],
   "metadata": {
    "collapsed": false
   }
  },
  {
   "cell_type": "code",
   "outputs": [],
   "source": [
    "(x, y) = next(v) # change to \"t\" or \"v\" to check testing or validation data respectively\n",
    "im = iter(x)\n",
    "out = iter(y)"
   ],
   "metadata": {
    "collapsed": false,
    "ExecuteTime": {
     "end_time": "2024-03-07T22:08:25.810316Z",
     "start_time": "2024-03-07T22:08:25.783506Z"
    }
   },
   "execution_count": 11
  },
  {
   "cell_type": "code",
   "outputs": [
    {
     "name": "stdout",
     "output_type": "stream",
     "text": [
      "1.0\n",
      "(100, 100, 3)\n"
     ]
    },
    {
     "data": {
      "text/plain": "<matplotlib.image.AxesImage at 0x30cca26d0>"
     },
     "execution_count": 33,
     "metadata": {},
     "output_type": "execute_result"
    },
    {
     "data": {
      "text/plain": "<Figure size 640x480 with 1 Axes>",
      "image/png": "[encoded data removed]"
     },
     "metadata": {},
     "output_type": "display_data"
    }
   ],
   "source": [
    "print(next(out))\n",
    "image = next(im).astype(int)\n",
    "print(image.shape)\n",
    "plt.imshow(image)"
   ],
   "metadata": {
    "collapsed": false,
    "ExecuteTime": {
     "end_time": "2024-03-07T22:37:34.785248Z",
     "start_time": "2024-03-07T22:37:34.677936Z"
    }
   },
   "execution_count": 33
  },
  {
   "cell_type": "code",
   "outputs": [],
   "source": [],
   "metadata": {
    "collapsed": false
   }
  }
 ],
 "metadata": {
  "kernelspec": {
   "display_name": "Python 3",
   "language": "python",
   "name": "python3"
  },
  "language_info": {
   "codemirror_mode": {
    "name": "ipython",
    "version": 2
   },
   "file_extension": ".py",
   "mimetype": "text/x-python",
   "name": "python",
   "nbconvert_exporter": "python",
   "pygments_lexer": "ipython2",
   "version": "2.7.6"
  }
 },
 "nbformat": 4,
 "nbformat_minor": 0
}
