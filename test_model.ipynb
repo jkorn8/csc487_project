{
 "cells": [
  {
   "cell_type": "code",
   "execution_count": 1,
   "id": "initial_id",
   "metadata": {
    "collapsed": true,
    "ExecuteTime": {
     "end_time": "2024-03-12T20:23:22.718947Z",
     "start_time": "2024-03-12T20:23:07.495007Z"
    }
   },
   "outputs": [],
   "source": [
    "import tensorflow as tf\n",
    "import os\n",
    "from constants import UNKNOWN_FACES_PATH, MODEL_INPUT_IMAGE_DIMENSIONS, PATH_TO_FAILED_MODEL_EVALUATION_IMAGES, MODEL_0_FAILED_PATH, MODEL_1_FAILED_PATH, MODEL_2_FAILED_PATH, KNOWN_FACE_1_PATH, KNOWN_FACE_2_PATH, MODEL_PATH\n",
    "from helpers import preprocess, deprocess_image, display_progressbar\n",
    "import numpy as np\n",
    "import time\n",
    "from face_tracking import face_detection\n",
    "from PIL import Image\n",
    "import shutil\n",
    "import math\n",
    "\n",
    "model = tf.keras.models.load_model(os.path.join(MODEL_PATH, 'model_final_with_josh_1.h5'))"
   ]
  },
  {
   "cell_type": "markdown",
   "source": [
    "#### Check model manually"
   ],
   "metadata": {
    "collapsed": false
   },
   "id": "14e0b358f38e9f2b"
  },
  {
   "cell_type": "code",
   "outputs": [],
   "source": [
    "face_detection(model=model, required_bound=.8, certainty_bound=.1)"
   ],
   "metadata": {
    "collapsed": false,
    "ExecuteTime": {
     "end_time": "2024-03-12T19:39:37.189853Z",
     "start_time": "2024-03-12T19:38:30.577857Z"
    }
   },
   "id": "f288b800e7b11f28",
   "execution_count": 4
  },
  {
   "cell_type": "markdown",
   "source": [
    "#### Delete old files"
   ],
   "metadata": {
    "collapsed": false
   },
   "id": "e1f53e2d81754741"
  },
  {
   "cell_type": "code",
   "outputs": [],
   "source": [
    "for directory in os.listdir(PATH_TO_FAILED_MODEL_EVALUATION_IMAGES):\n",
    "    if os.path.isdir(os.path.join(PATH_TO_FAILED_MODEL_EVALUATION_IMAGES, directory)):\n",
    "        for file in os.listdir(os.path.join(PATH_TO_FAILED_MODEL_EVALUATION_IMAGES, directory)):\n",
    "            file_path = os.path.join(PATH_TO_FAILED_MODEL_EVALUATION_IMAGES, directory, file)\n",
    "            try:\n",
    "                if os.path.isfile(file_path) or os.path.islink(file_path):\n",
    "                    os.unlink(file_path)\n",
    "                elif os.path.isdir(file_path):\n",
    "                    shutil.rmtree(file_path)\n",
    "            except Exception as e:\n",
    "                print('Failed to delete %s. Reason: %s' % (file_path, e))"
   ],
   "metadata": {
    "collapsed": false,
    "ExecuteTime": {
     "end_time": "2024-03-12T14:37:21.426670Z",
     "start_time": "2024-03-12T14:37:11.150803Z"
    }
   },
   "id": "42e7775d771df771",
   "execution_count": 3
  },
  {
   "cell_type": "markdown",
   "source": [
    "### Evaluate model on all data"
   ],
   "metadata": {
    "collapsed": false
   },
   "id": "a71a954e92d43c11"
  },
  {
   "cell_type": "markdown",
   "source": [
    "#### Evaluate on photos of Stephen"
   ],
   "metadata": {
    "collapsed": false
   },
   "id": "c97494e48dd689f4"
  },
  {
   "cell_type": "code",
   "outputs": [],
   "source": [
    "num_failures_0 = 0\n",
    "t_orig = time.time()\n",
    "total_photos = len(os.listdir(KNOWN_FACE_1_PATH))\n",
    "total_processed = 0\n",
    "t = time.time()\n",
    "for face in os.listdir(KNOWN_FACE_1_PATH):\n",
    "    face_path = os.path.join(KNOWN_FACE_1_PATH, face)\n",
    "    im = deprocess_image(preprocess(face_path, MODEL_INPUT_IMAGE_DIMENSIONS))\n",
    "    pred = model.predict(np.array([im]), verbose=0)[0]\n",
    "    if not math.isclose(max(pred), pred[0]):\n",
    "        num_failures_0 += 1\n",
    "        print(\"\\rNumber of failures for stephen images: \" + str(num_failures_0) + \"; \" + str(pred))\n",
    "        im = Image.fromarray(im)\n",
    "        im.save(os.path.join(MODEL_0_FAILED_PATH, face))\n",
    "    total_processed += 1\n",
    "    t = display_progressbar(t1=t, t_orig=t_orig, total_photos=total_photos, total_processed=total_processed)"
   ],
   "metadata": {
    "collapsed": false,
    "is_executing": true
   },
   "id": "ecd45198a1c3ec2e"
  },
  {
   "cell_type": "markdown",
   "source": [
    "#### Evaluate on photos of Josh"
   ],
   "metadata": {
    "collapsed": false
   },
   "id": "9749cbd7ba850df2"
  },
  {
   "cell_type": "code",
   "outputs": [
    {
     "name": "stderr",
     "output_type": "stream",
     "text": [
      "2024-03-12 07:37:22.382100: I tensorflow/core/grappler/optimizers/custom_graph_optimizer_registry.cc:117] Plugin optimizer for device_type GPU is enabled.\n"
     ]
    },
    {
     "name": "stdout",
     "output_type": "stream",
     "text": [
      "Number of failures for josh images: 1; [0.66399145 0.26118612 0.01771503]\n",
      "Number of failures for josh images: 2; [0.4339334  0.35972443 0.60509497]\n",
      "Number of failures for josh images: 3; [0.8562883  0.25785965 0.01228777]\n",
      "Number of failures for josh images: 4; [0.0214674  0.41640815 0.9904144 ]\n",
      "Number of failures for josh images: 5; [0.20888318 0.03774055 0.16610938]\n",
      "Number of failures for josh images: 6; [0.83199763 0.722028   0.01326547]\n",
      "Number of failures for josh images: 7; [0.7404043  0.70939624 0.00402061]\n",
      "Number of failures for josh images: 8; [5.2527833e-01 7.3313173e-03 1.2812107e-05]\n",
      "Number of failures for josh images: 9; [0.06356975 0.40823823 0.5064122 ]\n",
      "Number of failures for josh images: 10; [0.78173953 0.12328588 0.04812   ]\n",
      "Number of failures for josh images: 11; [0.01821495 0.38302797 0.39624777]\n",
      "Number of failures for josh images: 12; [0.83350146 0.7680585  0.06849601]\n",
      "Number of failures for josh images: 13; [0.8912652  0.76125294 0.00173752]\n",
      "Number of failures for josh images: 14; [0.40197334 0.14754641 0.0506235 ]\n",
      "Number of failures for josh images: 15; [0.00777049 0.32741684 0.6005889 ]\n",
      "Number of failures for josh images: 16; [0.17059526 0.09380907 0.20347933]\n",
      "Number of failures for josh images: 17; [0.18356013 0.13269185 0.02912544]\n",
      "Number of failures for josh images: 18; [0.5258755  0.3412995  0.00246389]\n",
      "Number of failures for josh images: 19; [0.95799506 0.50707185 0.83445305]\n",
      "Number of failures for josh images: 20; [0.56767493 0.31392115 0.38162342]\n",
      "Number of failures for josh images: 21; [0.7029133  0.277735   0.22121115]\n",
      "Number of failures for josh images: 22; [9.117153e-01 8.191392e-01 2.962685e-04]\n",
      "Number of failures for josh images: 23; [0.8260618  0.8194704  0.04419586]\n",
      "Number of failures for josh images: 24; [0.0089857  0.06174069 0.9962618 ]\n",
      "Number of failures for josh images: 25; [0.00227161 0.07282571 0.9974936 ]\n",
      "Number of failures for josh images: 26; [0.00470722 0.4102082  0.72301614]\n",
      "Number of failures for josh images: 27; [0.8474312  0.01383815 0.00409507]\n",
      "Number of failures for josh images: 28; [0.45382273 0.4215266  0.08428147]\n",
      "Number of failures for josh images: 29; [0.3049442  0.12592322 0.09551181]\n",
      "Number of failures for josh images: 30; [0.00321293 0.47468132 0.9855496 ]\n",
      "Number of failures for josh images: 31; [9.2320532e-01 1.5782157e-01 4.3457936e-04]\n",
      "Number of failures for josh images: 32; [0.62587225 0.23863591 0.00471214]\n",
      "Number of failures for josh images: 33; [0.61688364 0.56644213 0.01804587]\n",
      "Number of failures for josh images: 34; [0.01245686 0.6800729  0.7108441 ]\n",
      "Number of failures for josh images: 35; [0.16636853 0.0643771  0.58626896]\n",
      "Number of failures for josh images: 36; [0.9989843  0.6835378  0.21585698]\n",
      "Number of failures for josh images: 37; [0.8260618  0.8194704  0.04419586]\n",
      "Number of failures for josh images: 38; [0.98168796 0.0034596  0.00353879]\n",
      "Number of failures for josh images: 39; [0.98712873 0.92485255 0.00143197]\n",
      "Number of failures for josh images: 40; [0.9966421  0.8147009  0.01721067]\n",
      "Number of failures for josh images: 41; [0.66738176 0.023848   0.02525688]\n",
      "Number of failures for josh images: 42; [0.95706916 0.20879203 0.04232559]\n",
      "Number of failures for josh images: 43; [0.05841862 0.11073074 0.41691506]\n",
      "Number of failures for josh images: 44; [0.98168796 0.0034596  0.00353879]\n",
      "Number of failures for josh images: 45; [0.04653335 0.81642115 0.8992088 ]\n",
      "Number of failures for josh images: 46; [0.59413934 0.4330677  0.02918416]\n",
      "Number of failures for josh images: 47; [0.9416107  0.8738791  0.00629985]\n",
      "Number of failures for josh images: 48; [0.11587033 0.3514229  0.5314902 ]\n",
      "Number of failures for josh images: 49; [0.04010081 0.21836658 0.47596604]\n",
      "Number of failures for josh images: 50; [0.10375712 0.37380716 0.40577582]\n",
      "Number of failures for josh images: 51; [0.8143192  0.67408645 0.05717311]\n",
      "Number of failures for josh images: 52; [0.8260618  0.8194704  0.04419586]\n",
      "Number of failures for josh images: 53; [0.01112708 0.40515423 0.97081506]\n",
      "Number of failures for josh images: 54; [0.8729135  0.48799315 0.13237737]\n",
      "Number of failures for josh images: 55; [0.35428682 0.00291868 0.7956678 ]\n",
      "Number of failures for josh images: 56; [0.80294985 0.9983931  0.99986005]\n",
      "Number of failures for josh images: 57; [0.9945104  0.7042611  0.00371241]\n",
      "Number of failures for josh images: 58; [0.03228459 0.24034892 0.7976516 ]\n",
      "Number of failures for josh images: 59; [0.67892885 0.07964586 0.23164068]\n",
      "Number of failures for josh images: 60; [0.01877811 0.28850034 0.47206753]\n",
      "Number of failures for josh images: 61; [0.9098358  0.5194455  0.00291809]\n",
      "Number of failures for josh images: 62; [0.62095714 0.58387136 0.12867516]\n",
      "Number of failures for josh images: 63; [0.4084738  0.22954512 0.2573944 ]\n",
      "Number of failures for josh images: 64; [0.4829964  0.47899288 0.04102781]\n",
      "Number of failures for josh images: 65; [0.8310071  0.7532941  0.01868737]\n",
      "Number of failures for josh images: 66; [9.1196442e-01 9.0437931e-01 6.2086096e-04]\n",
      "Number of failures for josh images: 67; [0.49444917 0.34156188 0.02542761]\n",
      "Number of failures for josh images: 68; [8.5524613e-01 8.2305190e-04 1.2357993e-05]\n",
      "Number of failures for josh images: 69; [0.03544809 0.3119606  0.97214353]\n",
      "Number of failures for josh images: 70; [0.03489053 0.04847494 0.26768723]\n",
      "Number of failures for josh images: 71; [0.74270016 0.8702289  0.9997017 ]\n",
      "Number of failures for josh images: 72; [0.43560883 0.5551011  0.5775827 ]\n",
      "Number of failures for josh images: 73; [0.80047244 0.07169962 0.00615393]\n",
      "Number of failures for josh images: 74; [9.657886e-01 3.234031e-02 6.651483e-05]\n",
      "Number of failures for josh images: 75; [6.4425267e-06 5.8550346e-03 9.6016902e-01]\n",
      "Number of failures for josh images: 76; [0.9880413  0.8986242  0.01805508]\n",
      "Number of failures for josh images: 77; [0.7106229  0.59502006 0.00141506]\n",
      "Number of failures for josh images: 78; [9.1792792e-01 6.0415946e-02 1.4250168e-04]\n",
      "Number of failures for josh images: 79; [0.09000374 0.14382821 0.31016707]\n",
      "Number of failures for josh images: 80; [0.49107045 0.47232133 0.01857048]\n",
      "Number of failures for josh images: 81; [0.8944187  0.51013184 0.00615722]\n",
      "Number of failures for josh images: 82; [0.7512434  0.14402369 0.02177748]\n",
      "Number of failures for josh images: 83; [0.04961929 0.92090636 0.9517979 ]\n",
      "Number of failures for josh images: 84; [0.9157997  0.06658751 0.01612957]\n",
      "Number of failures for josh images: 85; [0.89886814 0.49141607 0.00548376]\n",
      "Number of failures for josh images: 86; [0.84668213 0.77202964 0.01534655]\n",
      "Number of failures for josh images: 87; [0.19893955 0.21019652 0.94616914]\n",
      "Number of failures for josh images: 88; [0.91919607 0.00941494 0.02361955]\n",
      "Number of failures for josh images: 89; [0.31764382 0.19295155 0.4451382 ]\n",
      "Number of failures for josh images: 90; [0.20445797 0.3231709  0.37550223]\n",
      "Number of failures for josh images: 91; [0.8260618  0.8194704  0.04419586]\n",
      "Number of failures for josh images: 92; [0.10349984 0.11639813 0.15539698]\n",
      "Number of failures for josh images: 93; [0.5771374  0.23896752 0.04653263]\n",
      "Number of failures for josh images: 94; [9.7045141e-01 9.4705814e-01 5.5235467e-04]\n",
      "Number of failures for josh images: 95; [0.87745947 0.23327373 0.05427513]\n",
      "Number of failures for josh images: 96; [0.1988021  0.11959501 0.02236623]\n",
      "Number of failures for josh images: 97; [0.9366347  0.01173269 0.01734788]\n",
      "Number of failures for josh images: 98; [0.06772062 0.39503145 0.5129956 ]\n",
      "Number of failures for josh images: 99; [0.02239181 0.4046276  0.9728539 ]\n",
      "Number of failures for josh images: 100; [0.48171747 0.23404764 0.05193252]\n",
      "Number of failures for josh images: 101; [0.05286707 0.9419083  0.99303824]\n",
      "Number of failures for josh images: 102; [0.9973616  0.98466855 0.00116955]\n",
      "Number of failures for josh images: 103; [0.43278733 0.00889765 0.8937319 ]\n",
      "Number of failures for josh images: 104; [0.11906669 0.47485468 0.58834314]\n",
      "Number of failures for josh images: 105; [0.98014694 0.9464637  0.00154409]\n",
      "Number of failures for josh images: 106; [0.06232179 0.9405509  0.98904395]\n",
      "244887/252483 [=============================>] - ETA: 7:26"
     ]
    }
   ],
   "source": [
    "num_failures_1 = 0\n",
    "t_orig = time.time()\n",
    "total_photos = len(os.listdir(KNOWN_FACE_2_PATH))\n",
    "total_processed = 0\n",
    "t = time.time()\n",
    "for face in os.listdir(KNOWN_FACE_2_PATH):\n",
    "    face_path = os.path.join(KNOWN_FACE_2_PATH, face)\n",
    "    im = deprocess_image(preprocess(face_path, MODEL_INPUT_IMAGE_DIMENSIONS))\n",
    "    pred = model.predict(np.array([im]), verbose=0)[0]\n",
    "    if not math.isclose(max(pred), pred[1]):\n",
    "        num_failures_1 += 1\n",
    "        print(\"\\rNumber of failures for josh images: \" + str(num_failures_1) + \"; \" + str(pred))\n",
    "        im = Image.fromarray(im)\n",
    "        im.save(os.path.join(MODEL_1_FAILED_PATH, face))\n",
    "    total_processed += 1\n",
    "    t = display_progressbar(t1=t, t_orig=t_orig, total_photos=total_photos, total_processed=total_processed)"
   ],
   "metadata": {
    "collapsed": false,
    "is_executing": true,
    "ExecuteTime": {
     "start_time": "2024-03-12T14:37:21.427899Z"
    }
   },
   "id": "873a207bec9c20b7"
  },
  {
   "cell_type": "markdown",
   "source": [
    "#### Evaluate on photos of unknown people"
   ],
   "metadata": {
    "collapsed": false
   },
   "id": "aa07c00b9dba6440"
  },
  {
   "cell_type": "code",
   "outputs": [],
   "source": [
    "num_failures_2 = 0\n",
    "t_orig = time.time()\n",
    "total_photos = len(os.listdir(UNKNOWN_FACES_PATH))\n",
    "total_processed = 0\n",
    "t = time.time()\n",
    "for face in os.listdir(UNKNOWN_FACES_PATH):\n",
    "    face_path = os.path.join(UNKNOWN_FACES_PATH, face)\n",
    "    im = deprocess_image(preprocess(face_path, MODEL_INPUT_IMAGE_DIMENSIONS))\n",
    "    pred = model.predict(np.array([im]), verbose=0)[0]\n",
    "    if not math.isclose(max(pred), pred[2]):\n",
    "        num_failures_2 += 1\n",
    "        print(\"\\rNumber of failures for unknown images: \" + str(num_failures_2) + \"; \" + str(pred))\n",
    "        im = Image.fromarray(im)\n",
    "        im.save(os.path.join(MODEL_2_FAILED_PATH, face))\n",
    "    total_processed += 1\n",
    "    t = display_progressbar(t1=t, t_orig=t_orig, total_photos=total_photos, total_processed=total_processed)"
   ],
   "metadata": {
    "collapsed": false,
    "is_executing": true
   },
   "id": "7e5ac5fcf7952100"
  },
  {
   "cell_type": "code",
   "outputs": [],
   "source": [
    "print(\"Total failures: \" + str(num_failures_0 + num_failures_1 + num_failures_2))"
   ],
   "metadata": {
    "collapsed": false
   },
   "id": "778ffb468ff2ea08"
  }
 ],
 "metadata": {
  "kernelspec": {
   "display_name": "Python 3",
   "language": "python",
   "name": "python3"
  },
  "language_info": {
   "codemirror_mode": {
    "name": "ipython",
    "version": 2
   },
   "file_extension": ".py",
   "mimetype": "text/x-python",
   "name": "python",
   "nbconvert_exporter": "python",
   "pygments_lexer": "ipython2",
   "version": "2.7.6"
  }
 },
 "nbformat": 4,
 "nbformat_minor": 5
}
