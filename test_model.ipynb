{
 "cells": [
  {
   "cell_type": "code",
   "execution_count": 3,
   "id": "initial_id",
   "metadata": {
    "collapsed": true,
    "ExecuteTime": {
     "end_time": "2024-03-13T19:09:53.929052Z",
     "start_time": "2024-03-13T19:09:53.559986Z"
    }
   },
   "outputs": [],
   "source": [
    "import tensorflow as tf\n",
    "import os\n",
    "from constants import UNKNOWN_FACES_PATH, MODEL_INPUT_IMAGE_DIMENSIONS, PATH_TO_FAILED_MODEL_EVALUATION_IMAGES, MODEL_0_FAILED_PATH, MODEL_1_FAILED_PATH, MODEL_2_FAILED_PATH, KNOWN_FACE_1_PATH, KNOWN_FACE_2_PATH, MODEL_PATH\n",
    "from helpers import preprocess, deprocess_image, display_progressbar, model_prediction\n",
    "import numpy as np\n",
    "import time\n",
    "from face_tracking import face_detection\n",
    "from PIL import Image\n",
    "import shutil\n",
    "\n",
    "model = tf.keras.models.load_model(os.path.join(MODEL_PATH, 'model_best_with_josh_2.h5'))\n",
    "required_bound=.8\n",
    "certainty_bound=.05"
   ]
  },
  {
   "cell_type": "markdown",
   "source": [
    "#### Check model manually"
   ],
   "metadata": {
    "collapsed": false
   },
   "id": "14e0b358f38e9f2b"
  },
  {
   "cell_type": "code",
   "outputs": [],
   "source": [
    "face_detection(model=model, required_bound=required_bound, certainty_bound=certainty_bound)"
   ],
   "metadata": {
    "collapsed": false,
    "ExecuteTime": {
     "end_time": "2024-03-13T19:25:50.108899Z",
     "start_time": "2024-03-13T19:24:30.301539Z"
    }
   },
   "id": "f288b800e7b11f28",
   "execution_count": 5
  },
  {
   "cell_type": "markdown",
   "source": [
    "#### Delete old files"
   ],
   "metadata": {
    "collapsed": false
   },
   "id": "e1f53e2d81754741"
  },
  {
   "cell_type": "code",
   "outputs": [],
   "source": [
    "for directory in os.listdir(PATH_TO_FAILED_MODEL_EVALUATION_IMAGES):\n",
    "    if os.path.isdir(os.path.join(PATH_TO_FAILED_MODEL_EVALUATION_IMAGES, directory)):\n",
    "        for file in os.listdir(os.path.join(PATH_TO_FAILED_MODEL_EVALUATION_IMAGES, directory)):\n",
    "            file_path = os.path.join(PATH_TO_FAILED_MODEL_EVALUATION_IMAGES, directory, file)\n",
    "            try:\n",
    "                if os.path.isfile(file_path) or os.path.islink(file_path):\n",
    "                    os.unlink(file_path)\n",
    "                elif os.path.isdir(file_path):\n",
    "                    shutil.rmtree(file_path)\n",
    "            except Exception as e:\n",
    "                print('Failed to delete %s. Reason: %s' % (file_path, e))"
   ],
   "metadata": {
    "collapsed": false,
    "ExecuteTime": {
     "end_time": "2024-03-13T18:38:43.283364Z",
     "start_time": "2024-03-13T18:38:43.272227Z"
    }
   },
   "id": "42e7775d771df771",
   "execution_count": 12
  },
  {
   "cell_type": "markdown",
   "source": [
    "### Evaluate model on all data"
   ],
   "metadata": {
    "collapsed": false
   },
   "id": "a71a954e92d43c11"
  },
  {
   "cell_type": "markdown",
   "source": [
    "#### Evaluate on photos of Stephen"
   ],
   "metadata": {
    "collapsed": false
   },
   "id": "c97494e48dd689f4"
  },
  {
   "cell_type": "code",
   "outputs": [
    {
     "name": "stdout",
     "output_type": "stream",
     "text": [
      "Number of failures for stephen images: 1; [1.         0.9996296  0.21197365]\n",
      "Number of failures for stephen images: 2; [0.9999999  0.95644283 0.02374381]\n",
      "Number of failures for stephen images: 3; [1.         0.9619477  0.00592574]\n",
      "Number of failures for stephen images: 4; [0.99999964 0.8024539  0.98249143]\n",
      "Number of failures for stephen images: 5; [1.        0.979735  0.9417627]\n",
      "Number of failures for stephen images: 6; [1.         0.9984707  0.00307007]\n",
      "Number of failures for stephen images: 7; [1.         0.9981858  0.12338673]\n",
      "Number of failures for stephen images: 8; [0.9999999  0.99316275 0.89646935]\n",
      "Number of failures for stephen images: 9; [1.        0.9995215 0.9901737]\n",
      "Number of failures for stephen images: 10; [1.        0.9999995 0.96653  ]\n",
      "Number of failures for stephen images: 11; [1.         0.9882287  0.65513194]\n",
      "Number of failures for stephen images: 12; [1.         0.9733025  0.99764234]\n",
      "Number of failures for stephen images: 13; [9.9999964e-01 1.1931073e-04 9.7370106e-01]\n",
      "Number of failures for stephen images: 14; [1.        0.9979984 0.1564611]\n",
      "Number of failures for stephen images: 15; [1.         0.99950683 0.9974486 ]\n",
      "Number of failures for stephen images: 16; [0.9999999  0.5890783  0.99569345]\n",
      "Number of failures for stephen images: 17; [1.         0.99527764 0.9738217 ]\n",
      "Number of failures for stephen images: 18; [6.8678200e-01 9.2035805e-16 3.7828344e-05]\n",
      "Number of failures for stephen images: 19; [1.         0.02944078 0.9735912 ]\n",
      "Number of failures for stephen images: 20; [0.99999964 0.71200174 0.9655736 ]\n",
      "Number of failures for stephen images: 21; [0.9999995  0.9941567  0.06694857]\n",
      "Number of failures for stephen images: 22; [0.9999999  0.02575437 0.9563437 ]\n",
      "Number of failures for stephen images: 23; [1.         0.99596417 0.08149397]\n",
      "Number of failures for stephen images: 24; [0.99999976 0.9965522  0.03397393]\n",
      "Number of failures for stephen images: 25; [1.0000000e+00 4.0046616e-05 9.9826968e-01]\n",
      "Number of failures for stephen images: 26; [0.99999964 0.96917826 0.4754704 ]\n",
      "Number of failures for stephen images: 27; [1.         0.9816201  0.12635405]\n",
      "Number of failures for stephen images: 28; [6.5076649e-01 4.8551708e-14 3.9023868e-07]\n",
      "Number of failures for stephen images: 29; [0.9999999  0.96312237 0.01361192]\n",
      "Number of failures for stephen images: 30; [1.         0.95352507 0.05356432]\n",
      "Number of failures for stephen images: 31; [1.         0.99804866 0.01411339]\n",
      "Number of failures for stephen images: 32; [1.        0.8544131 0.9838704]\n",
      "Number of failures for stephen images: 33; [1.        0.8967218 0.9942695]\n",
      "Number of failures for stephen images: 34; [1.         0.95355964 0.5894613 ]\n",
      "Number of failures for stephen images: 35; [1.         0.80583334 0.99431497]\n",
      "Number of failures for stephen images: 36; [9.9999690e-01 4.4662142e-06 9.6960777e-01]\n",
      "1990/438760 [>-----------------------------] - ETA: 292:31"
     ]
    },
    {
     "ename": "KeyboardInterrupt",
     "evalue": "",
     "output_type": "error",
     "traceback": [
      "\u001B[0;31m---------------------------------------------------------------------------\u001B[0m",
      "\u001B[0;31mKeyboardInterrupt\u001B[0m                         Traceback (most recent call last)",
      "Cell \u001B[0;32mIn[14], line 9\u001B[0m\n\u001B[1;32m      7\u001B[0m face_path \u001B[38;5;241m=\u001B[39m os\u001B[38;5;241m.\u001B[39mpath\u001B[38;5;241m.\u001B[39mjoin(KNOWN_FACE_1_PATH, face)\n\u001B[1;32m      8\u001B[0m im \u001B[38;5;241m=\u001B[39m deprocess_image(preprocess(face_path, MODEL_INPUT_IMAGE_DIMENSIONS))\n\u001B[0;32m----> 9\u001B[0m pred \u001B[38;5;241m=\u001B[39m \u001B[43mmodel\u001B[49m\u001B[38;5;241;43m.\u001B[39;49m\u001B[43mpredict\u001B[49m\u001B[43m(\u001B[49m\u001B[43mnp\u001B[49m\u001B[38;5;241;43m.\u001B[39;49m\u001B[43marray\u001B[49m\u001B[43m(\u001B[49m\u001B[43m[\u001B[49m\u001B[43mim\u001B[49m\u001B[43m]\u001B[49m\u001B[43m)\u001B[49m\u001B[43m,\u001B[49m\u001B[43m \u001B[49m\u001B[43mverbose\u001B[49m\u001B[38;5;241;43m=\u001B[39;49m\u001B[38;5;241;43m0\u001B[39;49m\u001B[43m)\u001B[49m[\u001B[38;5;241m0\u001B[39m]\n\u001B[1;32m     10\u001B[0m \u001B[38;5;28;01mif\u001B[39;00m  model_prediction(pred, [\u001B[38;5;28;01mNone\u001B[39;00m, \u001B[38;5;28;01mNone\u001B[39;00m], required_bound\u001B[38;5;241m=\u001B[39mrequired_bound, certainty_bound\u001B[38;5;241m=\u001B[39mcertainty_bound) \u001B[38;5;241m!=\u001B[39m \u001B[38;5;124m\"\u001B[39m\u001B[38;5;124m0\u001B[39m\u001B[38;5;124m\"\u001B[39m:\n\u001B[1;32m     11\u001B[0m     num_failures_0 \u001B[38;5;241m+\u001B[39m\u001B[38;5;241m=\u001B[39m \u001B[38;5;241m1\u001B[39m\n",
      "File \u001B[0;32m/Library/Frameworks/Python.framework/Versions/3.11/lib/python3.11/site-packages/keras/src/utils/traceback_utils.py:65\u001B[0m, in \u001B[0;36mfilter_traceback.<locals>.error_handler\u001B[0;34m(*args, **kwargs)\u001B[0m\n\u001B[1;32m     63\u001B[0m filtered_tb \u001B[38;5;241m=\u001B[39m \u001B[38;5;28;01mNone\u001B[39;00m\n\u001B[1;32m     64\u001B[0m \u001B[38;5;28;01mtry\u001B[39;00m:\n\u001B[0;32m---> 65\u001B[0m     \u001B[38;5;28;01mreturn\u001B[39;00m \u001B[43mfn\u001B[49m\u001B[43m(\u001B[49m\u001B[38;5;241;43m*\u001B[39;49m\u001B[43margs\u001B[49m\u001B[43m,\u001B[49m\u001B[43m \u001B[49m\u001B[38;5;241;43m*\u001B[39;49m\u001B[38;5;241;43m*\u001B[39;49m\u001B[43mkwargs\u001B[49m\u001B[43m)\u001B[49m\n\u001B[1;32m     66\u001B[0m \u001B[38;5;28;01mexcept\u001B[39;00m \u001B[38;5;167;01mException\u001B[39;00m \u001B[38;5;28;01mas\u001B[39;00m e:\n\u001B[1;32m     67\u001B[0m     filtered_tb \u001B[38;5;241m=\u001B[39m _process_traceback_frames(e\u001B[38;5;241m.\u001B[39m__traceback__)\n",
      "File \u001B[0;32m/Library/Frameworks/Python.framework/Versions/3.11/lib/python3.11/site-packages/keras/src/engine/training.py:2620\u001B[0m, in \u001B[0;36mModel.predict\u001B[0;34m(self, x, batch_size, verbose, steps, callbacks, max_queue_size, workers, use_multiprocessing)\u001B[0m\n\u001B[1;32m   2611\u001B[0m     \u001B[38;5;28;01mexcept\u001B[39;00m \u001B[38;5;167;01mValueError\u001B[39;00m:\n\u001B[1;32m   2612\u001B[0m         warnings\u001B[38;5;241m.\u001B[39mwarn(\n\u001B[1;32m   2613\u001B[0m             \u001B[38;5;124m\"\u001B[39m\u001B[38;5;124mUsing Model.predict with MultiWorkerMirroredStrategy \u001B[39m\u001B[38;5;124m\"\u001B[39m\n\u001B[1;32m   2614\u001B[0m             \u001B[38;5;124m\"\u001B[39m\u001B[38;5;124mor TPUStrategy and AutoShardPolicy.FILE might lead to \u001B[39m\u001B[38;5;124m\"\u001B[39m\n\u001B[0;32m   (...)\u001B[0m\n\u001B[1;32m   2617\u001B[0m             stacklevel\u001B[38;5;241m=\u001B[39m\u001B[38;5;241m2\u001B[39m,\n\u001B[1;32m   2618\u001B[0m         )\n\u001B[0;32m-> 2620\u001B[0m data_handler \u001B[38;5;241m=\u001B[39m \u001B[43mdata_adapter\u001B[49m\u001B[38;5;241;43m.\u001B[39;49m\u001B[43mget_data_handler\u001B[49m\u001B[43m(\u001B[49m\n\u001B[1;32m   2621\u001B[0m \u001B[43m    \u001B[49m\u001B[43mx\u001B[49m\u001B[38;5;241;43m=\u001B[39;49m\u001B[43mx\u001B[49m\u001B[43m,\u001B[49m\n\u001B[1;32m   2622\u001B[0m \u001B[43m    \u001B[49m\u001B[43mbatch_size\u001B[49m\u001B[38;5;241;43m=\u001B[39;49m\u001B[43mbatch_size\u001B[49m\u001B[43m,\u001B[49m\n\u001B[1;32m   2623\u001B[0m \u001B[43m    \u001B[49m\u001B[43msteps_per_epoch\u001B[49m\u001B[38;5;241;43m=\u001B[39;49m\u001B[43msteps\u001B[49m\u001B[43m,\u001B[49m\n\u001B[1;32m   2624\u001B[0m \u001B[43m    \u001B[49m\u001B[43minitial_epoch\u001B[49m\u001B[38;5;241;43m=\u001B[39;49m\u001B[38;5;241;43m0\u001B[39;49m\u001B[43m,\u001B[49m\n\u001B[1;32m   2625\u001B[0m \u001B[43m    \u001B[49m\u001B[43mepochs\u001B[49m\u001B[38;5;241;43m=\u001B[39;49m\u001B[38;5;241;43m1\u001B[39;49m\u001B[43m,\u001B[49m\n\u001B[1;32m   2626\u001B[0m \u001B[43m    \u001B[49m\u001B[43mmax_queue_size\u001B[49m\u001B[38;5;241;43m=\u001B[39;49m\u001B[43mmax_queue_size\u001B[49m\u001B[43m,\u001B[49m\n\u001B[1;32m   2627\u001B[0m \u001B[43m    \u001B[49m\u001B[43mworkers\u001B[49m\u001B[38;5;241;43m=\u001B[39;49m\u001B[43mworkers\u001B[49m\u001B[43m,\u001B[49m\n\u001B[1;32m   2628\u001B[0m \u001B[43m    \u001B[49m\u001B[43muse_multiprocessing\u001B[49m\u001B[38;5;241;43m=\u001B[39;49m\u001B[43muse_multiprocessing\u001B[49m\u001B[43m,\u001B[49m\n\u001B[1;32m   2629\u001B[0m \u001B[43m    \u001B[49m\u001B[43mmodel\u001B[49m\u001B[38;5;241;43m=\u001B[39;49m\u001B[38;5;28;43mself\u001B[39;49m\u001B[43m,\u001B[49m\n\u001B[1;32m   2630\u001B[0m \u001B[43m    \u001B[49m\u001B[43msteps_per_execution\u001B[49m\u001B[38;5;241;43m=\u001B[39;49m\u001B[38;5;28;43mself\u001B[39;49m\u001B[38;5;241;43m.\u001B[39;49m\u001B[43m_steps_per_execution\u001B[49m\u001B[43m,\u001B[49m\n\u001B[1;32m   2631\u001B[0m \u001B[43m\u001B[49m\u001B[43m)\u001B[49m\n\u001B[1;32m   2633\u001B[0m \u001B[38;5;66;03m# Container that configures and calls `tf.keras.Callback`s.\u001B[39;00m\n\u001B[1;32m   2634\u001B[0m \u001B[38;5;28;01mif\u001B[39;00m \u001B[38;5;129;01mnot\u001B[39;00m \u001B[38;5;28misinstance\u001B[39m(callbacks, callbacks_module\u001B[38;5;241m.\u001B[39mCallbackList):\n",
      "File \u001B[0;32m/Library/Frameworks/Python.framework/Versions/3.11/lib/python3.11/site-packages/keras/src/engine/data_adapter.py:1688\u001B[0m, in \u001B[0;36mget_data_handler\u001B[0;34m(*args, **kwargs)\u001B[0m\n\u001B[1;32m   1686\u001B[0m         \u001B[38;5;28;01mreturn\u001B[39;00m _ClusterCoordinatorExactEvalDataHandler(\u001B[38;5;241m*\u001B[39margs, \u001B[38;5;241m*\u001B[39m\u001B[38;5;241m*\u001B[39mkwargs)\n\u001B[1;32m   1687\u001B[0m     \u001B[38;5;28;01mreturn\u001B[39;00m _ClusterCoordinatorDataHandler(\u001B[38;5;241m*\u001B[39margs, \u001B[38;5;241m*\u001B[39m\u001B[38;5;241m*\u001B[39mkwargs)\n\u001B[0;32m-> 1688\u001B[0m \u001B[38;5;28;01mreturn\u001B[39;00m \u001B[43mDataHandler\u001B[49m\u001B[43m(\u001B[49m\u001B[38;5;241;43m*\u001B[39;49m\u001B[43margs\u001B[49m\u001B[43m,\u001B[49m\u001B[43m \u001B[49m\u001B[38;5;241;43m*\u001B[39;49m\u001B[38;5;241;43m*\u001B[39;49m\u001B[43mkwargs\u001B[49m\u001B[43m)\u001B[49m\n",
      "File \u001B[0;32m/Library/Frameworks/Python.framework/Versions/3.11/lib/python3.11/site-packages/keras/src/engine/data_adapter.py:1292\u001B[0m, in \u001B[0;36mDataHandler.__init__\u001B[0;34m(self, x, y, sample_weight, batch_size, steps_per_epoch, initial_epoch, epochs, shuffle, class_weight, max_queue_size, workers, use_multiprocessing, model, steps_per_execution, distribute, pss_evaluation_shards)\u001B[0m\n\u001B[1;32m   1289\u001B[0m     \u001B[38;5;28mself\u001B[39m\u001B[38;5;241m.\u001B[39m_steps_per_execution \u001B[38;5;241m=\u001B[39m steps_per_execution\n\u001B[1;32m   1291\u001B[0m adapter_cls \u001B[38;5;241m=\u001B[39m select_data_adapter(x, y)\n\u001B[0;32m-> 1292\u001B[0m \u001B[38;5;28mself\u001B[39m\u001B[38;5;241m.\u001B[39m_adapter \u001B[38;5;241m=\u001B[39m \u001B[43madapter_cls\u001B[49m\u001B[43m(\u001B[49m\n\u001B[1;32m   1293\u001B[0m \u001B[43m    \u001B[49m\u001B[43mx\u001B[49m\u001B[43m,\u001B[49m\n\u001B[1;32m   1294\u001B[0m \u001B[43m    \u001B[49m\u001B[43my\u001B[49m\u001B[43m,\u001B[49m\n\u001B[1;32m   1295\u001B[0m \u001B[43m    \u001B[49m\u001B[43mbatch_size\u001B[49m\u001B[38;5;241;43m=\u001B[39;49m\u001B[43mbatch_size\u001B[49m\u001B[43m,\u001B[49m\n\u001B[1;32m   1296\u001B[0m \u001B[43m    \u001B[49m\u001B[43msteps\u001B[49m\u001B[38;5;241;43m=\u001B[39;49m\u001B[43msteps_per_epoch\u001B[49m\u001B[43m,\u001B[49m\n\u001B[1;32m   1297\u001B[0m \u001B[43m    \u001B[49m\u001B[43mepochs\u001B[49m\u001B[38;5;241;43m=\u001B[39;49m\u001B[43mepochs\u001B[49m\u001B[43m \u001B[49m\u001B[38;5;241;43m-\u001B[39;49m\u001B[43m \u001B[49m\u001B[43minitial_epoch\u001B[49m\u001B[43m,\u001B[49m\n\u001B[1;32m   1298\u001B[0m \u001B[43m    \u001B[49m\u001B[43msample_weights\u001B[49m\u001B[38;5;241;43m=\u001B[39;49m\u001B[43msample_weight\u001B[49m\u001B[43m,\u001B[49m\n\u001B[1;32m   1299\u001B[0m \u001B[43m    \u001B[49m\u001B[43mshuffle\u001B[49m\u001B[38;5;241;43m=\u001B[39;49m\u001B[43mshuffle\u001B[49m\u001B[43m,\u001B[49m\n\u001B[1;32m   1300\u001B[0m \u001B[43m    \u001B[49m\u001B[43mmax_queue_size\u001B[49m\u001B[38;5;241;43m=\u001B[39;49m\u001B[43mmax_queue_size\u001B[49m\u001B[43m,\u001B[49m\n\u001B[1;32m   1301\u001B[0m \u001B[43m    \u001B[49m\u001B[43mworkers\u001B[49m\u001B[38;5;241;43m=\u001B[39;49m\u001B[43mworkers\u001B[49m\u001B[43m,\u001B[49m\n\u001B[1;32m   1302\u001B[0m \u001B[43m    \u001B[49m\u001B[43muse_multiprocessing\u001B[49m\u001B[38;5;241;43m=\u001B[39;49m\u001B[43muse_multiprocessing\u001B[49m\u001B[43m,\u001B[49m\n\u001B[1;32m   1303\u001B[0m \u001B[43m    \u001B[49m\u001B[43mdistribution_strategy\u001B[49m\u001B[38;5;241;43m=\u001B[39;49m\u001B[43mtf\u001B[49m\u001B[38;5;241;43m.\u001B[39;49m\u001B[43mdistribute\u001B[49m\u001B[38;5;241;43m.\u001B[39;49m\u001B[43mget_strategy\u001B[49m\u001B[43m(\u001B[49m\u001B[43m)\u001B[49m\u001B[43m,\u001B[49m\n\u001B[1;32m   1304\u001B[0m \u001B[43m    \u001B[49m\u001B[43mmodel\u001B[49m\u001B[38;5;241;43m=\u001B[39;49m\u001B[43mmodel\u001B[49m\u001B[43m,\u001B[49m\n\u001B[1;32m   1305\u001B[0m \u001B[43m    \u001B[49m\u001B[43mpss_evaluation_shards\u001B[49m\u001B[38;5;241;43m=\u001B[39;49m\u001B[43mpss_evaluation_shards\u001B[49m\u001B[43m,\u001B[49m\n\u001B[1;32m   1306\u001B[0m \u001B[43m\u001B[49m\u001B[43m)\u001B[49m\n\u001B[1;32m   1308\u001B[0m strategy \u001B[38;5;241m=\u001B[39m tf\u001B[38;5;241m.\u001B[39mdistribute\u001B[38;5;241m.\u001B[39mget_strategy()\n\u001B[1;32m   1310\u001B[0m \u001B[38;5;28mself\u001B[39m\u001B[38;5;241m.\u001B[39m_current_step \u001B[38;5;241m=\u001B[39m \u001B[38;5;241m0\u001B[39m\n",
      "File \u001B[0;32m/Library/Frameworks/Python.framework/Versions/3.11/lib/python3.11/site-packages/keras/src/engine/data_adapter.py:355\u001B[0m, in \u001B[0;36mTensorLikeDataAdapter.__init__\u001B[0;34m(self, x, y, sample_weights, sample_weight_modes, batch_size, epochs, steps, shuffle, **kwargs)\u001B[0m\n\u001B[1;32m    351\u001B[0m     \u001B[38;5;28;01mreturn\u001B[39;00m flat_dataset\n\u001B[1;32m    353\u001B[0m indices_dataset \u001B[38;5;241m=\u001B[39m indices_dataset\u001B[38;5;241m.\u001B[39mflat_map(slice_batch_indices)\n\u001B[0;32m--> 355\u001B[0m dataset \u001B[38;5;241m=\u001B[39m \u001B[38;5;28;43mself\u001B[39;49m\u001B[38;5;241;43m.\u001B[39;49m\u001B[43mslice_inputs\u001B[49m\u001B[43m(\u001B[49m\u001B[43mindices_dataset\u001B[49m\u001B[43m,\u001B[49m\u001B[43m \u001B[49m\u001B[43minputs\u001B[49m\u001B[43m)\u001B[49m\n\u001B[1;32m    357\u001B[0m \u001B[38;5;28;01mif\u001B[39;00m shuffle \u001B[38;5;241m==\u001B[39m \u001B[38;5;124m\"\u001B[39m\u001B[38;5;124mbatch\u001B[39m\u001B[38;5;124m\"\u001B[39m:\n\u001B[1;32m    359\u001B[0m     \u001B[38;5;28;01mdef\u001B[39;00m \u001B[38;5;21mshuffle_batch\u001B[39m(\u001B[38;5;241m*\u001B[39mbatch):\n",
      "File \u001B[0;32m/Library/Frameworks/Python.framework/Versions/3.11/lib/python3.11/site-packages/keras/src/engine/data_adapter.py:388\u001B[0m, in \u001B[0;36mTensorLikeDataAdapter.slice_inputs\u001B[0;34m(self, indices_dataset, inputs)\u001B[0m\n\u001B[1;32m    372\u001B[0m \u001B[38;5;28;01mdef\u001B[39;00m \u001B[38;5;21mslice_inputs\u001B[39m(\u001B[38;5;28mself\u001B[39m, indices_dataset, inputs):\n\u001B[1;32m    373\u001B[0m \u001B[38;5;250m    \u001B[39m\u001B[38;5;124;03m\"\"\"Slice inputs into a Dataset of batches.\u001B[39;00m\n\u001B[1;32m    374\u001B[0m \n\u001B[1;32m    375\u001B[0m \u001B[38;5;124;03m    Given a Dataset of batch indices and the unsliced inputs,\u001B[39;00m\n\u001B[0;32m   (...)\u001B[0m\n\u001B[1;32m    385\u001B[0m \u001B[38;5;124;03m      A Dataset of input batches matching the batch indices.\u001B[39;00m\n\u001B[1;32m    386\u001B[0m \u001B[38;5;124;03m    \"\"\"\u001B[39;00m\n\u001B[1;32m    387\u001B[0m     dataset \u001B[38;5;241m=\u001B[39m tf\u001B[38;5;241m.\u001B[39mdata\u001B[38;5;241m.\u001B[39mDataset\u001B[38;5;241m.\u001B[39mzip(\n\u001B[0;32m--> 388\u001B[0m         (indices_dataset, \u001B[43mtf\u001B[49m\u001B[38;5;241;43m.\u001B[39;49m\u001B[43mdata\u001B[49m\u001B[38;5;241;43m.\u001B[39;49m\u001B[43mDataset\u001B[49m\u001B[38;5;241;43m.\u001B[39;49m\u001B[43mfrom_tensors\u001B[49m\u001B[43m(\u001B[49m\u001B[43minputs\u001B[49m\u001B[43m)\u001B[49m\u001B[38;5;241;43m.\u001B[39;49m\u001B[43mrepeat\u001B[49m\u001B[43m(\u001B[49m\u001B[43m)\u001B[49m)\n\u001B[1;32m    389\u001B[0m     )\n\u001B[1;32m    391\u001B[0m     \u001B[38;5;28;01mdef\u001B[39;00m \u001B[38;5;21mgrab_batch\u001B[39m(i, data):\n\u001B[1;32m    392\u001B[0m         \u001B[38;5;28;01mreturn\u001B[39;00m tf\u001B[38;5;241m.\u001B[39mnest\u001B[38;5;241m.\u001B[39mmap_structure(\n\u001B[1;32m    393\u001B[0m             \u001B[38;5;28;01mlambda\u001B[39;00m d: tf\u001B[38;5;241m.\u001B[39mgather(d, i, axis\u001B[38;5;241m=\u001B[39m\u001B[38;5;241m0\u001B[39m), data\n\u001B[1;32m    394\u001B[0m         )\n",
      "File \u001B[0;32m/Library/Frameworks/Python.framework/Versions/3.11/lib/python3.11/site-packages/tensorflow/python/data/ops/dataset_ops.py:1349\u001B[0m, in \u001B[0;36mDatasetV2.repeat\u001B[0;34m(self, count, name)\u001B[0m\n\u001B[1;32m   1345\u001B[0m \u001B[38;5;66;03m# Loaded lazily due to a circular dependency (dataset_ops -> repeat_op ->\u001B[39;00m\n\u001B[1;32m   1346\u001B[0m \u001B[38;5;66;03m# dataset_ops).\u001B[39;00m\n\u001B[1;32m   1347\u001B[0m \u001B[38;5;66;03m# pylint: disable=g-import-not-at-top,protected-access,redefined-outer-name\u001B[39;00m\n\u001B[1;32m   1348\u001B[0m \u001B[38;5;28;01mfrom\u001B[39;00m \u001B[38;5;21;01mtensorflow\u001B[39;00m\u001B[38;5;21;01m.\u001B[39;00m\u001B[38;5;21;01mpython\u001B[39;00m\u001B[38;5;21;01m.\u001B[39;00m\u001B[38;5;21;01mdata\u001B[39;00m\u001B[38;5;21;01m.\u001B[39;00m\u001B[38;5;21;01mops\u001B[39;00m \u001B[38;5;28;01mimport\u001B[39;00m repeat_op\n\u001B[0;32m-> 1349\u001B[0m \u001B[38;5;28;01mreturn\u001B[39;00m \u001B[43mrepeat_op\u001B[49m\u001B[38;5;241;43m.\u001B[39;49m\u001B[43m_repeat\u001B[49m\u001B[43m(\u001B[49m\u001B[38;5;28;43mself\u001B[39;49m\u001B[43m,\u001B[49m\u001B[43m \u001B[49m\u001B[43mcount\u001B[49m\u001B[43m,\u001B[49m\u001B[43m \u001B[49m\u001B[43mname\u001B[49m\u001B[43m)\u001B[49m\n",
      "File \u001B[0;32m/Library/Frameworks/Python.framework/Versions/3.11/lib/python3.11/site-packages/tensorflow/python/data/ops/repeat_op.py:25\u001B[0m, in \u001B[0;36m_repeat\u001B[0;34m(input_dataset, count, name)\u001B[0m\n\u001B[1;32m     24\u001B[0m \u001B[38;5;28;01mdef\u001B[39;00m \u001B[38;5;21m_repeat\u001B[39m(input_dataset, count, name):  \u001B[38;5;66;03m# pylint: disable=unused-private-name\u001B[39;00m\n\u001B[0;32m---> 25\u001B[0m   \u001B[38;5;28;01mreturn\u001B[39;00m \u001B[43m_RepeatDataset\u001B[49m\u001B[43m(\u001B[49m\u001B[43minput_dataset\u001B[49m\u001B[43m,\u001B[49m\u001B[43m \u001B[49m\u001B[43mcount\u001B[49m\u001B[43m,\u001B[49m\u001B[43m \u001B[49m\u001B[43mname\u001B[49m\u001B[43m)\u001B[49m\n",
      "File \u001B[0;32m/Library/Frameworks/Python.framework/Versions/3.11/lib/python3.11/site-packages/tensorflow/python/data/ops/repeat_op.py:40\u001B[0m, in \u001B[0;36m_RepeatDataset.__init__\u001B[0;34m(self, input_dataset, count, name)\u001B[0m\n\u001B[1;32m     37\u001B[0m   \u001B[38;5;28mself\u001B[39m\u001B[38;5;241m.\u001B[39m_count \u001B[38;5;241m=\u001B[39m ops\u001B[38;5;241m.\u001B[39mconvert_to_tensor(\n\u001B[1;32m     38\u001B[0m       count, dtype\u001B[38;5;241m=\u001B[39mdtypes\u001B[38;5;241m.\u001B[39mint64, name\u001B[38;5;241m=\u001B[39m\u001B[38;5;124m\"\u001B[39m\u001B[38;5;124mcount\u001B[39m\u001B[38;5;124m\"\u001B[39m)\n\u001B[1;32m     39\u001B[0m \u001B[38;5;28mself\u001B[39m\u001B[38;5;241m.\u001B[39m_name \u001B[38;5;241m=\u001B[39m name\n\u001B[0;32m---> 40\u001B[0m variant_tensor \u001B[38;5;241m=\u001B[39m \u001B[43mgen_dataset_ops\u001B[49m\u001B[38;5;241;43m.\u001B[39;49m\u001B[43mrepeat_dataset\u001B[49m\u001B[43m(\u001B[49m\n\u001B[1;32m     41\u001B[0m \u001B[43m    \u001B[49m\u001B[43minput_dataset\u001B[49m\u001B[38;5;241;43m.\u001B[39;49m\u001B[43m_variant_tensor\u001B[49m\u001B[43m,\u001B[49m\u001B[43m  \u001B[49m\u001B[38;5;66;43;03m# pylint: disable=protected-access\u001B[39;49;00m\n\u001B[1;32m     42\u001B[0m \u001B[43m    \u001B[49m\u001B[43mcount\u001B[49m\u001B[38;5;241;43m=\u001B[39;49m\u001B[38;5;28;43mself\u001B[39;49m\u001B[38;5;241;43m.\u001B[39;49m\u001B[43m_count\u001B[49m\u001B[43m,\u001B[49m\n\u001B[1;32m     43\u001B[0m \u001B[43m    \u001B[49m\u001B[38;5;241;43m*\u001B[39;49m\u001B[38;5;241;43m*\u001B[39;49m\u001B[38;5;28;43mself\u001B[39;49m\u001B[38;5;241;43m.\u001B[39;49m\u001B[43m_common_args\u001B[49m\u001B[43m)\u001B[49m\n\u001B[1;32m     44\u001B[0m \u001B[38;5;28msuper\u001B[39m()\u001B[38;5;241m.\u001B[39m\u001B[38;5;21m__init__\u001B[39m(input_dataset, variant_tensor)\n",
      "File \u001B[0;32m/Library/Frameworks/Python.framework/Versions/3.11/lib/python3.11/site-packages/tensorflow/python/ops/gen_dataset_ops.py:6286\u001B[0m, in \u001B[0;36mrepeat_dataset\u001B[0;34m(input_dataset, count, output_types, output_shapes, metadata, name)\u001B[0m\n\u001B[1;32m   6284\u001B[0m \u001B[38;5;28;01mif\u001B[39;00m tld\u001B[38;5;241m.\u001B[39mis_eager:\n\u001B[1;32m   6285\u001B[0m   \u001B[38;5;28;01mtry\u001B[39;00m:\n\u001B[0;32m-> 6286\u001B[0m     _result \u001B[38;5;241m=\u001B[39m \u001B[43mpywrap_tfe\u001B[49m\u001B[38;5;241;43m.\u001B[39;49m\u001B[43mTFE_Py_FastPathExecute\u001B[49m\u001B[43m(\u001B[49m\n\u001B[1;32m   6287\u001B[0m \u001B[43m      \u001B[49m\u001B[43m_ctx\u001B[49m\u001B[43m,\u001B[49m\u001B[43m \u001B[49m\u001B[38;5;124;43m\"\u001B[39;49m\u001B[38;5;124;43mRepeatDataset\u001B[39;49m\u001B[38;5;124;43m\"\u001B[39;49m\u001B[43m,\u001B[49m\u001B[43m \u001B[49m\u001B[43mname\u001B[49m\u001B[43m,\u001B[49m\u001B[43m \u001B[49m\u001B[43minput_dataset\u001B[49m\u001B[43m,\u001B[49m\u001B[43m \u001B[49m\u001B[43mcount\u001B[49m\u001B[43m,\u001B[49m\u001B[43m \u001B[49m\u001B[38;5;124;43m\"\u001B[39;49m\u001B[38;5;124;43moutput_types\u001B[39;49m\u001B[38;5;124;43m\"\u001B[39;49m\u001B[43m,\u001B[49m\n\u001B[1;32m   6288\u001B[0m \u001B[43m      \u001B[49m\u001B[43moutput_types\u001B[49m\u001B[43m,\u001B[49m\u001B[43m \u001B[49m\u001B[38;5;124;43m\"\u001B[39;49m\u001B[38;5;124;43moutput_shapes\u001B[39;49m\u001B[38;5;124;43m\"\u001B[39;49m\u001B[43m,\u001B[49m\u001B[43m \u001B[49m\u001B[43moutput_shapes\u001B[49m\u001B[43m,\u001B[49m\u001B[43m \u001B[49m\u001B[38;5;124;43m\"\u001B[39;49m\u001B[38;5;124;43mmetadata\u001B[39;49m\u001B[38;5;124;43m\"\u001B[39;49m\u001B[43m,\u001B[49m\u001B[43m \u001B[49m\u001B[43mmetadata\u001B[49m\u001B[43m)\u001B[49m\n\u001B[1;32m   6289\u001B[0m     \u001B[38;5;28;01mreturn\u001B[39;00m _result\n\u001B[1;32m   6290\u001B[0m   \u001B[38;5;28;01mexcept\u001B[39;00m _core\u001B[38;5;241m.\u001B[39m_NotOkStatusException \u001B[38;5;28;01mas\u001B[39;00m e:\n",
      "\u001B[0;31mKeyboardInterrupt\u001B[0m: "
     ]
    }
   ],
   "source": [
    "num_failures_0 = 0\n",
    "t_orig = time.time()\n",
    "total_photos = len(os.listdir(KNOWN_FACE_1_PATH))\n",
    "total_processed = 0\n",
    "t = time.time()\n",
    "for face in os.listdir(KNOWN_FACE_1_PATH):\n",
    "    face_path = os.path.join(KNOWN_FACE_1_PATH, face)\n",
    "    im = deprocess_image(preprocess(face_path, MODEL_INPUT_IMAGE_DIMENSIONS))\n",
    "    pred = model.predict(np.array([im]), verbose=0)[0]\n",
    "    if  model_prediction(pred, [None, None], required_bound=required_bound, certainty_bound=certainty_bound) != \"0\":\n",
    "        num_failures_0 += 1\n",
    "        print(\"\\rNumber of failures for stephen images: \" + str(num_failures_0) + \"; \" + str(pred))\n",
    "        im = Image.fromarray(im)\n",
    "        im.save(os.path.join(MODEL_0_FAILED_PATH, face))\n",
    "    total_processed += 1\n",
    "    t = display_progressbar(t1=t, t_orig=t_orig, total_photos=total_photos, total_processed=total_processed)"
   ],
   "metadata": {
    "collapsed": false,
    "ExecuteTime": {
     "end_time": "2024-03-13T18:45:44.686995Z",
     "start_time": "2024-03-13T18:44:24.436377Z"
    }
   },
   "id": "ecd45198a1c3ec2e",
   "execution_count": 14
  },
  {
   "cell_type": "markdown",
   "source": [
    "#### Evaluate on photos of Josh"
   ],
   "metadata": {
    "collapsed": false
   },
   "id": "9749cbd7ba850df2"
  },
  {
   "cell_type": "code",
   "outputs": [
    {
     "name": "stdout",
     "output_type": "stream",
     "text": [
      "Number of failures for josh images: 1; [3.9938055e-07 1.0000000e+00 9.9515706e-01]\n",
      "Number of failures for josh images: 2; [2.385143e-06 1.000000e+00 9.501702e-01]\n",
      "Number of failures for josh images: 3; [1.6995489e-08 1.0000000e+00 9.9758875e-01]\n",
      "Number of failures for josh images: 4; [8.406094e-05 1.000000e+00 9.782752e-01]\n",
      "Number of failures for josh images: 5; [1.0218944e-07 1.0000000e+00 9.9236262e-01]\n",
      "Number of failures for josh images: 6; [4.9088653e-09 1.0000000e+00 9.9840480e-01]\n",
      "Number of failures for josh images: 7; [3.1558162e-07 1.0000000e+00 9.9067360e-01]\n",
      "Number of failures for josh images: 8; [1.9209456e-06 1.0000000e+00 9.8319858e-01]\n",
      "Number of failures for josh images: 9; [1.1590242e-05 1.0000000e+00 9.5751083e-01]\n",
      "Number of failures for josh images: 10; [9.536875e-06 1.000000e+00 9.707672e-01]\n",
      "Number of failures for josh images: 11; [3.0533204e-04 1.0000000e+00 9.8436129e-01]\n",
      "Number of failures for josh images: 12; [5.6785717e-07 1.0000000e+00 9.6269000e-01]\n",
      "Number of failures for josh images: 13; [7.766541e-09 1.000000e+00 9.956462e-01]\n",
      "Number of failures for josh images: 14; [6.7168725e-07 1.0000000e+00 9.9319768e-01]\n",
      "Number of failures for josh images: 15; [1.0493128e-08 1.0000000e+00 9.9917358e-01]\n",
      "Number of failures for josh images: 16; [1.1585888e-09 1.0000000e+00 9.9920577e-01]\n",
      "Number of failures for josh images: 17; [1.7779777e-06 1.0000000e+00 9.9856073e-01]\n",
      "Number of failures for josh images: 18; [1.9441752e-04 1.0000000e+00 9.9639124e-01]\n",
      "Number of failures for josh images: 19; [4.2424185e-06 1.0000000e+00 9.5712113e-01]\n",
      "Number of failures for josh images: 20; [4.010121e-07 1.000000e+00 9.860789e-01]\n",
      "Number of failures for josh images: 21; [2.9511006e-07 1.0000000e+00 9.9799180e-01]\n",
      "Number of failures for josh images: 22; [1.0493215e-05 1.0000000e+00 9.9126536e-01]\n",
      "Number of failures for josh images: 23; [5.9556112e-07 1.0000000e+00 9.7096664e-01]\n",
      "Number of failures for josh images: 24; [1.0250270e-06 1.0000000e+00 9.9111485e-01]\n",
      "Number of failures for josh images: 25; [1.2971978e-07 1.0000000e+00 9.9002063e-01]\n",
      "Number of failures for josh images: 26; [1.9673978e-08 1.0000000e+00 9.9229336e-01]\n",
      "Number of failures for josh images: 27; [2.014444e-07 1.000000e+00 9.773008e-01]\n",
      "Number of failures for josh images: 28; [2.5048296e-06 1.0000000e+00 9.8455334e-01]\n",
      "Number of failures for josh images: 29; [3.8035634e-07 1.0000000e+00 9.8955894e-01]\n",
      "Number of failures for josh images: 30; [4.1358526e-06 1.0000000e+00 9.9310100e-01]\n",
      "Number of failures for josh images: 31; [0.00256913 1.         0.99224174]\n",
      "Number of failures for josh images: 32; [2.497430e-04 1.000000e+00 9.725752e-01]\n",
      "Number of failures for josh images: 33; [1.09345865e-05 1.00000000e+00 9.95089233e-01]\n",
      "Number of failures for josh images: 34; [2.4028708e-07 1.0000000e+00 9.8768640e-01]\n",
      "Number of failures for josh images: 35; [3.889898e-08 1.000000e+00 9.991436e-01]\n",
      "Number of failures for josh images: 36; [2.9252733e-06 1.0000000e+00 9.6744531e-01]\n",
      "Number of failures for josh images: 37; [3.4270643e-06 1.0000000e+00 9.5119560e-01]\n",
      "Number of failures for josh images: 38; [5.882909e-06 1.000000e+00 9.733849e-01]\n",
      "Number of failures for josh images: 39; [1.1949885e-08 1.0000000e+00 9.9687588e-01]\n",
      "Number of failures for josh images: 40; [1.4594904e-06 1.0000000e+00 9.9234712e-01]\n",
      "Number of failures for josh images: 41; [4.396796e-06 1.000000e+00 9.929872e-01]\n",
      "Number of failures for josh images: 42; [2.931554e-06 1.000000e+00 9.927012e-01]\n",
      "Number of failures for josh images: 43; [1.2587344e-06 1.0000000e+00 9.8883808e-01]\n",
      "Number of failures for josh images: 44; [3.8486914e-06 1.0000000e+00 9.9717689e-01]\n",
      "Number of failures for josh images: 45; [9.738597e-10 1.000000e+00 9.993094e-01]\n",
      "Number of failures for josh images: 46; [5.2668402e-06 1.0000000e+00 9.9374974e-01]\n",
      "Number of failures for josh images: 47; [1.01827936e-07 1.00000000e+00 9.98033106e-01]\n",
      "Number of failures for josh images: 48; [3.2261178e-06 1.0000000e+00 9.5457137e-01]\n",
      "Number of failures for josh images: 49; [0.0026245 1.        0.9868286]\n",
      "Number of failures for josh images: 50; [5.7296683e-07 1.0000000e+00 9.9530315e-01]\n",
      "Number of failures for josh images: 51; [1.8002680e-07 1.0000000e+00 9.9457705e-01]\n",
      "Number of failures for josh images: 52; [1.3537865e-06 1.0000000e+00 9.6369308e-01]\n",
      "Number of failures for josh images: 53; [3.3622652e-07 1.0000000e+00 9.9718636e-01]\n",
      "Number of failures for josh images: 54; [3.6311616e-07 1.0000000e+00 9.7608578e-01]\n",
      "Number of failures for josh images: 55; [1.4176632e-06 1.0000000e+00 9.7747999e-01]\n",
      "Number of failures for josh images: 56; [6.0766444e-05 1.0000000e+00 9.8513919e-01]\n",
      "Number of failures for josh images: 57; [3.2187188e-07 1.0000000e+00 9.5091403e-01]\n",
      "Number of failures for josh images: 58; [1.8517707e-07 1.0000000e+00 9.8752129e-01]\n",
      "Number of failures for josh images: 59; [1.6789863e-04 1.0000000e+00 9.9669361e-01]\n",
      "Number of failures for josh images: 60; [2.3075263e-05 1.0000000e+00 9.6384686e-01]\n",
      "Number of failures for josh images: 61; [6.120871e-07 1.000000e+00 9.935017e-01]\n",
      "Number of failures for josh images: 62; [0.03246357 1.         0.9919944 ]\n",
      "Number of failures for josh images: 63; [2.3775975e-08 1.0000000e+00 9.9031889e-01]\n",
      "Number of failures for josh images: 64; [8.599749e-08 1.000000e+00 9.997960e-01]\n",
      "Number of failures for josh images: 65; [6.233623e-08 1.000000e+00 9.817391e-01]\n",
      "Number of failures for josh images: 66; [5.0339885e-08 1.0000000e+00 9.8910928e-01]\n",
      "Number of failures for josh images: 67; [6.5492693e-04 9.9999988e-01 9.9160802e-01]\n",
      "Number of failures for josh images: 68; [3.8629852e-07 1.0000000e+00 9.7124004e-01]\n",
      "Number of failures for josh images: 69; [5.451624e-05 1.000000e+00 9.644305e-01]\n",
      "Number of failures for josh images: 70; [1.6883607e-07 1.0000000e+00 9.9200177e-01]\n",
      "Number of failures for josh images: 71; [4.9709956e-06 1.0000000e+00 9.9018914e-01]\n",
      "Number of failures for josh images: 72; [1.1611066e-06 1.0000000e+00 9.7108072e-01]\n",
      "Number of failures for josh images: 73; [6.414764e-07 1.000000e+00 9.565448e-01]\n",
      "Number of failures for josh images: 74; [7.9294750e-08 1.0000000e+00 9.9804425e-01]\n",
      "Number of failures for josh images: 75; [2.0806759e-07 1.0000000e+00 9.9377728e-01]\n",
      "Number of failures for josh images: 76; [4.0101176e-07 1.0000000e+00 9.9630225e-01]\n",
      "Number of failures for josh images: 77; [1.6093521e-08 1.0000000e+00 9.6430469e-01]\n",
      "Number of failures for josh images: 78; [0.00114787 1.         0.9850787 ]\n",
      "Number of failures for josh images: 79; [5.599972e-04 9.999994e-01 9.519667e-01]\n",
      "Number of failures for josh images: 80; [1.8247056e-05 1.0000000e+00 9.8793346e-01]\n",
      "Number of failures for josh images: 81; [1.4778108e-08 1.0000000e+00 9.9671942e-01]\n",
      "Number of failures for josh images: 82; [5.4908814e-06 1.0000000e+00 9.7744715e-01]\n",
      "Number of failures for josh images: 83; [2.6107305e-06 1.0000000e+00 9.5678407e-01]\n",
      "Number of failures for josh images: 84; [0.05662423 1.         0.9628004 ]\n",
      "Number of failures for josh images: 85; [2.2718876e-07 1.0000000e+00 9.9806887e-01]\n",
      "Number of failures for josh images: 86; [1.5003413e-05 1.0000000e+00 9.5013070e-01]\n",
      "Number of failures for josh images: 87; [1.0215611e-07 1.0000000e+00 9.8828042e-01]\n",
      "Number of failures for josh images: 88; [5.264221e-07 1.000000e+00 9.732293e-01]\n",
      "Number of failures for josh images: 89; [4.952065e-07 1.000000e+00 9.947679e-01]\n",
      "Number of failures for josh images: 90; [2.9702437e-07 1.0000000e+00 9.8049414e-01]\n",
      "Number of failures for josh images: 91; [1.5456773e-07 1.0000000e+00 9.5059228e-01]\n",
      "Number of failures for josh images: 92; [6.6832752e-07 1.0000000e+00 9.5048535e-01]\n",
      "Number of failures for josh images: 93; [9.6572077e-01 1.0000000e+00 5.0757968e-14]\n",
      "Number of failures for josh images: 94; [2.738868e-09 1.000000e+00 9.993468e-01]\n",
      "Number of failures for josh images: 95; [3.1358042e-05 9.9999845e-01 9.7333717e-01]\n",
      "Number of failures for josh images: 96; [3.4856664e-06 1.0000000e+00 9.9552083e-01]\n",
      "Number of failures for josh images: 97; [4.0669165e-05 1.0000000e+00 9.9673140e-01]\n",
      "Number of failures for josh images: 98; [2.4639774e-05 1.0000000e+00 9.8349631e-01]\n",
      "Number of failures for josh images: 99; [5.4651345e-08 1.0000000e+00 9.9465984e-01]\n",
      "Number of failures for josh images: 100; [1.2189410e-06 1.0000000e+00 9.7264636e-01]\n",
      "Number of failures for josh images: 101; [4.7757349e-06 1.0000000e+00 9.7952753e-01]\n",
      "Number of failures for josh images: 102; [1.1932079e-07 1.0000000e+00 9.8496580e-01]\n",
      "Number of failures for josh images: 103; [1.3813561e-04 1.0000000e+00 9.9811161e-01]\n",
      "Number of failures for josh images: 104; [7.433196e-04 1.000000e+00 9.846466e-01]\n",
      "Number of failures for josh images: 105; [1.1411575e-04 1.0000000e+00 9.6322113e-01]\n",
      "Number of failures for josh images: 106; [3.8710436e-07 1.0000000e+00 9.9088460e-01]\n",
      "Number of failures for josh images: 107; [7.6098299e-06 1.0000000e+00 9.7366005e-01]\n",
      "Number of failures for josh images: 108; [1.8905027e-07 1.0000000e+00 9.9530470e-01]\n",
      "Number of failures for josh images: 109; [2.819835e-07 1.000000e+00 9.879095e-01]\n",
      "Number of failures for josh images: 110; [3.1949182e-06 1.0000000e+00 9.8895514e-01]\n",
      "Number of failures for josh images: 111; [7.631942e-07 1.000000e+00 9.979918e-01]\n",
      "Number of failures for josh images: 112; [8.515803e-08 1.000000e+00 9.972705e-01]\n",
      "Number of failures for josh images: 113; [1.5877785e-04 1.0000000e+00 9.8494428e-01]\n",
      "Number of failures for josh images: 114; [3.8823632e-06 1.0000000e+00 9.8318547e-01]\n",
      "Number of failures for josh images: 115; [5.8789838e-06 1.0000000e+00 9.8354006e-01]\n",
      "Number of failures for josh images: 116; [6.4726567e-07 1.0000000e+00 9.9654478e-01]\n",
      "Number of failures for josh images: 117; [8.4300211e-08 1.0000000e+00 9.9906474e-01]\n",
      "Number of failures for josh images: 118; [2.4128144e-06 1.0000000e+00 9.7218251e-01]\n",
      "Number of failures for josh images: 119; [1.0906434e-06 1.0000000e+00 9.8155540e-01]\n",
      "Number of failures for josh images: 120; [7.0690653e-08 1.0000000e+00 9.9732924e-01]\n",
      "Number of failures for josh images: 121; [2.9815383e-06 1.0000000e+00 9.8586023e-01]\n",
      "Number of failures for josh images: 122; [2.5174348e-08 1.0000000e+00 9.9448699e-01]\n",
      "Number of failures for josh images: 123; [6.508031e-07 1.000000e+00 9.555619e-01]\n",
      "Number of failures for josh images: 124; [1.086977e-06 1.000000e+00 9.812914e-01]\n",
      "Number of failures for josh images: 125; [7.5169680e-07 1.0000000e+00 9.9601597e-01]\n",
      "Number of failures for josh images: 126; [9.5359329e-09 1.0000000e+00 9.9973434e-01]\n",
      "Number of failures for josh images: 127; [2.701999e-06 1.000000e+00 9.613798e-01]\n",
      "Number of failures for josh images: 128; [2.2366000e-06 1.0000000e+00 9.5597076e-01]\n",
      "Number of failures for josh images: 129; [3.9875636e-07 1.0000000e+00 9.6693581e-01]\n",
      "Number of failures for josh images: 130; [1.4630645e-05 1.0000000e+00 9.5423651e-01]\n",
      "Number of failures for josh images: 131; [1.9610757e-06 1.0000000e+00 9.5899475e-01]\n",
      "Number of failures for josh images: 132; [2.1016047e-06 1.0000000e+00 9.9731821e-01]\n",
      "Number of failures for josh images: 133; [2.8856536e-07 1.0000000e+00 9.8548687e-01]\n",
      "Number of failures for josh images: 134; [6.3613363e-08 1.0000000e+00 9.9504364e-01]\n",
      "Number of failures for josh images: 135; [7.855659e-06 1.000000e+00 9.833557e-01]\n",
      "Number of failures for josh images: 136; [2.4084874e-09 1.0000000e+00 9.6300149e-01]\n",
      "Number of failures for josh images: 137; [3.1609699e-07 1.0000000e+00 9.9092835e-01]\n",
      "Number of failures for josh images: 138; [1.6925328e-06 1.0000000e+00 9.9797374e-01]\n",
      "Number of failures for josh images: 139; [1.9371012e-06 1.0000000e+00 9.7194755e-01]\n",
      "Number of failures for josh images: 140; [5.1974160e-07 1.0000000e+00 9.9668866e-01]\n",
      "Number of failures for josh images: 141; [4.4316148e-06 1.0000000e+00 9.9509096e-01]\n",
      "Number of failures for josh images: 142; [7.838066e-08 1.000000e+00 9.962598e-01]\n",
      "Number of failures for josh images: 143; [5.8791187e-07 1.0000000e+00 9.8850739e-01]\n",
      "Number of failures for josh images: 144; [4.202739e-07 1.000000e+00 9.996549e-01]\n",
      "Number of failures for josh images: 145; [7.7752595e-08 1.0000000e+00 9.9783903e-01]\n",
      "Number of failures for josh images: 146; [2.326743e-06 1.000000e+00 9.780829e-01]\n",
      "691/252483 [>-----------------------------] - ETA: 163:01"
     ]
    },
    {
     "ename": "KeyboardInterrupt",
     "evalue": "",
     "output_type": "error",
     "traceback": [
      "\u001B[0;31m---------------------------------------------------------------------------\u001B[0m",
      "\u001B[0;31mKeyboardInterrupt\u001B[0m                         Traceback (most recent call last)",
      "Cell \u001B[0;32mIn[15], line 9\u001B[0m\n\u001B[1;32m      7\u001B[0m face_path \u001B[38;5;241m=\u001B[39m os\u001B[38;5;241m.\u001B[39mpath\u001B[38;5;241m.\u001B[39mjoin(KNOWN_FACE_2_PATH, face)\n\u001B[1;32m      8\u001B[0m im \u001B[38;5;241m=\u001B[39m deprocess_image(preprocess(face_path, MODEL_INPUT_IMAGE_DIMENSIONS))\n\u001B[0;32m----> 9\u001B[0m pred \u001B[38;5;241m=\u001B[39m \u001B[43mmodel\u001B[49m\u001B[38;5;241;43m.\u001B[39;49m\u001B[43mpredict\u001B[49m\u001B[43m(\u001B[49m\u001B[43mnp\u001B[49m\u001B[38;5;241;43m.\u001B[39;49m\u001B[43marray\u001B[49m\u001B[43m(\u001B[49m\u001B[43m[\u001B[49m\u001B[43mim\u001B[49m\u001B[43m]\u001B[49m\u001B[43m)\u001B[49m\u001B[43m,\u001B[49m\u001B[43m \u001B[49m\u001B[43mverbose\u001B[49m\u001B[38;5;241;43m=\u001B[39;49m\u001B[38;5;241;43m0\u001B[39;49m\u001B[43m)\u001B[49m[\u001B[38;5;241m0\u001B[39m]\n\u001B[1;32m     10\u001B[0m \u001B[38;5;28;01mif\u001B[39;00m model_prediction(pred, [\u001B[38;5;28;01mNone\u001B[39;00m, \u001B[38;5;28;01mNone\u001B[39;00m], required_bound\u001B[38;5;241m=\u001B[39mrequired_bound, certainty_bound\u001B[38;5;241m=\u001B[39mcertainty_bound) \u001B[38;5;241m!=\u001B[39m \u001B[38;5;124m\"\u001B[39m\u001B[38;5;124m1\u001B[39m\u001B[38;5;124m\"\u001B[39m:\n\u001B[1;32m     11\u001B[0m     num_failures_1 \u001B[38;5;241m+\u001B[39m\u001B[38;5;241m=\u001B[39m \u001B[38;5;241m1\u001B[39m\n",
      "File \u001B[0;32m/Library/Frameworks/Python.framework/Versions/3.11/lib/python3.11/site-packages/keras/src/utils/traceback_utils.py:65\u001B[0m, in \u001B[0;36mfilter_traceback.<locals>.error_handler\u001B[0;34m(*args, **kwargs)\u001B[0m\n\u001B[1;32m     63\u001B[0m filtered_tb \u001B[38;5;241m=\u001B[39m \u001B[38;5;28;01mNone\u001B[39;00m\n\u001B[1;32m     64\u001B[0m \u001B[38;5;28;01mtry\u001B[39;00m:\n\u001B[0;32m---> 65\u001B[0m     \u001B[38;5;28;01mreturn\u001B[39;00m \u001B[43mfn\u001B[49m\u001B[43m(\u001B[49m\u001B[38;5;241;43m*\u001B[39;49m\u001B[43margs\u001B[49m\u001B[43m,\u001B[49m\u001B[43m \u001B[49m\u001B[38;5;241;43m*\u001B[39;49m\u001B[38;5;241;43m*\u001B[39;49m\u001B[43mkwargs\u001B[49m\u001B[43m)\u001B[49m\n\u001B[1;32m     66\u001B[0m \u001B[38;5;28;01mexcept\u001B[39;00m \u001B[38;5;167;01mException\u001B[39;00m \u001B[38;5;28;01mas\u001B[39;00m e:\n\u001B[1;32m     67\u001B[0m     filtered_tb \u001B[38;5;241m=\u001B[39m _process_traceback_frames(e\u001B[38;5;241m.\u001B[39m__traceback__)\n",
      "File \u001B[0;32m/Library/Frameworks/Python.framework/Versions/3.11/lib/python3.11/site-packages/keras/src/engine/training.py:2651\u001B[0m, in \u001B[0;36mModel.predict\u001B[0;34m(self, x, batch_size, verbose, steps, callbacks, max_queue_size, workers, use_multiprocessing)\u001B[0m\n\u001B[1;32m   2649\u001B[0m     \u001B[38;5;28mself\u001B[39m\u001B[38;5;241m.\u001B[39m_steps_per_execution_tuner\u001B[38;5;241m.\u001B[39mstart()\n\u001B[1;32m   2650\u001B[0m batch_outputs \u001B[38;5;241m=\u001B[39m \u001B[38;5;28;01mNone\u001B[39;00m\n\u001B[0;32m-> 2651\u001B[0m \u001B[43m\u001B[49m\u001B[38;5;28;43;01mfor\u001B[39;49;00m\u001B[43m \u001B[49m\u001B[43m_\u001B[49m\u001B[43m,\u001B[49m\u001B[43m \u001B[49m\u001B[43miterator\u001B[49m\u001B[43m \u001B[49m\u001B[38;5;129;43;01min\u001B[39;49;00m\u001B[43m \u001B[49m\u001B[43mdata_handler\u001B[49m\u001B[38;5;241;43m.\u001B[39;49m\u001B[43menumerate_epochs\u001B[49m\u001B[43m(\u001B[49m\u001B[43m)\u001B[49m\u001B[43m:\u001B[49m\u001B[43m  \u001B[49m\u001B[38;5;66;43;03m# Single epoch.\u001B[39;49;00m\n\u001B[1;32m   2652\u001B[0m \u001B[43m    \u001B[49m\u001B[38;5;28;43;01mwith\u001B[39;49;00m\u001B[43m \u001B[49m\u001B[43mdata_handler\u001B[49m\u001B[38;5;241;43m.\u001B[39;49m\u001B[43mcatch_stop_iteration\u001B[49m\u001B[43m(\u001B[49m\u001B[43m)\u001B[49m\u001B[43m:\u001B[49m\n\u001B[1;32m   2653\u001B[0m \u001B[43m        \u001B[49m\u001B[38;5;28;43;01mfor\u001B[39;49;00m\u001B[43m \u001B[49m\u001B[43mstep\u001B[49m\u001B[43m \u001B[49m\u001B[38;5;129;43;01min\u001B[39;49;00m\u001B[43m \u001B[49m\u001B[43mdata_handler\u001B[49m\u001B[38;5;241;43m.\u001B[39;49m\u001B[43msteps\u001B[49m\u001B[43m(\u001B[49m\u001B[43m)\u001B[49m\u001B[43m:\u001B[49m\n",
      "File \u001B[0;32m/Library/Frameworks/Python.framework/Versions/3.11/lib/python3.11/site-packages/keras/src/engine/data_adapter.py:1341\u001B[0m, in \u001B[0;36mDataHandler.enumerate_epochs\u001B[0;34m(self)\u001B[0m\n\u001B[1;32m   1339\u001B[0m \u001B[38;5;250m\u001B[39m\u001B[38;5;124;03m\"\"\"Yields `(epoch, tf.data.Iterator)`.\"\"\"\u001B[39;00m\n\u001B[1;32m   1340\u001B[0m \u001B[38;5;28;01mwith\u001B[39;00m \u001B[38;5;28mself\u001B[39m\u001B[38;5;241m.\u001B[39m_truncate_execution_to_epoch():\n\u001B[0;32m-> 1341\u001B[0m     data_iterator \u001B[38;5;241m=\u001B[39m \u001B[38;5;28miter\u001B[39m(\u001B[38;5;28mself\u001B[39m\u001B[38;5;241m.\u001B[39m_dataset)\n\u001B[1;32m   1342\u001B[0m     \u001B[38;5;28;01mfor\u001B[39;00m epoch \u001B[38;5;129;01min\u001B[39;00m \u001B[38;5;28mrange\u001B[39m(\u001B[38;5;28mself\u001B[39m\u001B[38;5;241m.\u001B[39m_initial_epoch, \u001B[38;5;28mself\u001B[39m\u001B[38;5;241m.\u001B[39m_epochs):\n\u001B[1;32m   1343\u001B[0m         \u001B[38;5;28;01mif\u001B[39;00m \u001B[38;5;28mself\u001B[39m\u001B[38;5;241m.\u001B[39m_insufficient_data:  \u001B[38;5;66;03m# Set by `catch_stop_iteration`.\u001B[39;00m\n",
      "File \u001B[0;32m/Library/Frameworks/Python.framework/Versions/3.11/lib/python3.11/site-packages/tensorflow/python/data/ops/dataset_ops.py:500\u001B[0m, in \u001B[0;36mDatasetV2.__iter__\u001B[0;34m(self)\u001B[0m\n\u001B[1;32m    498\u001B[0m \u001B[38;5;28;01mif\u001B[39;00m context\u001B[38;5;241m.\u001B[39mexecuting_eagerly() \u001B[38;5;129;01mor\u001B[39;00m ops\u001B[38;5;241m.\u001B[39minside_function():\n\u001B[1;32m    499\u001B[0m   \u001B[38;5;28;01mwith\u001B[39;00m ops\u001B[38;5;241m.\u001B[39mcolocate_with(\u001B[38;5;28mself\u001B[39m\u001B[38;5;241m.\u001B[39m_variant_tensor):\n\u001B[0;32m--> 500\u001B[0m     \u001B[38;5;28;01mreturn\u001B[39;00m \u001B[43miterator_ops\u001B[49m\u001B[38;5;241;43m.\u001B[39;49m\u001B[43mOwnedIterator\u001B[49m\u001B[43m(\u001B[49m\u001B[38;5;28;43mself\u001B[39;49m\u001B[43m)\u001B[49m\n\u001B[1;32m    501\u001B[0m \u001B[38;5;28;01melse\u001B[39;00m:\n\u001B[1;32m    502\u001B[0m   \u001B[38;5;28;01mraise\u001B[39;00m \u001B[38;5;167;01mRuntimeError\u001B[39;00m(\u001B[38;5;124m\"\u001B[39m\u001B[38;5;124m`tf.data.Dataset` only supports Python-style \u001B[39m\u001B[38;5;124m\"\u001B[39m\n\u001B[1;32m    503\u001B[0m                      \u001B[38;5;124m\"\u001B[39m\u001B[38;5;124miteration in eager mode or within tf.function.\u001B[39m\u001B[38;5;124m\"\u001B[39m)\n",
      "File \u001B[0;32m/Library/Frameworks/Python.framework/Versions/3.11/lib/python3.11/site-packages/tensorflow/python/data/ops/iterator_ops.py:706\u001B[0m, in \u001B[0;36mOwnedIterator.__init__\u001B[0;34m(self, dataset, components, element_spec)\u001B[0m\n\u001B[1;32m    702\u001B[0m   \u001B[38;5;28;01mif\u001B[39;00m (components \u001B[38;5;129;01mis\u001B[39;00m \u001B[38;5;129;01mnot\u001B[39;00m \u001B[38;5;28;01mNone\u001B[39;00m \u001B[38;5;129;01mor\u001B[39;00m element_spec \u001B[38;5;129;01mis\u001B[39;00m \u001B[38;5;129;01mnot\u001B[39;00m \u001B[38;5;28;01mNone\u001B[39;00m):\n\u001B[1;32m    703\u001B[0m     \u001B[38;5;28;01mraise\u001B[39;00m \u001B[38;5;167;01mValueError\u001B[39;00m(\n\u001B[1;32m    704\u001B[0m         \u001B[38;5;124m\"\u001B[39m\u001B[38;5;124mWhen `dataset` is provided, `element_spec` and `components` must \u001B[39m\u001B[38;5;124m\"\u001B[39m\n\u001B[1;32m    705\u001B[0m         \u001B[38;5;124m\"\u001B[39m\u001B[38;5;124mnot be specified.\u001B[39m\u001B[38;5;124m\"\u001B[39m)\n\u001B[0;32m--> 706\u001B[0m   \u001B[38;5;28;43mself\u001B[39;49m\u001B[38;5;241;43m.\u001B[39;49m\u001B[43m_create_iterator\u001B[49m\u001B[43m(\u001B[49m\u001B[43mdataset\u001B[49m\u001B[43m)\u001B[49m\n\u001B[1;32m    708\u001B[0m \u001B[38;5;28mself\u001B[39m\u001B[38;5;241m.\u001B[39m_get_next_call_count \u001B[38;5;241m=\u001B[39m \u001B[38;5;241m0\u001B[39m\n",
      "File \u001B[0;32m/Library/Frameworks/Python.framework/Versions/3.11/lib/python3.11/site-packages/tensorflow/python/data/ops/iterator_ops.py:745\u001B[0m, in \u001B[0;36mOwnedIterator._create_iterator\u001B[0;34m(self, dataset)\u001B[0m\n\u001B[1;32m    742\u001B[0m   \u001B[38;5;28;01massert\u001B[39;00m \u001B[38;5;28mlen\u001B[39m(fulltype\u001B[38;5;241m.\u001B[39margs[\u001B[38;5;241m0\u001B[39m]\u001B[38;5;241m.\u001B[39margs[\u001B[38;5;241m0\u001B[39m]\u001B[38;5;241m.\u001B[39margs) \u001B[38;5;241m==\u001B[39m \u001B[38;5;28mlen\u001B[39m(\n\u001B[1;32m    743\u001B[0m       \u001B[38;5;28mself\u001B[39m\u001B[38;5;241m.\u001B[39m_flat_output_types)\n\u001B[1;32m    744\u001B[0m   \u001B[38;5;28mself\u001B[39m\u001B[38;5;241m.\u001B[39m_iterator_resource\u001B[38;5;241m.\u001B[39mop\u001B[38;5;241m.\u001B[39mexperimental_set_type(fulltype)\n\u001B[0;32m--> 745\u001B[0m \u001B[43mgen_dataset_ops\u001B[49m\u001B[38;5;241;43m.\u001B[39;49m\u001B[43mmake_iterator\u001B[49m\u001B[43m(\u001B[49m\u001B[43mds_variant\u001B[49m\u001B[43m,\u001B[49m\u001B[43m \u001B[49m\u001B[38;5;28;43mself\u001B[39;49m\u001B[38;5;241;43m.\u001B[39;49m\u001B[43m_iterator_resource\u001B[49m\u001B[43m)\u001B[49m\n",
      "File \u001B[0;32m/Library/Frameworks/Python.framework/Versions/3.11/lib/python3.11/site-packages/tensorflow/python/ops/gen_dataset_ops.py:3421\u001B[0m, in \u001B[0;36mmake_iterator\u001B[0;34m(dataset, iterator, name)\u001B[0m\n\u001B[1;32m   3419\u001B[0m \u001B[38;5;28;01mif\u001B[39;00m tld\u001B[38;5;241m.\u001B[39mis_eager:\n\u001B[1;32m   3420\u001B[0m   \u001B[38;5;28;01mtry\u001B[39;00m:\n\u001B[0;32m-> 3421\u001B[0m     _result \u001B[38;5;241m=\u001B[39m \u001B[43mpywrap_tfe\u001B[49m\u001B[38;5;241;43m.\u001B[39;49m\u001B[43mTFE_Py_FastPathExecute\u001B[49m\u001B[43m(\u001B[49m\n\u001B[1;32m   3422\u001B[0m \u001B[43m      \u001B[49m\u001B[43m_ctx\u001B[49m\u001B[43m,\u001B[49m\u001B[43m \u001B[49m\u001B[38;5;124;43m\"\u001B[39;49m\u001B[38;5;124;43mMakeIterator\u001B[39;49m\u001B[38;5;124;43m\"\u001B[39;49m\u001B[43m,\u001B[49m\u001B[43m \u001B[49m\u001B[43mname\u001B[49m\u001B[43m,\u001B[49m\u001B[43m \u001B[49m\u001B[43mdataset\u001B[49m\u001B[43m,\u001B[49m\u001B[43m \u001B[49m\u001B[43miterator\u001B[49m\u001B[43m)\u001B[49m\n\u001B[1;32m   3423\u001B[0m     \u001B[38;5;28;01mreturn\u001B[39;00m _result\n\u001B[1;32m   3424\u001B[0m   \u001B[38;5;28;01mexcept\u001B[39;00m _core\u001B[38;5;241m.\u001B[39m_NotOkStatusException \u001B[38;5;28;01mas\u001B[39;00m e:\n",
      "\u001B[0;31mKeyboardInterrupt\u001B[0m: "
     ]
    }
   ],
   "source": [
    "num_failures_1 = 0\n",
    "t_orig = time.time()\n",
    "total_photos = len(os.listdir(KNOWN_FACE_2_PATH))\n",
    "total_processed = 0\n",
    "t = time.time()\n",
    "for face in os.listdir(KNOWN_FACE_2_PATH):\n",
    "    face_path = os.path.join(KNOWN_FACE_2_PATH, face)\n",
    "    im = deprocess_image(preprocess(face_path, MODEL_INPUT_IMAGE_DIMENSIONS))\n",
    "    pred = model.predict(np.array([im]), verbose=0)[0]\n",
    "    if model_prediction(pred, [None, None], required_bound=required_bound, certainty_bound=certainty_bound) != \"1\":\n",
    "        num_failures_1 += 1\n",
    "        print(\"\\rNumber of failures for josh images: \" + str(num_failures_1) + \"; \" + str(pred))\n",
    "        im = Image.fromarray(im)\n",
    "        im.save(os.path.join(MODEL_1_FAILED_PATH, face))\n",
    "    total_processed += 1\n",
    "    t = display_progressbar(t1=t, t_orig=t_orig, total_photos=total_photos, total_processed=total_processed)"
   ],
   "metadata": {
    "collapsed": false,
    "ExecuteTime": {
     "end_time": "2024-03-13T18:46:14.987026Z",
     "start_time": "2024-03-13T18:45:48.033099Z"
    }
   },
   "id": "873a207bec9c20b7",
   "execution_count": 15
  },
  {
   "cell_type": "markdown",
   "source": [
    "#### Evaluate on photos of unknown people"
   ],
   "metadata": {
    "collapsed": false
   },
   "id": "aa07c00b9dba6440"
  },
  {
   "cell_type": "code",
   "outputs": [
    {
     "name": "stdout",
     "output_type": "stream",
     "text": [
      "Number of failures for unknown images: 1; [0.00182618 0.9854915  1.        ]\n",
      "Number of failures for unknown images: 2; [0.07033242 0.9848006  0.99999976]\n",
      "Number of failures for unknown images: 3; [0.04003772 0.9877322  1.        ]\n",
      "Number of failures for unknown images: 4; [0.01046995 0.9990729  1.        ]\n",
      "Number of failures for unknown images: 5; [0.00361491 0.9697416  0.99999976]\n",
      "Number of failures for unknown images: 6; [0.00100587 0.9999292  1.        ]\n",
      "Number of failures for unknown images: 7; [9.0695976e-04 9.7328806e-01 1.0000000e+00]\n",
      "Number of failures for unknown images: 8; [0.05402317 0.9872208  0.9999999 ]\n",
      "Number of failures for unknown images: 9; [5.4706435e-04 9.5920914e-01 9.9999738e-01]\n",
      "Number of failures for unknown images: 10; [1.1623501e-04 9.9718815e-01 1.0000000e+00]\n",
      "Number of failures for unknown images: 11; [0.01327425 0.97679627 1.        ]\n",
      "Number of failures for unknown images: 12; [0.00231261 0.9651822  0.99999905]\n",
      "Number of failures for unknown images: 13; [0.01743785 0.9969983  1.        ]\n",
      "Number of failures for unknown images: 14; [0.18431494 0.9969825  0.9999995 ]\n",
      "Number of failures for unknown images: 15; [0.00110768 0.9999436  1.        ]\n",
      "Number of failures for unknown images: 16; [0.75206065 0.9940612  1.        ]\n",
      "Number of failures for unknown images: 17; [0.02344529 0.9509441  1.        ]\n",
      "Number of failures for unknown images: 18; [9.8798406e-01 7.7156355e-06 9.9999619e-01]\n",
      "Number of failures for unknown images: 19; [7.4987288e-04 9.6638393e-01 1.0000000e+00]\n",
      "Number of failures for unknown images: 20; [0.01011078 0.9971836  1.        ]\n",
      "Number of failures for unknown images: 21; [0.9935401 0.9999988 1.       ]\n",
      "Number of failures for unknown images: 22; [3.5913952e-04 9.5207584e-01 1.0000000e+00]\n",
      "Number of failures for unknown images: 23; [0.00100971 0.9983871  0.99999905]\n",
      "Number of failures for unknown images: 24; [0.26049933 0.97738636 0.9999999 ]\n",
      "Number of failures for unknown images: 25; [0.00323497 0.9603415  0.99999976]\n",
      "Number of failures for unknown images: 26; [0.7934757 0.9999987 0.9999999]\n",
      "Number of failures for unknown images: 27; [0.01537139 0.984915   1.        ]\n",
      "Number of failures for unknown images: 28; [0.00112227 0.9604688  0.999997  ]\n",
      "Number of failures for unknown images: 29; [8.5398421e-04 9.8029959e-01 9.9999917e-01]\n",
      "Number of failures for unknown images: 30; [0.01796244 0.96311516 1.        ]\n",
      "Number of failures for unknown images: 31; [3.6182388e-04 9.8644173e-01 1.0000000e+00]\n",
      "Number of failures for unknown images: 32; [0.18319137 0.9986651  1.        ]\n",
      "Number of failures for unknown images: 33; [0.00470439 0.9514022  0.99999714]\n",
      "Number of failures for unknown images: 34; [0.00528334 0.95371336 1.        ]\n",
      "Number of failures for unknown images: 35; [0.03861423 0.99307996 0.9999994 ]\n",
      "Number of failures for unknown images: 36; [0.00138641 0.9924469  1.        ]\n",
      "Number of failures for unknown images: 37; [0.14920847 0.9853661  1.        ]\n",
      "Number of failures for unknown images: 38; [0.00205865 0.9996513  0.99999964]\n",
      "Number of failures for unknown images: 39; [0.05697047 0.99999523 1.        ]\n",
      "Number of failures for unknown images: 40; [0.49156836 0.99561226 1.        ]\n",
      "Number of failures for unknown images: 41; [8.4662497e-01 4.3891587e-06 8.8899565e-01]\n",
      "Number of failures for unknown images: 42; [0.95704013 0.016847   0.99999595]\n",
      "Number of failures for unknown images: 43; [0.00431494 0.9999995  0.9999974 ]\n",
      "Number of failures for unknown images: 44; [5.8150163e-04 9.6610391e-01 9.9999988e-01]\n",
      "Number of failures for unknown images: 45; [0.02759985 0.9901635  0.9999999 ]\n",
      "Number of failures for unknown images: 46; [0.46458673 0.99223715 1.        ]\n",
      "Number of failures for unknown images: 47; [0.12523374 0.99953747 1.        ]\n",
      "Number of failures for unknown images: 48; [0.01452831 0.9995172  0.9999999 ]\n",
      "Number of failures for unknown images: 49; [0.00360806 0.9553223  0.99999964]\n",
      "Number of failures for unknown images: 50; [0.00432955 0.96348685 0.9999999 ]\n",
      "Number of failures for unknown images: 51; [0.01417058 0.98180133 1.        ]\n",
      "Number of failures for unknown images: 52; [0.01273783 0.99930537 1.        ]\n",
      "Number of failures for unknown images: 53; [0.23781392 0.99996424 1.        ]\n",
      "Number of failures for unknown images: 54; [0.00311464 0.9840072  0.9999645 ]\n",
      "Number of failures for unknown images: 55; [0.9957598  0.99995863 1.        ]\n",
      "Number of failures for unknown images: 56; [0.00268878 0.9985594  1.        ]\n",
      "Number of failures for unknown images: 57; [0.02224933 0.991499   0.99999964]\n",
      "Number of failures for unknown images: 58; [0.36522147 0.9846335  1.        ]\n",
      "Number of failures for unknown images: 59; [0.00881311 0.99109286 1.        ]\n",
      "Number of failures for unknown images: 60; [0.46206567 0.99090475 0.99998534]\n",
      "Number of failures for unknown images: 61; [0.57896405 0.9922206  0.9999999 ]\n",
      "Number of failures for unknown images: 62; [0.00150987 0.98493606 1.        ]\n",
      "Number of failures for unknown images: 63; [0.00588063 0.96665746 0.99998724]\n",
      "Number of failures for unknown images: 64; [0.00469981 0.99518764 1.        ]\n",
      "Number of failures for unknown images: 65; [0.00381166 0.98505616 1.        ]\n",
      "Number of failures for unknown images: 66; [0.04891839 0.98881733 0.9999999 ]\n",
      "Number of failures for unknown images: 67; [0.02270748 0.99937326 0.99999774]\n",
      "Number of failures for unknown images: 68; [8.531822e-04 9.973544e-01 1.000000e+00]\n",
      "Number of failures for unknown images: 69; [0.00650645 0.9944384  1.        ]\n",
      "Number of failures for unknown images: 70; [0.00147358 0.99070424 0.99999356]\n",
      "Number of failures for unknown images: 71; [0.069805  0.9515959 1.       ]\n",
      "Number of failures for unknown images: 72; [0.04768218 0.951405   0.9999963 ]\n",
      "Number of failures for unknown images: 73; [0.12262681 0.99817646 0.9999999 ]\n",
      "Number of failures for unknown images: 74; [0.00172105 0.97175545 0.9999999 ]\n",
      "Number of failures for unknown images: 75; [0.00920751 0.99686676 1.        ]\n",
      "Number of failures for unknown images: 76; [0.03256894 0.9913084  0.9999989 ]\n",
      "Number of failures for unknown images: 77; [0.01792348 0.9508771  0.999997  ]\n",
      "Number of failures for unknown images: 78; [0.00395729 0.98939705 1.        ]\n",
      "Number of failures for unknown images: 79; [0.25268814 0.99840325 0.99999726]\n",
      "Number of failures for unknown images: 80; [6.1321196e-05 9.9999261e-01 1.0000000e+00]\n",
      "Number of failures for unknown images: 81; [0.9605011  0.66178226 1.        ]\n",
      "Number of failures for unknown images: 82; [0.05391043 0.9992755  0.9999999 ]\n",
      "Number of failures for unknown images: 83; [0.00167481 0.99047625 0.99999964]\n",
      "Number of failures for unknown images: 84; [0.9999529  0.16441467 0.99999976]\n",
      "Number of failures for unknown images: 85; [0.06925246 0.99967957 0.99999857]\n",
      "Number of failures for unknown images: 86; [0.00627644 0.9965144  1.        ]\n",
      "Number of failures for unknown images: 87; [0.00524648 0.9838008  1.        ]\n",
      "Number of failures for unknown images: 88; [0.01401278 0.99740773 1.        ]\n",
      "Number of failures for unknown images: 89; [0.00461278 0.9999999  1.        ]\n",
      "7882/3466155 [>-----------------------------] - ETA: 2414:54"
     ]
    },
    {
     "ename": "KeyboardInterrupt",
     "evalue": "",
     "output_type": "error",
     "traceback": [
      "\u001B[0;31m---------------------------------------------------------------------------\u001B[0m",
      "\u001B[0;31mKeyboardInterrupt\u001B[0m                         Traceback (most recent call last)",
      "Cell \u001B[0;32mIn[13], line 9\u001B[0m\n\u001B[1;32m      7\u001B[0m face_path \u001B[38;5;241m=\u001B[39m os\u001B[38;5;241m.\u001B[39mpath\u001B[38;5;241m.\u001B[39mjoin(UNKNOWN_FACES_PATH, face)\n\u001B[1;32m      8\u001B[0m im \u001B[38;5;241m=\u001B[39m deprocess_image(preprocess(face_path, MODEL_INPUT_IMAGE_DIMENSIONS))\n\u001B[0;32m----> 9\u001B[0m pred \u001B[38;5;241m=\u001B[39m \u001B[43mmodel\u001B[49m\u001B[38;5;241;43m.\u001B[39;49m\u001B[43mpredict\u001B[49m\u001B[43m(\u001B[49m\u001B[43mnp\u001B[49m\u001B[38;5;241;43m.\u001B[39;49m\u001B[43marray\u001B[49m\u001B[43m(\u001B[49m\u001B[43m[\u001B[49m\u001B[43mim\u001B[49m\u001B[43m]\u001B[49m\u001B[43m)\u001B[49m\u001B[43m,\u001B[49m\u001B[43m \u001B[49m\u001B[43mverbose\u001B[49m\u001B[38;5;241;43m=\u001B[39;49m\u001B[38;5;241;43m0\u001B[39;49m\u001B[43m)\u001B[49m[\u001B[38;5;241m0\u001B[39m]\n\u001B[1;32m     10\u001B[0m \u001B[38;5;28;01mif\u001B[39;00m model_prediction(pred, [\u001B[38;5;28;01mNone\u001B[39;00m, \u001B[38;5;28;01mNone\u001B[39;00m], required_bound\u001B[38;5;241m=\u001B[39mrequired_bound, certainty_bound\u001B[38;5;241m=\u001B[39mcertainty_bound) \u001B[38;5;241m!=\u001B[39m \u001B[38;5;124m\"\u001B[39m\u001B[38;5;124munknown\u001B[39m\u001B[38;5;124m\"\u001B[39m:\n\u001B[1;32m     11\u001B[0m     num_failures_2 \u001B[38;5;241m+\u001B[39m\u001B[38;5;241m=\u001B[39m \u001B[38;5;241m1\u001B[39m\n",
      "File \u001B[0;32m/Library/Frameworks/Python.framework/Versions/3.11/lib/python3.11/site-packages/keras/src/utils/traceback_utils.py:65\u001B[0m, in \u001B[0;36mfilter_traceback.<locals>.error_handler\u001B[0;34m(*args, **kwargs)\u001B[0m\n\u001B[1;32m     63\u001B[0m filtered_tb \u001B[38;5;241m=\u001B[39m \u001B[38;5;28;01mNone\u001B[39;00m\n\u001B[1;32m     64\u001B[0m \u001B[38;5;28;01mtry\u001B[39;00m:\n\u001B[0;32m---> 65\u001B[0m     \u001B[38;5;28;01mreturn\u001B[39;00m \u001B[43mfn\u001B[49m\u001B[43m(\u001B[49m\u001B[38;5;241;43m*\u001B[39;49m\u001B[43margs\u001B[49m\u001B[43m,\u001B[49m\u001B[43m \u001B[49m\u001B[38;5;241;43m*\u001B[39;49m\u001B[38;5;241;43m*\u001B[39;49m\u001B[43mkwargs\u001B[49m\u001B[43m)\u001B[49m\n\u001B[1;32m     66\u001B[0m \u001B[38;5;28;01mexcept\u001B[39;00m \u001B[38;5;167;01mException\u001B[39;00m \u001B[38;5;28;01mas\u001B[39;00m e:\n\u001B[1;32m     67\u001B[0m     filtered_tb \u001B[38;5;241m=\u001B[39m _process_traceback_frames(e\u001B[38;5;241m.\u001B[39m__traceback__)\n",
      "File \u001B[0;32m/Library/Frameworks/Python.framework/Versions/3.11/lib/python3.11/site-packages/keras/src/engine/training.py:2620\u001B[0m, in \u001B[0;36mModel.predict\u001B[0;34m(self, x, batch_size, verbose, steps, callbacks, max_queue_size, workers, use_multiprocessing)\u001B[0m\n\u001B[1;32m   2611\u001B[0m     \u001B[38;5;28;01mexcept\u001B[39;00m \u001B[38;5;167;01mValueError\u001B[39;00m:\n\u001B[1;32m   2612\u001B[0m         warnings\u001B[38;5;241m.\u001B[39mwarn(\n\u001B[1;32m   2613\u001B[0m             \u001B[38;5;124m\"\u001B[39m\u001B[38;5;124mUsing Model.predict with MultiWorkerMirroredStrategy \u001B[39m\u001B[38;5;124m\"\u001B[39m\n\u001B[1;32m   2614\u001B[0m             \u001B[38;5;124m\"\u001B[39m\u001B[38;5;124mor TPUStrategy and AutoShardPolicy.FILE might lead to \u001B[39m\u001B[38;5;124m\"\u001B[39m\n\u001B[0;32m   (...)\u001B[0m\n\u001B[1;32m   2617\u001B[0m             stacklevel\u001B[38;5;241m=\u001B[39m\u001B[38;5;241m2\u001B[39m,\n\u001B[1;32m   2618\u001B[0m         )\n\u001B[0;32m-> 2620\u001B[0m data_handler \u001B[38;5;241m=\u001B[39m \u001B[43mdata_adapter\u001B[49m\u001B[38;5;241;43m.\u001B[39;49m\u001B[43mget_data_handler\u001B[49m\u001B[43m(\u001B[49m\n\u001B[1;32m   2621\u001B[0m \u001B[43m    \u001B[49m\u001B[43mx\u001B[49m\u001B[38;5;241;43m=\u001B[39;49m\u001B[43mx\u001B[49m\u001B[43m,\u001B[49m\n\u001B[1;32m   2622\u001B[0m \u001B[43m    \u001B[49m\u001B[43mbatch_size\u001B[49m\u001B[38;5;241;43m=\u001B[39;49m\u001B[43mbatch_size\u001B[49m\u001B[43m,\u001B[49m\n\u001B[1;32m   2623\u001B[0m \u001B[43m    \u001B[49m\u001B[43msteps_per_epoch\u001B[49m\u001B[38;5;241;43m=\u001B[39;49m\u001B[43msteps\u001B[49m\u001B[43m,\u001B[49m\n\u001B[1;32m   2624\u001B[0m \u001B[43m    \u001B[49m\u001B[43minitial_epoch\u001B[49m\u001B[38;5;241;43m=\u001B[39;49m\u001B[38;5;241;43m0\u001B[39;49m\u001B[43m,\u001B[49m\n\u001B[1;32m   2625\u001B[0m \u001B[43m    \u001B[49m\u001B[43mepochs\u001B[49m\u001B[38;5;241;43m=\u001B[39;49m\u001B[38;5;241;43m1\u001B[39;49m\u001B[43m,\u001B[49m\n\u001B[1;32m   2626\u001B[0m \u001B[43m    \u001B[49m\u001B[43mmax_queue_size\u001B[49m\u001B[38;5;241;43m=\u001B[39;49m\u001B[43mmax_queue_size\u001B[49m\u001B[43m,\u001B[49m\n\u001B[1;32m   2627\u001B[0m \u001B[43m    \u001B[49m\u001B[43mworkers\u001B[49m\u001B[38;5;241;43m=\u001B[39;49m\u001B[43mworkers\u001B[49m\u001B[43m,\u001B[49m\n\u001B[1;32m   2628\u001B[0m \u001B[43m    \u001B[49m\u001B[43muse_multiprocessing\u001B[49m\u001B[38;5;241;43m=\u001B[39;49m\u001B[43muse_multiprocessing\u001B[49m\u001B[43m,\u001B[49m\n\u001B[1;32m   2629\u001B[0m \u001B[43m    \u001B[49m\u001B[43mmodel\u001B[49m\u001B[38;5;241;43m=\u001B[39;49m\u001B[38;5;28;43mself\u001B[39;49m\u001B[43m,\u001B[49m\n\u001B[1;32m   2630\u001B[0m \u001B[43m    \u001B[49m\u001B[43msteps_per_execution\u001B[49m\u001B[38;5;241;43m=\u001B[39;49m\u001B[38;5;28;43mself\u001B[39;49m\u001B[38;5;241;43m.\u001B[39;49m\u001B[43m_steps_per_execution\u001B[49m\u001B[43m,\u001B[49m\n\u001B[1;32m   2631\u001B[0m \u001B[43m\u001B[49m\u001B[43m)\u001B[49m\n\u001B[1;32m   2633\u001B[0m \u001B[38;5;66;03m# Container that configures and calls `tf.keras.Callback`s.\u001B[39;00m\n\u001B[1;32m   2634\u001B[0m \u001B[38;5;28;01mif\u001B[39;00m \u001B[38;5;129;01mnot\u001B[39;00m \u001B[38;5;28misinstance\u001B[39m(callbacks, callbacks_module\u001B[38;5;241m.\u001B[39mCallbackList):\n",
      "File \u001B[0;32m/Library/Frameworks/Python.framework/Versions/3.11/lib/python3.11/site-packages/keras/src/engine/data_adapter.py:1688\u001B[0m, in \u001B[0;36mget_data_handler\u001B[0;34m(*args, **kwargs)\u001B[0m\n\u001B[1;32m   1686\u001B[0m         \u001B[38;5;28;01mreturn\u001B[39;00m _ClusterCoordinatorExactEvalDataHandler(\u001B[38;5;241m*\u001B[39margs, \u001B[38;5;241m*\u001B[39m\u001B[38;5;241m*\u001B[39mkwargs)\n\u001B[1;32m   1687\u001B[0m     \u001B[38;5;28;01mreturn\u001B[39;00m _ClusterCoordinatorDataHandler(\u001B[38;5;241m*\u001B[39margs, \u001B[38;5;241m*\u001B[39m\u001B[38;5;241m*\u001B[39mkwargs)\n\u001B[0;32m-> 1688\u001B[0m \u001B[38;5;28;01mreturn\u001B[39;00m \u001B[43mDataHandler\u001B[49m\u001B[43m(\u001B[49m\u001B[38;5;241;43m*\u001B[39;49m\u001B[43margs\u001B[49m\u001B[43m,\u001B[49m\u001B[43m \u001B[49m\u001B[38;5;241;43m*\u001B[39;49m\u001B[38;5;241;43m*\u001B[39;49m\u001B[43mkwargs\u001B[49m\u001B[43m)\u001B[49m\n",
      "File \u001B[0;32m/Library/Frameworks/Python.framework/Versions/3.11/lib/python3.11/site-packages/keras/src/engine/data_adapter.py:1292\u001B[0m, in \u001B[0;36mDataHandler.__init__\u001B[0;34m(self, x, y, sample_weight, batch_size, steps_per_epoch, initial_epoch, epochs, shuffle, class_weight, max_queue_size, workers, use_multiprocessing, model, steps_per_execution, distribute, pss_evaluation_shards)\u001B[0m\n\u001B[1;32m   1289\u001B[0m     \u001B[38;5;28mself\u001B[39m\u001B[38;5;241m.\u001B[39m_steps_per_execution \u001B[38;5;241m=\u001B[39m steps_per_execution\n\u001B[1;32m   1291\u001B[0m adapter_cls \u001B[38;5;241m=\u001B[39m select_data_adapter(x, y)\n\u001B[0;32m-> 1292\u001B[0m \u001B[38;5;28mself\u001B[39m\u001B[38;5;241m.\u001B[39m_adapter \u001B[38;5;241m=\u001B[39m \u001B[43madapter_cls\u001B[49m\u001B[43m(\u001B[49m\n\u001B[1;32m   1293\u001B[0m \u001B[43m    \u001B[49m\u001B[43mx\u001B[49m\u001B[43m,\u001B[49m\n\u001B[1;32m   1294\u001B[0m \u001B[43m    \u001B[49m\u001B[43my\u001B[49m\u001B[43m,\u001B[49m\n\u001B[1;32m   1295\u001B[0m \u001B[43m    \u001B[49m\u001B[43mbatch_size\u001B[49m\u001B[38;5;241;43m=\u001B[39;49m\u001B[43mbatch_size\u001B[49m\u001B[43m,\u001B[49m\n\u001B[1;32m   1296\u001B[0m \u001B[43m    \u001B[49m\u001B[43msteps\u001B[49m\u001B[38;5;241;43m=\u001B[39;49m\u001B[43msteps_per_epoch\u001B[49m\u001B[43m,\u001B[49m\n\u001B[1;32m   1297\u001B[0m \u001B[43m    \u001B[49m\u001B[43mepochs\u001B[49m\u001B[38;5;241;43m=\u001B[39;49m\u001B[43mepochs\u001B[49m\u001B[43m \u001B[49m\u001B[38;5;241;43m-\u001B[39;49m\u001B[43m \u001B[49m\u001B[43minitial_epoch\u001B[49m\u001B[43m,\u001B[49m\n\u001B[1;32m   1298\u001B[0m \u001B[43m    \u001B[49m\u001B[43msample_weights\u001B[49m\u001B[38;5;241;43m=\u001B[39;49m\u001B[43msample_weight\u001B[49m\u001B[43m,\u001B[49m\n\u001B[1;32m   1299\u001B[0m \u001B[43m    \u001B[49m\u001B[43mshuffle\u001B[49m\u001B[38;5;241;43m=\u001B[39;49m\u001B[43mshuffle\u001B[49m\u001B[43m,\u001B[49m\n\u001B[1;32m   1300\u001B[0m \u001B[43m    \u001B[49m\u001B[43mmax_queue_size\u001B[49m\u001B[38;5;241;43m=\u001B[39;49m\u001B[43mmax_queue_size\u001B[49m\u001B[43m,\u001B[49m\n\u001B[1;32m   1301\u001B[0m \u001B[43m    \u001B[49m\u001B[43mworkers\u001B[49m\u001B[38;5;241;43m=\u001B[39;49m\u001B[43mworkers\u001B[49m\u001B[43m,\u001B[49m\n\u001B[1;32m   1302\u001B[0m \u001B[43m    \u001B[49m\u001B[43muse_multiprocessing\u001B[49m\u001B[38;5;241;43m=\u001B[39;49m\u001B[43muse_multiprocessing\u001B[49m\u001B[43m,\u001B[49m\n\u001B[1;32m   1303\u001B[0m \u001B[43m    \u001B[49m\u001B[43mdistribution_strategy\u001B[49m\u001B[38;5;241;43m=\u001B[39;49m\u001B[43mtf\u001B[49m\u001B[38;5;241;43m.\u001B[39;49m\u001B[43mdistribute\u001B[49m\u001B[38;5;241;43m.\u001B[39;49m\u001B[43mget_strategy\u001B[49m\u001B[43m(\u001B[49m\u001B[43m)\u001B[49m\u001B[43m,\u001B[49m\n\u001B[1;32m   1304\u001B[0m \u001B[43m    \u001B[49m\u001B[43mmodel\u001B[49m\u001B[38;5;241;43m=\u001B[39;49m\u001B[43mmodel\u001B[49m\u001B[43m,\u001B[49m\n\u001B[1;32m   1305\u001B[0m \u001B[43m    \u001B[49m\u001B[43mpss_evaluation_shards\u001B[49m\u001B[38;5;241;43m=\u001B[39;49m\u001B[43mpss_evaluation_shards\u001B[49m\u001B[43m,\u001B[49m\n\u001B[1;32m   1306\u001B[0m \u001B[43m\u001B[49m\u001B[43m)\u001B[49m\n\u001B[1;32m   1308\u001B[0m strategy \u001B[38;5;241m=\u001B[39m tf\u001B[38;5;241m.\u001B[39mdistribute\u001B[38;5;241m.\u001B[39mget_strategy()\n\u001B[1;32m   1310\u001B[0m \u001B[38;5;28mself\u001B[39m\u001B[38;5;241m.\u001B[39m_current_step \u001B[38;5;241m=\u001B[39m \u001B[38;5;241m0\u001B[39m\n",
      "File \u001B[0;32m/Library/Frameworks/Python.framework/Versions/3.11/lib/python3.11/site-packages/keras/src/engine/data_adapter.py:370\u001B[0m, in \u001B[0;36mTensorLikeDataAdapter.__init__\u001B[0;34m(self, x, y, sample_weights, sample_weight_modes, batch_size, epochs, steps, shuffle, **kwargs)\u001B[0m\n\u001B[1;32m    365\u001B[0m options\u001B[38;5;241m.\u001B[39mexperimental_distribute\u001B[38;5;241m.\u001B[39mauto_shard_policy \u001B[38;5;241m=\u001B[39m (\n\u001B[1;32m    366\u001B[0m     tf\u001B[38;5;241m.\u001B[39mdata\u001B[38;5;241m.\u001B[39mexperimental\u001B[38;5;241m.\u001B[39mAutoShardPolicy\u001B[38;5;241m.\u001B[39mDATA\n\u001B[1;32m    367\u001B[0m )\n\u001B[1;32m    368\u001B[0m dataset \u001B[38;5;241m=\u001B[39m dataset\u001B[38;5;241m.\u001B[39mwith_options(options)\n\u001B[0;32m--> 370\u001B[0m \u001B[38;5;28mself\u001B[39m\u001B[38;5;241m.\u001B[39m_dataset \u001B[38;5;241m=\u001B[39m \u001B[43mdataset\u001B[49m\u001B[38;5;241;43m.\u001B[39;49m\u001B[43mprefetch\u001B[49m\u001B[43m(\u001B[49m\u001B[43mtf\u001B[49m\u001B[38;5;241;43m.\u001B[39;49m\u001B[43mdata\u001B[49m\u001B[38;5;241;43m.\u001B[39;49m\u001B[43mAUTOTUNE\u001B[49m\u001B[43m)\u001B[49m\n",
      "File \u001B[0;32m/Library/Frameworks/Python.framework/Versions/3.11/lib/python3.11/site-packages/tensorflow/python/data/ops/dataset_ops.py:1240\u001B[0m, in \u001B[0;36mDatasetV2.prefetch\u001B[0;34m(self, buffer_size, name)\u001B[0m\n\u001B[1;32m   1212\u001B[0m \u001B[38;5;28;01mdef\u001B[39;00m \u001B[38;5;21mprefetch\u001B[39m(\u001B[38;5;28mself\u001B[39m, buffer_size, name\u001B[38;5;241m=\u001B[39m\u001B[38;5;28;01mNone\u001B[39;00m) \u001B[38;5;241m-\u001B[39m\u001B[38;5;241m>\u001B[39m \u001B[38;5;124m\"\u001B[39m\u001B[38;5;124mDatasetV2\u001B[39m\u001B[38;5;124m\"\u001B[39m:\n\u001B[1;32m   1213\u001B[0m \u001B[38;5;250m  \u001B[39m\u001B[38;5;124;03m\"\"\"Creates a `Dataset` that prefetches elements from this dataset.\u001B[39;00m\n\u001B[1;32m   1214\u001B[0m \n\u001B[1;32m   1215\u001B[0m \u001B[38;5;124;03m  Most dataset input pipelines should end with a call to `prefetch`. This\u001B[39;00m\n\u001B[0;32m   (...)\u001B[0m\n\u001B[1;32m   1238\u001B[0m \u001B[38;5;124;03m    A new `Dataset` with the transformation applied as described above.\u001B[39;00m\n\u001B[1;32m   1239\u001B[0m \u001B[38;5;124;03m  \"\"\"\u001B[39;00m\n\u001B[0;32m-> 1240\u001B[0m   \u001B[38;5;28;01mreturn\u001B[39;00m \u001B[43mprefetch_op\u001B[49m\u001B[38;5;241;43m.\u001B[39;49m\u001B[43m_prefetch\u001B[49m\u001B[43m(\u001B[49m\u001B[43m  \u001B[49m\u001B[38;5;66;43;03m# pylint: disable=protected-access\u001B[39;49;00m\n\u001B[1;32m   1241\u001B[0m \u001B[43m      \u001B[49m\u001B[38;5;28;43mself\u001B[39;49m\u001B[43m,\u001B[49m\u001B[43m \u001B[49m\u001B[43mbuffer_size\u001B[49m\u001B[43m,\u001B[49m\u001B[43m \u001B[49m\u001B[43mname\u001B[49m\u001B[38;5;241;43m=\u001B[39;49m\u001B[43mname\u001B[49m\u001B[43m)\u001B[49m\n",
      "File \u001B[0;32m/Library/Frameworks/Python.framework/Versions/3.11/lib/python3.11/site-packages/tensorflow/python/data/ops/prefetch_op.py:28\u001B[0m, in \u001B[0;36m_prefetch\u001B[0;34m(input_dataset, buffer_size, name)\u001B[0m\n\u001B[1;32m     26\u001B[0m \u001B[38;5;28;01mif\u001B[39;00m debug_mode\u001B[38;5;241m.\u001B[39mDEBUG_MODE:\n\u001B[1;32m     27\u001B[0m   \u001B[38;5;28;01mreturn\u001B[39;00m input_dataset\n\u001B[0;32m---> 28\u001B[0m \u001B[38;5;28;01mreturn\u001B[39;00m \u001B[43m_PrefetchDataset\u001B[49m\u001B[43m(\u001B[49m\u001B[43minput_dataset\u001B[49m\u001B[43m,\u001B[49m\u001B[43m \u001B[49m\u001B[43mbuffer_size\u001B[49m\u001B[43m,\u001B[49m\u001B[43m \u001B[49m\u001B[43mname\u001B[49m\u001B[38;5;241;43m=\u001B[39;49m\u001B[43mname\u001B[49m\u001B[43m)\u001B[49m\n",
      "File \u001B[0;32m/Library/Frameworks/Python.framework/Versions/3.11/lib/python3.11/site-packages/tensorflow/python/data/ops/prefetch_op.py:46\u001B[0m, in \u001B[0;36m_PrefetchDataset.__init__\u001B[0;34m(self, input_dataset, buffer_size, slack_period, name)\u001B[0m\n\u001B[1;32m     42\u001B[0m \u001B[38;5;66;03m# pylint: disable=protected-access\u001B[39;00m\n\u001B[1;32m     43\u001B[0m \u001B[38;5;66;03m# We colocate the prefetch dataset with its input as this collocation only\u001B[39;00m\n\u001B[1;32m     44\u001B[0m \u001B[38;5;66;03m# happens automatically in graph mode.\u001B[39;00m\n\u001B[1;32m     45\u001B[0m \u001B[38;5;28;01mwith\u001B[39;00m ops\u001B[38;5;241m.\u001B[39mcolocate_with(input_dataset\u001B[38;5;241m.\u001B[39m_variant_tensor):\n\u001B[0;32m---> 46\u001B[0m   variant_tensor \u001B[38;5;241m=\u001B[39m \u001B[43mgen_dataset_ops\u001B[49m\u001B[38;5;241;43m.\u001B[39;49m\u001B[43mprefetch_dataset\u001B[49m\u001B[43m(\u001B[49m\n\u001B[1;32m     47\u001B[0m \u001B[43m      \u001B[49m\u001B[43minput_dataset\u001B[49m\u001B[38;5;241;43m.\u001B[39;49m\u001B[43m_variant_tensor\u001B[49m\u001B[43m,\u001B[49m\n\u001B[1;32m     48\u001B[0m \u001B[43m      \u001B[49m\u001B[43mbuffer_size\u001B[49m\u001B[38;5;241;43m=\u001B[39;49m\u001B[38;5;28;43mself\u001B[39;49m\u001B[38;5;241;43m.\u001B[39;49m\u001B[43m_buffer_size\u001B[49m\u001B[43m,\u001B[49m\n\u001B[1;32m     49\u001B[0m \u001B[43m      \u001B[49m\u001B[43mslack_period\u001B[49m\u001B[38;5;241;43m=\u001B[39;49m\u001B[43mslack_period\u001B[49m\u001B[43m,\u001B[49m\n\u001B[1;32m     50\u001B[0m \u001B[43m      \u001B[49m\u001B[38;5;241;43m*\u001B[39;49m\u001B[38;5;241;43m*\u001B[39;49m\u001B[38;5;28;43mself\u001B[39;49m\u001B[38;5;241;43m.\u001B[39;49m\u001B[43m_common_args\u001B[49m\u001B[43m)\u001B[49m\n\u001B[1;32m     51\u001B[0m \u001B[38;5;28msuper\u001B[39m()\u001B[38;5;241m.\u001B[39m\u001B[38;5;21m__init__\u001B[39m(input_dataset, variant_tensor)\n",
      "File \u001B[0;32m/Library/Frameworks/Python.framework/Versions/3.11/lib/python3.11/site-packages/tensorflow/python/ops/gen_dataset_ops.py:5933\u001B[0m, in \u001B[0;36mprefetch_dataset\u001B[0;34m(input_dataset, buffer_size, output_types, output_shapes, slack_period, legacy_autotune, buffer_size_min, metadata, name)\u001B[0m\n\u001B[1;32m   5931\u001B[0m \u001B[38;5;28;01mif\u001B[39;00m tld\u001B[38;5;241m.\u001B[39mis_eager:\n\u001B[1;32m   5932\u001B[0m   \u001B[38;5;28;01mtry\u001B[39;00m:\n\u001B[0;32m-> 5933\u001B[0m     _result \u001B[38;5;241m=\u001B[39m \u001B[43mpywrap_tfe\u001B[49m\u001B[38;5;241;43m.\u001B[39;49m\u001B[43mTFE_Py_FastPathExecute\u001B[49m\u001B[43m(\u001B[49m\n\u001B[1;32m   5934\u001B[0m \u001B[43m      \u001B[49m\u001B[43m_ctx\u001B[49m\u001B[43m,\u001B[49m\u001B[43m \u001B[49m\u001B[38;5;124;43m\"\u001B[39;49m\u001B[38;5;124;43mPrefetchDataset\u001B[39;49m\u001B[38;5;124;43m\"\u001B[39;49m\u001B[43m,\u001B[49m\u001B[43m \u001B[49m\u001B[43mname\u001B[49m\u001B[43m,\u001B[49m\u001B[43m \u001B[49m\u001B[43minput_dataset\u001B[49m\u001B[43m,\u001B[49m\u001B[43m \u001B[49m\u001B[43mbuffer_size\u001B[49m\u001B[43m,\u001B[49m\n\u001B[1;32m   5935\u001B[0m \u001B[43m      \u001B[49m\u001B[38;5;124;43m\"\u001B[39;49m\u001B[38;5;124;43moutput_types\u001B[39;49m\u001B[38;5;124;43m\"\u001B[39;49m\u001B[43m,\u001B[49m\u001B[43m \u001B[49m\u001B[43moutput_types\u001B[49m\u001B[43m,\u001B[49m\u001B[43m \u001B[49m\u001B[38;5;124;43m\"\u001B[39;49m\u001B[38;5;124;43moutput_shapes\u001B[39;49m\u001B[38;5;124;43m\"\u001B[39;49m\u001B[43m,\u001B[49m\u001B[43m \u001B[49m\u001B[43moutput_shapes\u001B[49m\u001B[43m,\u001B[49m\n\u001B[1;32m   5936\u001B[0m \u001B[43m      \u001B[49m\u001B[38;5;124;43m\"\u001B[39;49m\u001B[38;5;124;43mslack_period\u001B[39;49m\u001B[38;5;124;43m\"\u001B[39;49m\u001B[43m,\u001B[49m\u001B[43m \u001B[49m\u001B[43mslack_period\u001B[49m\u001B[43m,\u001B[49m\u001B[43m \u001B[49m\u001B[38;5;124;43m\"\u001B[39;49m\u001B[38;5;124;43mlegacy_autotune\u001B[39;49m\u001B[38;5;124;43m\"\u001B[39;49m\u001B[43m,\u001B[49m\u001B[43m \u001B[49m\u001B[43mlegacy_autotune\u001B[49m\u001B[43m,\u001B[49m\n\u001B[1;32m   5937\u001B[0m \u001B[43m      \u001B[49m\u001B[38;5;124;43m\"\u001B[39;49m\u001B[38;5;124;43mbuffer_size_min\u001B[39;49m\u001B[38;5;124;43m\"\u001B[39;49m\u001B[43m,\u001B[49m\u001B[43m \u001B[49m\u001B[43mbuffer_size_min\u001B[49m\u001B[43m,\u001B[49m\u001B[43m \u001B[49m\u001B[38;5;124;43m\"\u001B[39;49m\u001B[38;5;124;43mmetadata\u001B[39;49m\u001B[38;5;124;43m\"\u001B[39;49m\u001B[43m,\u001B[49m\u001B[43m \u001B[49m\u001B[43mmetadata\u001B[49m\u001B[43m)\u001B[49m\n\u001B[1;32m   5938\u001B[0m     \u001B[38;5;28;01mreturn\u001B[39;00m _result\n\u001B[1;32m   5939\u001B[0m   \u001B[38;5;28;01mexcept\u001B[39;00m _core\u001B[38;5;241m.\u001B[39m_NotOkStatusException \u001B[38;5;28;01mas\u001B[39;00m e:\n",
      "\u001B[0;31mKeyboardInterrupt\u001B[0m: "
     ]
    }
   ],
   "source": [
    "num_failures_2 = 0\n",
    "t_orig = time.time()\n",
    "total_photos = len(os.listdir(UNKNOWN_FACES_PATH))\n",
    "total_processed = 0\n",
    "t = time.time()\n",
    "for face in os.listdir(UNKNOWN_FACES_PATH):\n",
    "    face_path = os.path.join(UNKNOWN_FACES_PATH, face)\n",
    "    im = deprocess_image(preprocess(face_path, MODEL_INPUT_IMAGE_DIMENSIONS))\n",
    "    pred = model.predict(np.array([im]), verbose=0)[0]\n",
    "    if model_prediction(pred, [None, None], required_bound=required_bound, certainty_bound=certainty_bound) != \"unknown\":\n",
    "        num_failures_2 += 1\n",
    "        print(\"\\rNumber of failures for unknown images: \" + str(num_failures_2) + \"; \" + str(pred))\n",
    "        im = Image.fromarray(im)\n",
    "        im.save(os.path.join(MODEL_2_FAILED_PATH, face))\n",
    "    total_processed += 1\n",
    "    t = display_progressbar(t1=t, t_orig=t_orig, total_photos=total_photos, total_processed=total_processed)"
   ],
   "metadata": {
    "collapsed": false,
    "ExecuteTime": {
     "end_time": "2024-03-13T18:44:19.121671Z",
     "start_time": "2024-03-13T18:38:48.072756Z"
    }
   },
   "id": "7e5ac5fcf7952100",
   "execution_count": 13
  },
  {
   "cell_type": "code",
   "outputs": [],
   "source": [
    "print(\"Total failures: \" + str(num_failures_0 + num_failures_1 + num_failures_2))"
   ],
   "metadata": {
    "collapsed": false
   },
   "id": "778ffb468ff2ea08"
  }
 ],
 "metadata": {
  "kernelspec": {
   "display_name": "Python 3",
   "language": "python",
   "name": "python3"
  },
  "language_info": {
   "codemirror_mode": {
    "name": "ipython",
    "version": 2
   },
   "file_extension": ".py",
   "mimetype": "text/x-python",
   "name": "python",
   "nbconvert_exporter": "python",
   "pygments_lexer": "ipython2",
   "version": "2.7.6"
  }
 },
 "nbformat": 4,
 "nbformat_minor": 5
}
