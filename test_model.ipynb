{
 "cells": [
  {
   "cell_type": "code",
   "execution_count": 1,
   "id": "initial_id",
   "metadata": {
    "collapsed": true,
    "ExecuteTime": {
     "end_time": "2024-03-13T03:48:43.318305Z",
     "start_time": "2024-03-13T03:48:39.417093Z"
    }
   },
   "outputs": [],
   "source": [
    "import tensorflow as tf\n",
    "import os\n",
    "from constants import UNKNOWN_FACES_PATH, MODEL_INPUT_IMAGE_DIMENSIONS, PATH_TO_FAILED_MODEL_EVALUATION_IMAGES, MODEL_0_FAILED_PATH, MODEL_1_FAILED_PATH, MODEL_2_FAILED_PATH, KNOWN_FACE_1_PATH, KNOWN_FACE_2_PATH, MODEL_PATH\n",
    "from helpers import preprocess, deprocess_image, display_progressbar, model_prediction\n",
    "import numpy as np\n",
    "import time\n",
    "from face_tracking import face_detection\n",
    "from PIL import Image\n",
    "import shutil\n",
    "\n",
    "model = tf.keras.models.load_model(os.path.join(MODEL_PATH, 'model_best_with_josh_1.h5'))\n",
    "required_bound=.8\n",
    "certainty_bound=.1"
   ]
  },
  {
   "cell_type": "markdown",
   "source": [
    "#### Check model manually"
   ],
   "metadata": {
    "collapsed": false
   },
   "id": "14e0b358f38e9f2b"
  },
  {
   "cell_type": "code",
   "outputs": [],
   "source": [
    "face_detection(model=model, required_bound=required_bound, certainty_bound=certainty_bound)"
   ],
   "metadata": {
    "collapsed": false,
    "ExecuteTime": {
     "end_time": "2024-03-13T03:49:12.182448Z",
     "start_time": "2024-03-13T03:48:43.319177Z"
    }
   },
   "id": "f288b800e7b11f28",
   "execution_count": 2
  },
  {
   "cell_type": "markdown",
   "source": [
    "#### Delete old files"
   ],
   "metadata": {
    "collapsed": false
   },
   "id": "e1f53e2d81754741"
  },
  {
   "cell_type": "code",
   "outputs": [],
   "source": [
    "for directory in os.listdir(PATH_TO_FAILED_MODEL_EVALUATION_IMAGES):\n",
    "    if os.path.isdir(os.path.join(PATH_TO_FAILED_MODEL_EVALUATION_IMAGES, directory)):\n",
    "        for file in os.listdir(os.path.join(PATH_TO_FAILED_MODEL_EVALUATION_IMAGES, directory)):\n",
    "            file_path = os.path.join(PATH_TO_FAILED_MODEL_EVALUATION_IMAGES, directory, file)\n",
    "            try:\n",
    "                if os.path.isfile(file_path) or os.path.islink(file_path):\n",
    "                    os.unlink(file_path)\n",
    "                elif os.path.isdir(file_path):\n",
    "                    shutil.rmtree(file_path)\n",
    "            except Exception as e:\n",
    "                print('Failed to delete %s. Reason: %s' % (file_path, e))"
   ],
   "metadata": {
    "collapsed": false,
    "ExecuteTime": {
     "end_time": "2024-03-13T03:27:15.681750Z",
     "start_time": "2024-03-13T03:27:15.662280Z"
    }
   },
   "id": "42e7775d771df771",
   "execution_count": 2
  },
  {
   "cell_type": "markdown",
   "source": [
    "### Evaluate model on all data"
   ],
   "metadata": {
    "collapsed": false
   },
   "id": "a71a954e92d43c11"
  },
  {
   "cell_type": "markdown",
   "source": [
    "#### Evaluate on photos of Stephen"
   ],
   "metadata": {
    "collapsed": false
   },
   "id": "c97494e48dd689f4"
  },
  {
   "cell_type": "code",
   "outputs": [],
   "source": [
    "num_failures_0 = 0\n",
    "t_orig = time.time()\n",
    "total_photos = len(os.listdir(KNOWN_FACE_1_PATH))\n",
    "total_processed = 0\n",
    "t = time.time()\n",
    "for face in os.listdir(KNOWN_FACE_1_PATH):\n",
    "    face_path = os.path.join(KNOWN_FACE_1_PATH, face)\n",
    "    im = deprocess_image(preprocess(face_path, MODEL_INPUT_IMAGE_DIMENSIONS))\n",
    "    pred = model.predict(np.array([im]), verbose=0)[0]\n",
    "    if  model_prediction(pred, [None, None], required_bound=required_bound, certainty_bound=certainty_bound) != \"0\":\n",
    "        num_failures_0 += 1\n",
    "        print(\"\\rNumber of failures for stephen images: \" + str(num_failures_0) + \"; \" + str(pred))\n",
    "        im = Image.fromarray(im)\n",
    "        im.save(os.path.join(MODEL_0_FAILED_PATH, face))\n",
    "    total_processed += 1\n",
    "    t = display_progressbar(t1=t, t_orig=t_orig, total_photos=total_photos, total_processed=total_processed)"
   ],
   "metadata": {
    "collapsed": false,
    "is_executing": true
   },
   "id": "ecd45198a1c3ec2e"
  },
  {
   "cell_type": "markdown",
   "source": [
    "#### Evaluate on photos of Josh"
   ],
   "metadata": {
    "collapsed": false
   },
   "id": "9749cbd7ba850df2"
  },
  {
   "cell_type": "code",
   "outputs": [
    {
     "name": "stdout",
     "output_type": "stream",
     "text": [
      "Failed\n",
      "Number of failures for josh images: 1; [0.02210406 0.9999994  0.03867474]\n",
      "Number of failures for josh images: 2; [0.10301451 0.99997616 0.05116026]\n",
      "Number of failures for josh images: 3; [0.00519685 0.9999517  0.619703  ]\n",
      "Number of failures for josh images: 4; [0.0175228  0.9999975  0.11863843]\n",
      "Number of failures for josh images: 5; [0.07056522 0.99998724 0.05014376]\n",
      "Number of failures for josh images: 6; [0.00466354 0.99999356 0.4148676 ]\n",
      "Number of failures for josh images: 7; [2.4892428e-04 9.9878138e-01 9.9190760e-01]\n",
      "Number of failures for josh images: 8; [0.00359049 0.99999905 0.26583707]\n",
      "Number of failures for josh images: 9; [0.09204053 0.9999831  0.06100271]\n",
      "Number of failures for josh images: 10; [0.0089413  0.99999833 0.17193225]\n",
      "Number of failures for josh images: 11; [0.00645988 0.9999945  0.32991192]\n",
      "Number of failures for josh images: 12; [2.5408930e-04 9.9999988e-01 5.8749443e-01]\n",
      "Number of failures for josh images: 13; [0.00742598 0.99998486 0.4272935 ]\n",
      "Number of failures for josh images: 14; [0.01836817 0.999998   0.10336676]\n",
      "Number of failures for josh images: 15; [0.00525847 0.9999876  0.4417299 ]\n",
      "Number of failures for josh images: 16; [0.00249731 0.9999995  0.24566503]\n",
      "Number of failures for josh images: 17; [0.00410113 0.9999896  0.47356963]\n",
      "Number of failures for josh images: 18; [7.2991080e-04 9.9999893e-01 6.2074363e-01]\n",
      "Number of failures for josh images: 19; [0.06211696 0.99985564 0.16999142]\n",
      "Number of failures for josh images: 20; [0.00229814 0.9999969  0.5084881 ]\n",
      "Number of failures for josh images: 21; [0.01161823 0.9999944  0.20058247]\n",
      "Number of failures for josh images: 22; [0.17139101 0.9999993  0.00659688]\n",
      "Number of failures for josh images: 23; [0.0034704  0.9999937  0.48475322]\n",
      "Number of failures for josh images: 24; [0.04569156 0.9996395  0.27997392]\n",
      "Number of failures for josh images: 25; [0.02143702 0.9998567  0.3678312 ]\n",
      "Number of failures for josh images: 26; [0.00200122 0.9999988  0.41292027]\n",
      "Number of failures for josh images: 27; [0.00803688 0.9999769  0.40529147]\n",
      "Number of failures for josh images: 28; [8.3463441e-04 1.0000000e+00 2.6291147e-01]\n",
      "Number of failures for josh images: 29; [0.00410632 0.9999999  0.11146012]\n",
      "Number of failures for josh images: 30; [0.0104971  0.9999982  0.13343278]\n",
      "Number of failures for josh images: 31; [0.0121418  0.99998975 0.24179226]\n",
      "Number of failures for josh images: 32; [0.17061824 0.99995446 0.04546257]\n",
      "Number of failures for josh images: 33; [0.00583072 0.99999523 0.33720374]\n",
      "Number of failures for josh images: 34; [2.6617697e-04 9.9999988e-01 6.9288367e-01]\n",
      "Number of failures for josh images: 35; [0.01452209 0.9999956  0.16771169]\n",
      "Number of failures for josh images: 36; [2.957752e-04 9.999962e-01 8.877679e-01]\n",
      "Number of failures for josh images: 37; [0.00117429 0.9999981  0.6271344 ]\n",
      "Number of failures for josh images: 38; [3.9909381e-04 9.9999976e-01 5.5968487e-01]\n",
      "Number of failures for josh images: 39; [0.00224003 0.9999975  0.5135691 ]\n",
      "Number of failures for josh images: 40; [0.00389391 0.9999975  0.29033816]\n",
      "Number of failures for josh images: 41; [0.00185462 0.99999106 0.69683784]\n",
      "Number of failures for josh images: 42; [0.00369698 0.9999511  0.6927709 ]\n",
      "Number of failures for josh images: 43; [0.36169738 0.99987674 0.02784313]\n",
      "Number of failures for josh images: 44; [0.01829309 0.99999905 0.07568155]\n",
      "Number of failures for josh images: 45; [0.0747302  0.99999976 0.01108717]\n",
      "Number of failures for josh images: 46; [0.0179943  0.9999795  0.23736344]\n",
      "Number of failures for josh images: 47; [0.00422415 0.99999404 0.42685226]\n",
      "Number of failures for josh images: 48; [0.07045081 0.9999161  0.13603154]\n",
      "Number of failures for josh images: 49; [0.00245945 0.9999999  0.12550773]\n",
      "Number of failures for josh images: 50; [0.01245481 0.99999785 0.14175434]\n",
      "Number of failures for josh images: 51; [4.1896674e-05 9.9999988e-01 9.2097968e-01]\n",
      "Number of failures for josh images: 52; [5.8190693e-04 9.9999428e-01 8.2305294e-01]\n",
      "Number of failures for josh images: 53; [0.01459059 0.99999034 0.21505775]\n",
      "Number of failures for josh images: 54; [0.00369616 0.9999987  0.31909388]\n",
      "Number of failures for josh images: 55; [0.00240464 0.9999994  0.3254939 ]\n",
      "Number of failures for josh images: 56; [0.22234012 0.9993094  0.09408122]\n",
      "Number of failures for josh images: 57; [0.00644352 0.99999726 0.23387334]\n",
      "Number of failures for josh images: 58; [4.738957e-04 9.999949e-01 8.472442e-01]\n",
      "Number of failures for josh images: 59; [0.01562366 0.99999475 0.17504953]\n",
      "Number of failures for josh images: 60; [0.01183951 0.9999187  0.4474539 ]\n",
      "Number of failures for josh images: 61; [0.02179225 0.9999989  0.05090539]\n",
      "Number of failures for josh images: 62; [8.5247244e-04 9.9999952e-01 5.0263095e-01]\n",
      "Number of failures for josh images: 63; [0.01418178 0.9999924  0.20032975]\n",
      "Number of failures for josh images: 64; [0.08568516 0.9999745  0.06242605]\n",
      "Number of failures for josh images: 65; [0.00149539 0.9999746  0.78436506]\n",
      "Number of failures for josh images: 66; [0.05966504 0.9999887  0.07215727]\n",
      "Number of failures for josh images: 67; [0.00159056 0.999998   0.5344017 ]\n",
      "Number of failures for josh images: 68; [0.02653523 0.99999726 0.0811731 ]\n",
      "Number of failures for josh images: 69; [0.11242244 0.99999964 0.00629106]\n",
      "Number of failures for josh images: 70; [0.00250593 0.999998   0.43832693]\n",
      "Number of failures for josh images: 71; [0.00200364 0.99999654 0.49901727]\n",
      "Number of failures for josh images: 72; [0.00245771 0.9999453  0.77701825]\n",
      "Number of failures for josh images: 73; [0.0787648  0.9999418  0.11120673]\n",
      "Number of failures for josh images: 74; [0.00476466 0.9999981  0.24867545]\n",
      "Number of failures for josh images: 75; [0.00756186 0.9999995  0.11917569]\n",
      "Number of failures for josh images: 76; [0.00199547 0.9999994  0.34760454]\n",
      "Number of failures for josh images: 77; [2.8987135e-05 1.0000000e+00 8.9778310e-01]\n",
      "Number of failures for josh images: 78; [0.00712488 0.9999902  0.33560205]\n",
      "Number of failures for josh images: 79; [0.01778254 0.99999654 0.12369636]\n",
      "Number of failures for josh images: 80; [9.2239020e-04 9.9999774e-01 6.8436176e-01]\n",
      "Number of failures for josh images: 81; [5.4130174e-04 9.9986029e-01 9.6000475e-01]\n",
      "Number of failures for josh images: 82; [9.9246518e-04 9.9999857e-01 5.9552747e-01]\n",
      "Number of failures for josh images: 83; [0.00426444 0.99997735 0.55300987]\n",
      "Number of failures for josh images: 84; [0.00543339 0.99998033 0.4816688 ]\n",
      "Number of failures for josh images: 85; [0.06671274 0.99999976 0.01040033]\n",
      "Number of failures for josh images: 86; [0.00192712 0.99999917 0.4112151 ]\n",
      "Number of failures for josh images: 87; [0.00223123 0.9999993  0.326889  ]\n",
      "Number of failures for josh images: 88; [0.00743058 0.99996734 0.44448203]\n",
      "Number of failures for josh images: 89; [0.05070689 0.99998784 0.08737932]\n",
      "Number of failures for josh images: 90; [0.00975986 0.99999356 0.22650138]\n",
      "Number of failures for josh images: 91; [0.00957176 0.9999635  0.43724033]\n",
      "Number of failures for josh images: 92; [0.00887325 0.9999813  0.39773068]\n",
      "Number of failures for josh images: 93; [0.02258856 0.99999666 0.09442031]\n",
      "Number of failures for josh images: 94; [0.03651144 0.99996984 0.1306502 ]\n",
      "Number of failures for josh images: 95; [0.00710935 0.999995   0.29639736]\n",
      "Number of failures for josh images: 96; [5.1348546e-04 9.9999976e-01 5.5859363e-01]\n",
      "Number of failures for josh images: 97; [0.00491276 0.9997991  0.7382387 ]\n",
      "Number of failures for josh images: 98; [0.25548556 0.99947363 0.06710185]\n",
      "Number of failures for josh images: 99; [0.00563518 0.9999993  0.17987768]\n",
      "Number of failures for josh images: 100; [8.7841897e-04 9.9999869e-01 5.7325691e-01]\n",
      "Number of failures for josh images: 101; [0.02785578 0.9999925  0.12438972]\n",
      "Number of failures for josh images: 102; [0.01293487 0.9999999  0.04696227]\n",
      "Number of failures for josh images: 103; [0.01670913 0.99999344 0.16811313]\n",
      "Number of failures for josh images: 104; [0.00200015 0.99999714 0.4892432 ]\n",
      "Number of failures for josh images: 105; [0.00178494 0.9999981  0.4825716 ]\n",
      "Number of failures for josh images: 106; [0.00386037 0.9999813  0.5550615 ]\n",
      "Number of failures for josh images: 107; [9.8894734e-04 9.9999988e-01 3.0892196e-01]\n",
      "Number of failures for josh images: 108; [0.00485444 0.9999281  0.62968296]\n",
      "Number of failures for josh images: 109; [0.00104662 0.99999964 0.44819722]\n",
      "Number of failures for josh images: 110; [0.00335522 0.9999988  0.3103146 ]\n",
      "Number of failures for josh images: 111; [0.0377592  0.99991953 0.21982841]\n",
      "Number of failures for josh images: 112; [0.00899665 0.99999046 0.33052814]\n",
      "Number of failures for josh images: 113; [2.2679822e-04 1.0000000e+00 5.7456791e-01]\n",
      "Number of failures for josh images: 114; [0.00297766 0.9999727  0.65338403]\n",
      "Number of failures for josh images: 115; [0.00343672 0.9999938  0.43800253]\n",
      "Number of failures for josh images: 116; [0.07620992 0.9999958  0.03669404]\n",
      "Number of failures for josh images: 117; [0.00403667 0.99998116 0.553209  ]\n",
      "Number of failures for josh images: 118; [0.00132569 0.9999988  0.48012024]\n",
      "Number of failures for josh images: 119; [0.00531229 0.9999454  0.6576907 ]\n",
      "Number of failures for josh images: 120; [0.09079227 0.9999939  0.03309598]\n",
      "Number of failures for josh images: 121; [0.01512139 0.9992538  0.6638418 ]\n",
      "Number of failures for josh images: 122; [0.00608019 0.9999858  0.47949907]\n",
      "Number of failures for josh images: 123; [0.00214842 0.99999607 0.5727355 ]\n",
      "Number of failures for josh images: 124; [0.33414856 0.9994497  0.04448784]\n",
      "Number of failures for josh images: 125; [0.1702856  0.9939604  0.36852586]\n",
      "Number of failures for josh images: 126; [0.0109678  0.9999987  0.11880828]\n",
      "Number of failures for josh images: 127; [0.01164809 0.999995   0.21956778]\n",
      "Number of failures for josh images: 128; [0.00694842 0.9999999  0.08574348]\n",
      "Number of failures for josh images: 129; [0.2890827  0.9985964  0.09256362]\n",
      "Number of failures for josh images: 130; [0.00734819 0.99999964 0.08706919]\n",
      "Number of failures for josh images: 131; [8.1070408e-04 9.9999917e-01 5.7093203e-01]\n",
      "Number of failures for josh images: 132; [0.00368238 0.9999987  0.30768368]\n",
      "Number of failures for josh images: 133; [0.02183779 0.9999975  0.08794755]\n",
      "Number of failures for josh images: 134; [0.00226138 0.99999654 0.49460816]\n",
      "Number of failures for josh images: 135; [0.00850226 0.999987   0.3434281 ]\n",
      "Number of failures for josh images: 136; [0.00665454 0.99999785 0.20542327]\n",
      "Number of failures for josh images: 137; [0.11307984 0.99933165 0.20101672]\n",
      "Number of failures for josh images: 138; [0.00802931 0.99999225 0.3167001 ]\n",
      "Number of failures for josh images: 139; [0.04082397 0.9999658  0.14106683]\n",
      "Number of failures for josh images: 140; [0.0077119  0.9999994  0.13456151]\n",
      "Number of failures for josh images: 141; [0.00369346 0.9998416  0.7917686 ]\n",
      "Number of failures for josh images: 142; [0.00312681 0.99999344 0.5267462 ]\n",
      "Number of failures for josh images: 143; [0.02370718 0.9999957  0.10608093]\n",
      "Number of failures for josh images: 144; [0.00494088 0.9999908  0.42558196]\n",
      "Number of failures for josh images: 145; [0.02179834 0.99999    0.16402815]\n",
      "Number of failures for josh images: 146; [0.02753258 0.99993765 0.22712211]\n",
      "Number of failures for josh images: 147; [0.00767988 0.9999938  0.28986984]\n",
      "Number of failures for josh images: 148; [0.00290848 0.99999785 0.3851612 ]\n",
      "Number of failures for josh images: 149; [0.00861299 0.99999344 0.2773091 ]\n",
      "Number of failures for josh images: 150; [0.00363694 0.99999666 0.3770142 ]\n",
      "Number of failures for josh images: 151; [0.04730805 0.99998605 0.10441396]\n",
      "Number of failures for josh images: 152; [0.0028596  0.99997604 0.6819253 ]\n",
      "Number of failures for josh images: 153; [0.00154157 0.9999993  0.40868956]\n",
      "Number of failures for josh images: 154; [0.04955008 0.9999697  0.12428766]\n",
      "Number of failures for josh images: 155; [0.00267592 0.99999464 0.53769433]\n",
      "Number of failures for josh images: 156; [0.01488597 0.999985   0.27250373]\n",
      "Number of failures for josh images: 157; [0.28339195 0.9999981  0.00474194]\n",
      "Number of failures for josh images: 158; [0.00161766 0.999987   0.69394076]\n",
      "Number of failures for josh images: 159; [0.00941973 0.9999876  0.32378247]\n",
      "Number of failures for josh images: 160; [0.01672918 0.9999969  0.12909754]\n",
      "Number of failures for josh images: 161; [9.02008207e-04 1.00000000e+00 1.14745304e-01]\n",
      "Number of failures for josh images: 162; [0.00190409 0.99999964 0.28094953]\n",
      "Number of failures for josh images: 163; [8.3299534e-04 9.9999988e-01 3.4891963e-01]\n",
      "Number of failures for josh images: 164; [0.0581854  0.99997985 0.09629802]\n",
      "Number of failures for josh images: 165; [9.809036e-04 9.999987e-01 5.858914e-01]\n",
      "Number of failures for josh images: 166; [2.3393589e-04 9.9999976e-01 6.9442600e-01]\n",
      "Number of failures for josh images: 167; [0.00235163 0.9999956  0.5175727 ]\n",
      "Number of failures for josh images: 168; [0.00749268 0.999894   0.58598197]\n",
      "Number of failures for josh images: 169; [3.3272480e-04 9.9999809e-01 8.1977093e-01]\n",
      "Number of failures for josh images: 170; [0.00125022 0.99999785 0.6139465 ]\n",
      "Number of failures for josh images: 171; [0.00318034 0.9999987  0.30655476]\n",
      "Number of failures for josh images: 172; [0.00492176 0.9999908  0.43494922]\n",
      "Number of failures for josh images: 173; [0.0049388 0.9999995 0.1858207]\n",
      "Number of failures for josh images: 174; [0.0493797 1.        0.0049227]\n",
      "Number of failures for josh images: 175; [0.01374304 0.99999714 0.15282293]\n",
      "Number of failures for josh images: 176; [0.00262732 0.99999344 0.52891177]\n",
      "Number of failures for josh images: 177; [0.01272766 0.9999982  0.13213058]\n",
      "Number of failures for josh images: 178; [0.00188466 0.9999994  0.3673448 ]\n",
      "Number of failures for josh images: 179; [0.00136945 0.9999995  0.40835536]\n",
      "Number of failures for josh images: 180; [0.00704842 0.99994004 0.53223306]\n",
      "Number of failures for josh images: 181; [0.00122543 0.9999995  0.45678648]\n",
      "Number of failures for josh images: 182; [0.05671457 0.9998956  0.16067056]\n",
      "Number of failures for josh images: 183; [0.00756756 0.9999963  0.2657891 ]\n",
      "Number of failures for josh images: 184; [0.2254179  0.99934953 0.08484781]\n",
      "Number of failures for josh images: 185; [0.06941136 0.9999317  0.10837033]\n",
      "Number of failures for josh images: 186; [0.11896232 0.99998784 0.0375312 ]\n",
      "Number of failures for josh images: 187; [0.00982442 0.99999964 0.0869416 ]\n",
      "Number of failures for josh images: 188; [0.00926347 0.9999989  0.12668058]\n",
      "Number of failures for josh images: 189; [0.00440564 0.99998593 0.5087258 ]\n",
      "Number of failures for josh images: 190; [0.00221182 0.99999785 0.51982474]\n",
      "Number of failures for josh images: 191; [0.00328011 0.9999995  0.22081546]\n",
      "Number of failures for josh images: 192; [0.04403109 0.99998987 0.0911369 ]\n",
      "Number of failures for josh images: 193; [0.00402606 0.99998903 0.5001386 ]\n",
      "Number of failures for josh images: 194; [0.00452855 0.9999987  0.26634803]\n",
      "Number of failures for josh images: 195; [0.01295958 0.9999863  0.26583466]\n",
      "Number of failures for josh images: 196; [0.02922017 0.99998784 0.14975743]\n",
      "Number of failures for josh images: 197; [0.14749503 0.9999981  0.0139739 ]\n",
      "Number of failures for josh images: 198; [0.06811218 0.9998005  0.19719626]\n",
      "Number of failures for josh images: 199; [1.4745819e-04 9.9999928e-01 8.5821307e-01]\n",
      "Number of failures for josh images: 200; [0.00114621 0.9999871  0.7920749 ]\n",
      "Number of failures for josh images: 201; [0.00318508 0.9997712  0.8160535 ]\n",
      "Number of failures for josh images: 202; [0.00161618 0.9999994  0.39546505]\n",
      "Number of failures for josh images: 203; [0.13340281 0.99999607 0.0204765 ]\n",
      "Number of failures for josh images: 204; [0.00752083 0.99999094 0.35914928]\n",
      "Number of failures for josh images: 205; [0.09644648 0.9999975  0.02602164]\n",
      "Number of failures for josh images: 206; [0.01761313 0.9999964  0.12426301]\n",
      "Number of failures for josh images: 207; [7.0216694e-05 9.9887818e-01 9.9769408e-01]\n",
      "Number of failures for josh images: 208; [9.0512447e-04 9.9999714e-01 7.0254141e-01]\n",
      "Number of failures for josh images: 209; [0.01614038 0.99999344 0.16768683]\n",
      "Number of failures for josh images: 210; [0.05754568 0.99999917 0.02409527]\n",
      "Number of failures for josh images: 211; [7.0747174e-04 9.9999964e-01 5.1121318e-01]\n",
      "Number of failures for josh images: 212; [0.03381734 0.9999348  0.21312016]\n",
      "Number of failures for josh images: 213; [0.00628392 0.99999845 0.24066457]\n",
      "Number of failures for josh images: 214; [8.9478109e-04 9.9999917e-01 5.8769357e-01]\n",
      "Number of failures for josh images: 215; [0.00129828 0.9999999  0.2515043 ]\n",
      "Number of failures for josh images: 216; [0.02129752 0.9999827  0.20059828]\n",
      "Number of failures for josh images: 217; [0.02501723 0.99999523 0.10589588]\n",
      "Number of failures for josh images: 218; [0.00183869 0.9999893  0.67191964]\n",
      "Number of failures for josh images: 219; [0.01018287 0.9999902  0.25875235]\n",
      "Number of failures for josh images: 220; [0.00257565 0.99999857 0.3906186 ]\n"
     ]
    }
   ],
   "source": [
    "num_failures_1 = 0\n",
    "t_orig = time.time()\n",
    "total_photos = len(os.listdir(KNOWN_FACE_2_PATH))\n",
    "total_processed = 0\n",
    "t = time.time()\n",
    "for face in os.listdir(KNOWN_FACE_2_PATH):\n",
    "    face_path = os.path.join(KNOWN_FACE_2_PATH, face)\n",
    "    im = deprocess_image(preprocess(face_path, MODEL_INPUT_IMAGE_DIMENSIONS))\n",
    "    pred = model.predict(np.array([im]), verbose=0)[0]\n",
    "    if model_prediction(pred, [None, None], required_bound=required_bound, certainty_bound=certainty_bound) != \"1\":\n",
    "        num_failures_1 += 1\n",
    "        print(\"\\rNumber of failures for josh images: \" + str(num_failures_1) + \"; \" + str(pred))\n",
    "        im = Image.fromarray(im)\n",
    "        im.save(os.path.join(MODEL_1_FAILED_PATH, face))\n",
    "    total_processed += 1\n",
    "    t = display_progressbar(t1=t, t_orig=t_orig, total_photos=total_photos, total_processed=total_processed)"
   ],
   "metadata": {
    "collapsed": false,
    "is_executing": true,
    "ExecuteTime": {
     "start_time": "2024-03-13T03:28:43.830049Z"
    }
   },
   "id": "873a207bec9c20b7",
   "execution_count": null
  },
  {
   "cell_type": "markdown",
   "source": [
    "#### Evaluate on photos of unknown people"
   ],
   "metadata": {
    "collapsed": false
   },
   "id": "aa07c00b9dba6440"
  },
  {
   "cell_type": "code",
   "outputs": [],
   "source": [
    "num_failures_2 = 0\n",
    "t_orig = time.time()\n",
    "total_photos = len(os.listdir(UNKNOWN_FACES_PATH))\n",
    "total_processed = 0\n",
    "t = time.time()\n",
    "for face in os.listdir(UNKNOWN_FACES_PATH):\n",
    "    face_path = os.path.join(UNKNOWN_FACES_PATH, face)\n",
    "    im = deprocess_image(preprocess(face_path, MODEL_INPUT_IMAGE_DIMENSIONS))\n",
    "    pred = model.predict(np.array([im]), verbose=0)[0]\n",
    "    if model_prediction(pred, [None, None], required_bound=required_bound, certainty_bound=certainty_bound) != \"unknown\":\n",
    "        num_failures_2 += 1\n",
    "        print(\"\\rNumber of failures for unknown images: \" + str(num_failures_2) + \"; \" + str(pred))\n",
    "        im = Image.fromarray(im)\n",
    "        im.save(os.path.join(MODEL_2_FAILED_PATH, face))\n",
    "    total_processed += 1\n",
    "    t = display_progressbar(t1=t, t_orig=t_orig, total_photos=total_photos, total_processed=total_processed)"
   ],
   "metadata": {
    "collapsed": false,
    "is_executing": true
   },
   "id": "7e5ac5fcf7952100"
  },
  {
   "cell_type": "code",
   "outputs": [],
   "source": [
    "print(\"Total failures: \" + str(num_failures_0 + num_failures_1 + num_failures_2))"
   ],
   "metadata": {
    "collapsed": false
   },
   "id": "778ffb468ff2ea08"
  }
 ],
 "metadata": {
  "kernelspec": {
   "display_name": "Python 3",
   "language": "python",
   "name": "python3"
  },
  "language_info": {
   "codemirror_mode": {
    "name": "ipython",
    "version": 2
   },
   "file_extension": ".py",
   "mimetype": "text/x-python",
   "name": "python",
   "nbconvert_exporter": "python",
   "pygments_lexer": "ipython2",
   "version": "2.7.6"
  }
 },
 "nbformat": 4,
 "nbformat_minor": 5
}
